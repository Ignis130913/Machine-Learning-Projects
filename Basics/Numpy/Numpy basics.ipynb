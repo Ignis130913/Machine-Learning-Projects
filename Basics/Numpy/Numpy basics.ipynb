{
 "cells": [
  {
   "cell_type": "markdown",
   "id": "b5c6ee64",
   "metadata": {},
   "source": [
    "#N- Dimensional array\n",
    "Numpy\n",
    "Arrays allows you to perform mathematical operations on whole blocks of data."
   ]
  },
  {
   "cell_type": "code",
   "execution_count": 2,
   "id": "34a6a70a-9ac9-4e30-a4b9-579b47fd7806",
   "metadata": {
    "ExecuteTime": {
     "end_time": "2024-03-13T03:42:13.483478Z",
     "start_time": "2024-03-13T03:42:09.385989Z"
    },
    "hide_input": false
   },
   "outputs": [
    {
     "name": "stdout",
     "output_type": "stream",
     "text": [
      "Requirement already satisfied: numpy in c:\\users\\sreeram\\miniconda3\\lib\\site-packages (1.26.4)\n"
     ]
    }
   ],
   "source": [
    "!pip install numpy \n",
    "#used to install numpy\n",
    "import numpy as np \n",
    "#used to import numpy "
   ]
  },
  {
   "cell_type": "code",
   "execution_count": 3,
   "id": "f94f3f73",
   "metadata": {
    "collapsed": false,
    "jupyter": {
     "outputs_hidden": false
    }
   },
   "outputs": [
    {
     "name": "stdout",
     "output_type": "stream",
     "text": [
      "[89.   56.34 76.   89.   98.  ]\n",
      "float64\n"
     ]
    }
   ],
   "source": [
    "scores = [89,56.34, 76,89, 98] #creating a list\n",
    "array = np.array(scores) #this function is used to create an array\n",
    "print(array)\n",
    "print(array.dtype)  # .dtype return the data type of the elements inside an array"
   ]
  },
  {
   "cell_type": "code",
   "execution_count": 4,
   "id": "997f8873",
   "metadata": {
    "collapsed": false,
    "jupyter": {
     "outputs_hidden": false
    }
   },
   "outputs": [
    {
     "name": "stdout",
     "output_type": "stream",
     "text": [
      "The Array is:  [[34 56 23 89]\n",
      " [11 45 76 34]]\n",
      "The Dimension is:  2\n",
      "The Shape of array is:  (2, 4)\n",
      "int32\n"
     ]
    }
   ],
   "source": [
    "# Nested lists with equal length, will be converted into a multidimensional array\n",
    "scores_1 = [[34,56,23,89], [11,45,76,34]]\n",
    "second_arr = np.array(scores_1)\n",
    "print(\"The Array is: \",second_arr)\n",
    "print(\"The Dimension is: \",second_arr.ndim)  #.ndim gives you the dimensions of an array.\n",
    "print(\"The Shape of array is: \",second_arr.shape) #(number of rows, number of columns)\n",
    "print(second_arr.dtype) "
   ]
  },
  {
   "cell_type": "code",
   "execution_count": 5,
   "id": "7c5ad391",
   "metadata": {
    "collapsed": false,
    "jupyter": {
     "outputs_hidden": false
    }
   },
   "outputs": [
    {
     "data": {
      "text/plain": [
       "array([0., 0., 0., 0., 0., 0., 0., 0., 0., 0.])"
      ]
     },
     "execution_count": 5,
     "metadata": {},
     "output_type": "execute_result"
    }
   ],
   "source": [
    "x = np.zeros(10) # returns a array of zeros of the size mentioned , the same applies for np.ones(10)\n",
    "x"
   ]
  },
  {
   "cell_type": "code",
   "execution_count": 6,
   "id": "237a1ef6",
   "metadata": {
    "collapsed": false,
    "jupyter": {
     "outputs_hidden": false
    }
   },
   "outputs": [
    {
     "data": {
      "text/plain": [
       "array([[0., 0., 0.],\n",
       "       [0., 0., 0.],\n",
       "       [0., 0., 0.],\n",
       "       [0., 0., 0.]])"
      ]
     },
     "execution_count": 6,
     "metadata": {},
     "output_type": "execute_result"
    }
   ],
   "source": [
    "np.zeros((4,3)) # you can also mention the shape of the array (Multi Dimentional)"
   ]
  },
  {
   "cell_type": "code",
   "execution_count": 7,
   "id": "f7489e34",
   "metadata": {
    "collapsed": false,
    "jupyter": {
     "outputs_hidden": false
    }
   },
   "outputs": [
    {
     "data": {
      "text/plain": [
       "array([ 0,  1,  2,  3,  4,  5,  6,  7,  8,  9, 10, 11, 12, 13, 14])"
      ]
     },
     "execution_count": 7,
     "metadata": {},
     "output_type": "execute_result"
    }
   ],
   "source": [
    "#This will create a NumPy array with values from 0 to the mentioned number (exclusive).\n",
    "np.arange(15) #only till 14"
   ]
  },
  {
   "cell_type": "code",
   "execution_count": 8,
   "id": "42cf3985",
   "metadata": {
    "collapsed": false,
    "jupyter": {
     "outputs_hidden": false
    }
   },
   "outputs": [
    {
     "data": {
      "text/plain": [
       "array([[1., 0., 0., 0., 0., 0.],\n",
       "       [0., 1., 0., 0., 0., 0.],\n",
       "       [0., 0., 1., 0., 0., 0.],\n",
       "       [0., 0., 0., 1., 0., 0.],\n",
       "       [0., 0., 0., 0., 1., 0.],\n",
       "       [0., 0., 0., 0., 0., 1.]])"
      ]
     },
     "execution_count": 8,
     "metadata": {},
     "output_type": "execute_result"
    }
   ],
   "source": [
    "np.eye(6) # Create a square N x N identity matrix (1’s on the diagonal and 0’s elsewhere)"
   ]
  },
  {
   "cell_type": "code",
   "execution_count": 9,
   "id": "ee2ec44d",
   "metadata": {
    "collapsed": false,
    "jupyter": {
     "outputs_hidden": false
    }
   },
   "outputs": [
    {
     "name": "stdout",
     "output_type": "stream",
     "text": [
      "[89.   56.34 76.   89.   98.  ]\n",
      "[7921.     3174.1956 5776.     7921.     9604.    ]\n",
      "[0. 0. 0. 0. 0.]\n",
      "[0.01123596 0.01774938 0.01315789 0.01123596 0.01020408]\n",
      "[9.43398113 7.5059976  8.71779789 9.43398113 9.89949494]\n"
     ]
    }
   ],
   "source": [
    "#Batch operations on data can be performed without using for loops, this is called vectorization\n",
    "#no need of for loops for basic arithmetic operations on arrays\n",
    "scores = [89,56.34, 76,89, 98]\n",
    "first_arr =np.array(scores)\n",
    "print(first_arr)\n",
    "print(first_arr * first_arr)\n",
    "print(first_arr - first_arr)\n",
    "print(1/(first_arr))\n",
    "print(first_arr ** 0.5)"
   ]
  },
  {
   "cell_type": "markdown",
   "id": "201bc66d",
   "metadata": {},
   "source": [
    "#Indexing and Slicing"
   ]
  },
  {
   "cell_type": "code",
   "execution_count": 10,
   "id": "4a69b285",
   "metadata": {
    "collapsed": false,
    "jupyter": {
     "outputs_hidden": false
    }
   },
   "outputs": [
    {
     "name": "stdout",
     "output_type": "stream",
     "text": [
      "[ 0  1  2  3  4  5  6  7  8  9 10 11]\n",
      "5\n",
      "[4 5 6 7 8]\n",
      "[ 0  1  2  3 99 99 99 99 99  9 10 11]\n"
     ]
    }
   ],
   "source": [
    "# you may want to select a subset of your data, for which Numpy array indexing is really useful\n",
    "new_arr = np.arange(12)\n",
    "print(new_arr)\n",
    "print(new_arr[5])\n",
    "print(new_arr[4:9])\n",
    "new_arr[4:9] = 99 #assign sequence of values from 4 to 9 as 99\n",
    "print(new_arr)"
   ]
  },
  {
   "cell_type": "code",
   "execution_count": 11,
   "id": "10bd5e01",
   "metadata": {
    "collapsed": false,
    "jupyter": {
     "outputs_hidden": false
    }
   },
   "outputs": [
    {
     "name": "stdout",
     "output_type": "stream",
     "text": [
      "[     0      1      2      3     99 123456     99     99     99      9\n",
      "     10     11]\n"
     ]
    },
    {
     "data": {
      "text/plain": [
       "array([    99, 123456,     99,     99,     99])"
      ]
     },
     "execution_count": 11,
     "metadata": {},
     "output_type": "execute_result"
    }
   ],
   "source": [
    "# A major diffence between lists and array is that, array slices are views on the original array. This means that\n",
    "# the data is not copied, and any modifications to the view will be reflected in the source\n",
    "#  array. \n",
    "modi_arr = new_arr[4:9] \n",
    "modi_arr[1] = 123456\n",
    "print(new_arr)                  # you can see the changes are refelected in main array. \n",
    "modi_arr[:]                  # the sliced variable\n",
    "            "
   ]
  },
  {
   "cell_type": "code",
   "execution_count": 12,
   "id": "3176d168",
   "metadata": {
    "collapsed": false,
    "jupyter": {
     "outputs_hidden": false
    }
   },
   "outputs": [
    {
     "name": "stdout",
     "output_type": "stream",
     "text": [
      "[[3 4 5]\n",
      " [6 7 8]\n",
      " [9 5 1]]\n",
      "[6 7 8]\n",
      "5\n",
      "5\n"
     ]
    }
   ],
   "source": [
    "# arrays can be treated like matrices\n",
    "matrix_arr =np.array([[3,4,5],[6,7,8],[9,5,1]])\n",
    "print(matrix_arr)\n",
    "print(matrix_arr[1])\n",
    "print(matrix_arr[0][2]) #first row and third column\n",
    "print(matrix_arr[0,2]) # This is same as the above operation"
   ]
  },
  {
   "cell_type": "code",
   "execution_count": 14,
   "id": "23392540",
   "metadata": {
    "collapsed": false,
    "jupyter": {
     "outputs_hidden": false
    }
   },
   "outputs": [
    {
     "name": "stdout",
     "output_type": "stream",
     "text": [
      "[[[ 1  2  3]\n",
      "  [ 4  5  6]]\n",
      "\n",
      " [[ 7  8  9]\n",
      "  [10 11 12]]]\n",
      "(2, 2, 3)\n",
      "returns the second list inside first list [4 5 6]\n"
     ]
    }
   ],
   "source": [
    "# 3d arrays -> this is a 2x2x3 array\n",
    "three_d_arr = np.array([[[1, 2, 3], [4, 5, 6]], [[7, 8, 9], [10, 11, 12]]])\n",
    "print(three_d_arr)\n",
    "print(three_d_arr.shape)\n",
    "print(\"returns the second list inside first list {}\".format(three_d_arr[0,1]))"
   ]
  },
  {
   "cell_type": "code",
   "execution_count": 15,
   "id": "114d3e9c",
   "metadata": {
    "collapsed": false,
    "jupyter": {
     "outputs_hidden": false
    }
   },
   "outputs": [
    {
     "name": "stdout",
     "output_type": "stream",
     "text": [
      "[[1 2 3]\n",
      " [4 5 6]]\n"
     ]
    }
   ],
   "source": [
    "three_d_arr = np.array([[[1, 2, 3], [4, 5, 6]], [[7, 8, 9], [10, 11, 12]]])\n",
    "print(three_d_arr[0])\n",
    "#if you omit later indices, the returned object will be a lowerdimensional\n",
    "# ndarray consisting of all the data along the higher dimensions"
   ]
  },
  {
   "cell_type": "markdown",
   "id": "c9c71c91",
   "metadata": {},
   "source": [
    "I have used [format](https://docs.python.org/2/tutorial/inputoutput.html) function in the below cell."
   ]
  },
  {
   "cell_type": "code",
   "execution_count": 16,
   "id": "c07d006f",
   "metadata": {
    "collapsed": false,
    "jupyter": {
     "outputs_hidden": false
    }
   },
   "outputs": [
    {
     "name": "stdout",
     "output_type": "stream",
     "text": [
      "New value of three_d_arr: \n",
      "[[[99 99 99]\n",
      "  [99 99 99]]\n",
      "\n",
      " [[ 7  8  9]\n",
      "  [10 11 12]]]\n",
      "-------\n",
      "three_d_arr again: \n",
      "[[[ 1  2  3]\n",
      "  [ 4  5  6]]\n",
      "\n",
      " [[ 7  8  9]\n",
      "  [10 11 12]]]\n"
     ]
    }
   ],
   "source": [
    "copied_values = three_d_arr[0].copy() # copy arr[0] value to copied_values\n",
    "three_d_arr[0]= 99  # change all values of arr[0] to 99 \n",
    "print(\"New value of three_d_arr: \\n{}\\n-------\".format(three_d_arr)) # check the new value of three_d_arr \n",
    "three_d_arr[0] = copied_values # assign copied values back to three_d_arr[0]\n",
    "print(\"three_d_arr again: \\n{}\".format(three_d_arr))"
   ]
  },
  {
   "cell_type": "code",
   "execution_count": 17,
   "id": "0583fb42",
   "metadata": {
    "collapsed": false,
    "jupyter": {
     "outputs_hidden": false
    }
   },
   "outputs": [
    {
     "name": "stdout",
     "output_type": "stream",
     "text": [
      "The original matrix [[3 4 5]\n",
      " [6 7 8]\n",
      " [9 5 1]]:\n",
      "slices the first two rows:[[3 4 5]\n",
      " [6 7 8]]\n",
      "Slices the first two rows and two columns:[[4 5]\n",
      " [7 8]]\n",
      "returns 6 and 7: [6 7]\n",
      "Returns first column: [[3]\n",
      " [6]\n",
      " [9]]\n"
     ]
    }
   ],
   "source": [
    "matrix_arr =np.array([[3,4,5],[6,7,8],[9,5,1]])\n",
    "print(\"The original matrix {}:\".format(matrix_arr))\n",
    "print(\"slices the first two rows:{}\".format(matrix_arr[:2])) # similar to list slicing. returns first two rows of the array\n",
    "print(\"Slices the first two rows and two columns:{}\".format(matrix_arr[:2, 1:]))\n",
    "print(\"returns 6 and 7: {}\".format(matrix_arr[1,:2]))\n",
    "print(\"Returns first column: {}\".format(matrix_arr[:,:1])) #Note that a colon by itself means to take the entire axis"
   ]
  },
  {
   "cell_type": "code",
   "execution_count": 19,
   "id": "dc294c6b",
   "metadata": {
    "collapsed": false,
    "jupyter": {
     "outputs_hidden": false
    }
   },
   "outputs": [
    {
     "name": "stdout",
     "output_type": "stream",
     "text": [
      "[ True False False  True False False False]\n"
     ]
    }
   ],
   "source": [
    "personals = np.array(['Manu', 'Jeevan', 'Prakash', 'Manu', 'Prakash', 'Jeevan', 'Prakash'])\n",
    "print(personals == 'Manu')#checks for the string 'Manu' in personals. If present it returns true; else false#"
   ]
  },
  {
   "cell_type": "code",
   "execution_count": 20,
   "id": "8dfd3301",
   "metadata": {
    "collapsed": false,
    "jupyter": {
     "outputs_hidden": false
    }
   },
   "outputs": [
    {
     "name": "stdout",
     "output_type": "stream",
     "text": [
      "[[-0.8902213   0.55081549  0.1325308   0.50049262]\n",
      " [-0.92844195  0.70685053 -0.81346507  0.12768338]\n",
      " [ 0.88823336 -0.80346119  1.35148041 -0.46497775]\n",
      " [-1.2803576  -1.70266722 -1.11285008 -0.64775129]\n",
      " [ 1.37626614 -0.90167158  0.26198734  0.97526928]\n",
      " [-0.5097623   0.3860929   0.12176822 -0.77184476]\n",
      " [ 1.71101074 -0.49604595 -0.25838715 -1.75812135]]\n"
     ]
    },
    {
     "data": {
      "text/plain": [
       "array([[-0.8902213 ,  0.55081549,  0.1325308 ,  0.50049262],\n",
       "       [-1.2803576 , -1.70266722, -1.11285008, -0.64775129]])"
      ]
     },
     "execution_count": 20,
     "metadata": {},
     "output_type": "execute_result"
    }
   ],
   "source": [
    "#Import random module from Numpy\n",
    "from numpy import random \n",
    "random_no = random.randn(7,4)\n",
    "print(random_no)\n",
    "random_no[personals =='Manu'] #The function returns the rows for which the value of manu is true\n",
    "# Check the image displayed in the cell below. "
   ]
  },
  {
   "cell_type": "code",
   "execution_count": 22,
   "id": "232814b7",
   "metadata": {
    "collapsed": false,
    "jupyter": {
     "outputs_hidden": false
    }
   },
   "outputs": [
    {
     "data": {
      "text/plain": [
       "array([[ 0.1325308 ,  0.50049262],\n",
       "       [-1.11285008, -0.64775129]])"
      ]
     },
     "execution_count": 22,
     "metadata": {},
     "output_type": "execute_result"
    }
   ],
   "source": [
    "random_no[personals == 'Manu', 2:] #First two columns and first two rows."
   ]
  },
  {
   "cell_type": "code",
   "execution_count": 24,
   "id": "c1a4cd39",
   "metadata": {
    "collapsed": false,
    "jupyter": {
     "outputs_hidden": false
    }
   },
   "outputs": [
    {
     "name": "stdout",
     "output_type": "stream",
     "text": [
      "[False  True  True False  True  True  True]\n"
     ]
    },
    {
     "data": {
      "text/plain": [
       "array([[-0.92844195,  0.70685053, -0.81346507,  0.12768338],\n",
       "       [ 0.88823336, -0.80346119,  1.35148041, -0.46497775],\n",
       "       [ 1.37626614, -0.90167158,  0.26198734,  0.97526928],\n",
       "       [-0.5097623 ,  0.3860929 ,  0.12176822, -0.77184476],\n",
       "       [ 1.71101074, -0.49604595, -0.25838715, -1.75812135]])"
      ]
     },
     "execution_count": 24,
     "metadata": {},
     "output_type": "execute_result"
    }
   ],
   "source": [
    "# To select everything except 'Manu', you can != or negate the condition using -:\n",
    "print(personals != 'Manu')\n",
    "random_no[(personals != 'Manu')] #get everything except 1st and 4th rows"
   ]
  },
  {
   "cell_type": "code",
   "execution_count": 25,
   "id": "ca693bbe",
   "metadata": {
    "collapsed": false,
    "jupyter": {
     "outputs_hidden": false
    }
   },
   "outputs": [
    {
     "name": "stdout",
     "output_type": "stream",
     "text": [
      "[ True  True False  True False  True False]\n"
     ]
    },
    {
     "data": {
      "text/plain": [
       "array([[-0.8902213 ,  0.55081549,  0.1325308 ,  0.50049262],\n",
       "       [-0.92844195,  0.70685053, -0.81346507,  0.12768338],\n",
       "       [-1.2803576 , -1.70266722, -1.11285008, -0.64775129],\n",
       "       [-0.5097623 ,  0.3860929 ,  0.12176822, -0.77184476]])"
      ]
     },
     "execution_count": 25,
     "metadata": {},
     "output_type": "execute_result"
    }
   ],
   "source": [
    "# you can use boolean operator &(and), |(or)\n",
    "new_variable = (personals == 'Manu') | (personals == 'Jeevan')\n",
    "print(new_variable)\n",
    "random_no[new_variable] "
   ]
  },
  {
   "cell_type": "code",
   "execution_count": 26,
   "id": "fab0a528",
   "metadata": {
    "collapsed": false,
    "jupyter": {
     "outputs_hidden": false
    }
   },
   "outputs": [
    {
     "data": {
      "text/plain": [
       "array([[0.        , 0.55081549, 0.1325308 , 0.50049262],\n",
       "       [0.        , 0.70685053, 0.        , 0.12768338],\n",
       "       [0.88823336, 0.        , 1.35148041, 0.        ],\n",
       "       [0.        , 0.        , 0.        , 0.        ],\n",
       "       [1.37626614, 0.        , 0.26198734, 0.97526928],\n",
       "       [0.        , 0.3860929 , 0.12176822, 0.        ],\n",
       "       [1.71101074, 0.        , 0.        , 0.        ]])"
      ]
     },
     "execution_count": 26,
     "metadata": {},
     "output_type": "execute_result"
    }
   ],
   "source": [
    "random_no[random_no < 0] =0 \n",
    "random_no # This will set all negative values to zero"
   ]
  },
  {
   "cell_type": "code",
   "execution_count": 27,
   "id": "010a6313",
   "metadata": {
    "collapsed": false,
    "jupyter": {
     "outputs_hidden": false
    }
   },
   "outputs": [
    {
     "data": {
      "text/plain": [
       "array([[0.        , 0.55081549, 0.1325308 , 0.50049262],\n",
       "       [9.        , 9.        , 9.        , 9.        ],\n",
       "       [9.        , 9.        , 9.        , 9.        ],\n",
       "       [0.        , 0.        , 0.        , 0.        ],\n",
       "       [9.        , 9.        , 9.        , 9.        ],\n",
       "       [9.        , 9.        , 9.        , 9.        ],\n",
       "       [9.        , 9.        , 9.        , 9.        ]])"
      ]
     },
     "execution_count": 27,
     "metadata": {},
     "output_type": "execute_result"
    }
   ],
   "source": [
    "random_no[ personals != 'Manu'] = 9 # This will set all rows except 1 and 4 to 9. \n",
    "random_no"
   ]
  },
  {
   "cell_type": "markdown",
   "id": "7ac3cc0a",
   "metadata": {},
   "source": [
    "#Fancy Indexing(Indexing using integer arrays)\n",
    "Fancy indexing copies data into a new array\n"
   ]
  },
  {
   "cell_type": "code",
   "execution_count": 28,
   "id": "dbac8d0b",
   "metadata": {
    "collapsed": false,
    "jupyter": {
     "outputs_hidden": false
    }
   },
   "outputs": [
    {
     "data": {
      "text/plain": [
       "array([[0., 0., 0., 0.],\n",
       "       [1., 1., 1., 1.],\n",
       "       [2., 2., 2., 2.],\n",
       "       [3., 3., 3., 3.],\n",
       "       [4., 4., 4., 4.],\n",
       "       [5., 5., 5., 5.],\n",
       "       [6., 6., 6., 6.]])"
      ]
     },
     "execution_count": 28,
     "metadata": {},
     "output_type": "execute_result"
    }
   ],
   "source": [
    "algebra = random.randn(7,4) # empty will return a matrix of size 7,4\n",
    "for j in range(7):\n",
    "    algebra[j] = j\n",
    "algebra"
   ]
  },
  {
   "cell_type": "code",
   "execution_count": 29,
   "id": "3a193817",
   "metadata": {
    "collapsed": false,
    "jupyter": {
     "outputs_hidden": false
    }
   },
   "outputs": [
    {
     "data": {
      "text/plain": [
       "array([[4., 4., 4., 4.],\n",
       "       [5., 5., 5., 5.],\n",
       "       [1., 1., 1., 1.]])"
      ]
     },
     "execution_count": 29,
     "metadata": {},
     "output_type": "execute_result"
    }
   ],
   "source": [
    "# To select a subset of rows in particular order, you can simply pass a list.\n",
    "algebra[[4,5,1]] #returns a subset of rows"
   ]
  },
  {
   "cell_type": "code",
   "execution_count": 30,
   "id": "15f0b7ca-fc46-4420-a83d-1680895b98c8",
   "metadata": {},
   "outputs": [
    {
     "name": "stdout",
     "output_type": "stream",
     "text": [
      "[ 0  1  2  3  4  5  6  7  8  9 10 11 12 13 14 15 16 17 18 19]\n",
      "[[ 0  1  2  3]\n",
      " [ 4  5  6  7]\n",
      " [ 8  9 10 11]\n",
      " [12 13 14 15]\n",
      " [16 17 18 19]]\n"
     ]
    }
   ],
   "source": [
    "print(np.arange(20))\n",
    "print(np.arange(20).reshape(5,4)) #differrence between regular array and a reshaped one"
   ]
  },
  {
   "cell_type": "code",
   "execution_count": 31,
   "id": "97a9028a",
   "metadata": {
    "collapsed": false,
    "jupyter": {
     "outputs_hidden": false
    }
   },
   "outputs": [
    {
     "name": "stdout",
     "output_type": "stream",
     "text": [
      "[[ 0  1  2  3]\n",
      " [ 4  5  6  7]\n",
      " [ 8  9 10 11]\n",
      " [12 13 14 15]\n",
      " [16 17 18 19]\n",
      " [20 21 22 23]\n",
      " [24 25 26 27]\n",
      " [28 29 30 31]\n",
      " [32 33 34 35]]\n"
     ]
    },
    {
     "data": {
      "text/plain": [
       "array([ 6, 15, 23, 30])"
      ]
     },
     "execution_count": 31,
     "metadata": {},
     "output_type": "execute_result"
    }
   ],
   "source": [
    "fancy = np.arange(36).reshape(9,4) #reshape is to reshape an array\n",
    "print(fancy)\n",
    "fancy[[1,3,5,7],[2,3,3,2]] #the position of the output array are[(1,2),(3,3),(5,3),(7,2)]"
   ]
  },
  {
   "cell_type": "code",
   "execution_count": 32,
   "id": "90918aca",
   "metadata": {
    "collapsed": false,
    "jupyter": {
     "outputs_hidden": false
    }
   },
   "outputs": [
    {
     "data": {
      "text/plain": [
       "array([[ 4,  7,  5,  6],\n",
       "       [16, 19, 17, 18],\n",
       "       [32, 35, 33, 34],\n",
       "       [ 8, 11,  9, 10]])"
      ]
     },
     "execution_count": 32,
     "metadata": {},
     "output_type": "execute_result"
    }
   ],
   "source": [
    "fancy[[1, 4, 8, 2]][:, [0, 3, 1, 2]] # entire first row is selected, but the elements are interchanged, same goes for 4th, 8th and 2 nd row."
   ]
  },
  {
   "cell_type": "code",
   "execution_count": 33,
   "id": "e19c8797",
   "metadata": {
    "collapsed": false,
    "jupyter": {
     "outputs_hidden": false
    }
   },
   "outputs": [
    {
     "data": {
      "text/plain": [
       "array([[ 4,  7,  5,  6],\n",
       "       [16, 19, 17, 18],\n",
       "       [32, 35, 33, 34],\n",
       "       [ 8, 11,  9, 10]])"
      ]
     },
     "execution_count": 33,
     "metadata": {},
     "output_type": "execute_result"
    }
   ],
   "source": [
    "# another way to do the above operation is by using np.ix_ function.\n",
    "fancy[np.ix_([1,4,8,2],[0,3,1,2])]"
   ]
  },
  {
   "cell_type": "markdown",
   "id": "eb0a9b26",
   "metadata": {},
   "source": [
    "#Transposing Arrays"
   ]
  },
  {
   "cell_type": "code",
   "execution_count": 34,
   "id": "06243ad8",
   "metadata": {
    "collapsed": false,
    "jupyter": {
     "outputs_hidden": false
    }
   },
   "outputs": [
    {
     "data": {
      "text/plain": [
       "array([[ 0,  4,  8],\n",
       "       [ 1,  5,  9],\n",
       "       [ 2,  6, 10],\n",
       "       [ 3,  7, 11]])"
      ]
     },
     "execution_count": 34,
     "metadata": {},
     "output_type": "execute_result"
    }
   ],
   "source": [
    "transpose= np.arange(12).reshape(3,4) \n",
    "transpose.T # the shape has changed to 4,3"
   ]
  },
  {
   "cell_type": "code",
   "execution_count": 35,
   "id": "03ff4917",
   "metadata": {
    "collapsed": false,
    "jupyter": {
     "outputs_hidden": false
    }
   },
   "outputs": [
    {
     "data": {
      "text/plain": [
       "array([[ 80,  92, 104, 116],\n",
       "       [ 92, 107, 122, 137],\n",
       "       [104, 122, 140, 158],\n",
       "       [116, 137, 158, 179]])"
      ]
     },
     "execution_count": 35,
     "metadata": {},
     "output_type": "execute_result"
    }
   ],
   "source": [
    "#you can use np.dot function to perform matrix computations. You can calculate X transpose X as follows:\n",
    "np.dot(transpose.T, transpose)"
   ]
  },
  {
   "cell_type": "markdown",
   "id": "518bfe5c",
   "metadata": {},
   "source": [
    "#Universal functions\n",
    "They perform element wise operations on data in arrays."
   ]
  },
  {
   "cell_type": "code",
   "execution_count": 36,
   "id": "d8dbc28a",
   "metadata": {
    "collapsed": false,
    "jupyter": {
     "outputs_hidden": false
    }
   },
   "outputs": [
    {
     "name": "stdout",
     "output_type": "stream",
     "text": [
      "[0.         1.         1.41421356 1.73205081 2.         2.23606798\n",
      " 2.44948974 2.64575131]\n",
      "[1.00000000e+00 2.71828183e+00 7.38905610e+00 2.00855369e+01\n",
      " 5.45981500e+01 1.48413159e+02 4.03428793e+02 1.09663316e+03]\n"
     ]
    }
   ],
   "source": [
    "funky=np.arange(8)\n",
    "print(np.sqrt(funky))\n",
    "print(np.exp(funky)) #exponent of the array\n",
    "# these are called as unary functions"
   ]
  },
  {
   "cell_type": "code",
   "execution_count": 37,
   "id": "e1fc02b6",
   "metadata": {
    "collapsed": false,
    "jupyter": {
     "outputs_hidden": false
    }
   },
   "outputs": [
    {
     "name": "stdout",
     "output_type": "stream",
     "text": [
      "[-20.87565713   8.26955861  -5.86236071   6.17257588  -9.23767676\n",
      "   7.02380401   4.355988     7.60407023  19.30795122   5.17352394]\n",
      "[ -8.56856303  -2.21958249   1.75379632   5.78494481  -4.96393866\n",
      "  -3.47316227   1.56579766  -2.23648808 -13.15024494  -8.99216721]\n",
      "[-8.56856303  8.26955861  1.75379632  6.17257588 -4.96393866  7.02380401\n",
      "  4.355988    7.60407023 19.30795122  5.17352394]\n",
      "(array([-0.87565713,  0.26955861, -0.86236071,  0.17257588, -0.23767676,\n",
      "        0.02380401,  0.355988  ,  0.60407023,  0.30795122,  0.17352394]), array([-20.,   8.,  -5.,   6.,  -9.,   7.,   4.,   7.,  19.,   5.]))\n"
     ]
    }
   ],
   "source": [
    "# Binary functions take two value, Others such as maximum, add\n",
    "x = random.randn(10)*10\n",
    "y = random.randn(10)*10\n",
    "print(x)\n",
    "print(y)\n",
    "print(np.maximum(x,y))# element wise operation\n",
    "print(np.modf(x))# function modf returns the fractional and integral parts of a floating point arrays"
   ]
  },
  {
   "cell_type": "markdown",
   "id": "44515a5e",
   "metadata": {},
   "source": [
    "#Data processing using Arrays"
   ]
  },
  {
   "cell_type": "code",
   "execution_count": null,
   "id": "d6653457",
   "metadata": {
    "collapsed": false,
    "jupyter": {
     "outputs_hidden": false
    }
   },
   "outputs": [],
   "source": [
    "mtrices =np.arange(-5,5,1)\n",
    "print(mtrices)\n",
    "x, y = np.meshgrid(mtrices, mtrices) #mesh grid function takes two 1 d arrays and produces two 2d arrays\n",
    "print(\"Matrix values of y: {}\".format(y))\n",
    "print(\"Matrix values of x: {}\".format(x))"
   ]
  },
  {
   "cell_type": "markdown",
   "id": "c4aa6980",
   "metadata": {},
   "source": [
    "[zip](http://stackoverflow.com/questions/13704860/zip-lists-in-python) function is clearly explained here."
   ]
  },
  {
   "cell_type": "code",
   "execution_count": null,
   "id": "0c073ab4",
   "metadata": {
    "collapsed": false,
    "jupyter": {
     "outputs_hidden": false
    }
   },
   "outputs": [],
   "source": [
    "x1= np.array([1,2,3,4,5])\n",
    "y1 = np.array([6,7,8,9,10])\n",
    "cond =[True, False, True, True, False]\n",
    "#If you want to take a value from x1 whenever the corresponding value in cond is true, otherwise take value from y.\n",
    "z1 = [(x,y,z) for x,y,z in zip(x1, y1, cond)] # I have used zip function To illustrate the concept\n",
    "print(z1)\n",
    "np.where(cond, x1, y1) "
   ]
  },
  {
   "cell_type": "code",
   "execution_count": null,
   "id": "40af7e53-baff-40c1-bc0f-23b39e23b3b2",
   "metadata": {},
   "outputs": [],
   "source": [
    "from IPython.display import Image  \n",
    "l = Image(filename='zipFunc.jpg')\n",
    "l"
   ]
  },
  {
   "cell_type": "code",
   "execution_count": null,
   "id": "a10f8d22",
   "metadata": {
    "collapsed": false,
    "jupyter": {
     "outputs_hidden": false
    }
   },
   "outputs": [],
   "source": [
    "ra = np.random.randn(5,5)\n",
    "# If you want to replace negative values in ra with -1 and positive values with 1. You can do it using where function\n",
    "print(ra)\n",
    "print(np.where(ra>0, 1, -1)) # If values in ra are greater than zero, replace it with 1, else replace it with -1.\n",
    "# to set only positive values\n",
    "np.where(ra >0, 1, ra) # same implies to negative values"
   ]
  },
  {
   "cell_type": "markdown",
   "id": "9a5c42a9",
   "metadata": {},
   "source": [
    "# Statistical methods"
   ]
  },
  {
   "cell_type": "code",
   "execution_count": 40,
   "id": "9f2611e9",
   "metadata": {
    "collapsed": false,
    "jupyter": {
     "outputs_hidden": false
    }
   },
   "outputs": [
    {
     "name": "stdout",
     "output_type": "stream",
     "text": [
      "[[ 1.19332702 -0.36356714 -0.25743188 -0.59816572 -1.74873649]\n",
      " [-0.58442376 -0.78703362 -1.65622334  1.23221368  0.26079119]\n",
      " [ 0.69009307 -0.23096288 -1.53441764  0.41533491 -0.2170163 ]\n",
      " [ 0.09306437 -2.36785351 -1.17219257  1.5342651   0.14406613]\n",
      " [ 2.16847523 -0.77366198  0.79140696 -1.02799845  0.58758126]]\n",
      "-0.16836265369184253\n",
      "-0.16836265369184253\n",
      "-4.2090663422960635\n"
     ]
    }
   ],
   "source": [
    "thie = np.random.randn(5,5)\n",
    "print(thie)\n",
    "print(thie.mean()) # calculates the mean of thie\n",
    "print(np.mean(thie)) # alternate method to calculate mean\n",
    "print(thie.sum())"
   ]
  },
  {
   "cell_type": "code",
   "execution_count": 41,
   "id": "71af8b08",
   "metadata": {
    "collapsed": false,
    "jupyter": {
     "outputs_hidden": false
    }
   },
   "outputs": [
    {
     "name": "stdout",
     "output_type": "stream",
     "text": [
      "The arrays are: [[ 0  1  2]\n",
      " [ 3  4  5]\n",
      " [ 6  7  8]\n",
      " [ 9 10 11]]\n",
      "The sum of rows are :[18 22 26]\n"
     ]
    }
   ],
   "source": [
    "jp =np.arange(12).reshape(4,3)\n",
    "print(\"The arrays are: {}\".format(jp))\n",
    "print(\"The sum of rows are :{}\".format(np.sum(jp, axis =0))) #axis =0, gives you sum of the columns. axis =1 , gives sum of rows.\n",
    "# remember this zero is for columns and one is for rows."
   ]
  },
  {
   "cell_type": "code",
   "execution_count": 43,
   "id": "57560159-c61c-43fd-8956-cdb258ea31b2",
   "metadata": {},
   "outputs": [
    {
     "name": "stdout",
     "output_type": "stream",
     "text": [
      "The arrays are: [[ 0  1  2]\n",
      " [ 3  4  5]\n",
      " [ 6  7  8]\n",
      " [ 9 10 11]]\n",
      "The sum of rows are :[ 3 12 21 30]\n"
     ]
    }
   ],
   "source": [
    "jp =np.arange(12).reshape(4,3)\n",
    "print(\"The arrays are: {}\".format(jp))\n",
    "print(\"The sum of rows are :{}\".format(np.sum(jp, axis =1))) #axis =0, gives you sum of the columns. axis =1 , gives sum of rows.\n",
    "# remember this zero is for columns and one is for rows."
   ]
  },
  {
   "cell_type": "code",
   "execution_count": 42,
   "id": "8cb6f8ff",
   "metadata": {
    "collapsed": false,
    "jupyter": {
     "outputs_hidden": false
    }
   },
   "outputs": [
    {
     "name": "stdout",
     "output_type": "stream",
     "text": [
      "[ 3 12 21 30]\n"
     ]
    }
   ],
   "source": [
    "print(jp.sum(1))#returns sum of rows"
   ]
  },
  {
   "cell_type": "code",
   "execution_count": 44,
   "id": "179d980a",
   "metadata": {
    "collapsed": false,
    "jupyter": {
     "outputs_hidden": false
    }
   },
   "outputs": [
    {
     "data": {
      "text/plain": [
       "array([[ 0,  1,  2],\n",
       "       [ 3,  5,  7],\n",
       "       [ 9, 12, 15],\n",
       "       [18, 22, 26]])"
      ]
     },
     "execution_count": 44,
     "metadata": {},
     "output_type": "execute_result"
    }
   ],
   "source": [
    "jp.cumsum(0)  #cumulative sum of columns, try the same for jp.cumprod(0)"
   ]
  },
  {
   "cell_type": "code",
   "execution_count": 45,
   "id": "e18fd078",
   "metadata": {
    "collapsed": false,
    "jupyter": {
     "outputs_hidden": false
    }
   },
   "outputs": [
    {
     "data": {
      "text/plain": [
       "array([[ 0,  1,  3],\n",
       "       [ 3,  7, 12],\n",
       "       [ 6, 13, 21],\n",
       "       [ 9, 19, 30]])"
      ]
     },
     "execution_count": 45,
     "metadata": {},
     "output_type": "execute_result"
    }
   ],
   "source": [
    "jp.cumsum(1)#cumulative sum of rows"
   ]
  },
  {
   "cell_type": "code",
   "execution_count": null,
   "id": "5edd2c26",
   "metadata": {
    "collapsed": false,
    "jupyter": {
     "outputs_hidden": false
    }
   },
   "outputs": [],
   "source": [
    "xp =np.random.randn(100)\n",
    "print(xp)\n",
    "print((xp > 0).sum()) # sum of all positive values\n",
    "print((xp < 0).sum())\n",
    "tandf =np.array([True,False,True,False,True,False])\n",
    "print(tandf.any())#checks if any of the values are true\n",
    "print(tandf.all()) #returns false even if a single value is false\n",
    "#These methods also work with non-boolean arrays, where non-zero elements evaluate to True."
   ]
  },
  {
   "cell_type": "markdown",
   "id": "9d6b5106",
   "metadata": {},
   "source": [
    "<b>Other array functions are:<br> </b>\n",
    "std, var -> standard deviation and variance <br>\n",
    "min, max -> Minimum and Maximum <br>\n",
    "argmin, argmax -> Indices of minimum and maximum elements"
   ]
  },
  {
   "cell_type": "markdown",
   "id": "ec1e7886",
   "metadata": {},
   "source": [
    "#Sorting"
   ]
  },
  {
   "cell_type": "code",
   "execution_count": null,
   "id": "45c2b9bc",
   "metadata": {
    "collapsed": false,
    "jupyter": {
     "outputs_hidden": false
    }
   },
   "outputs": [],
   "source": [
    "lp = np.random.randn(8)\n",
    "print(lp)\n",
    "lp.sort()\n",
    "lp"
   ]
  },
  {
   "cell_type": "code",
   "execution_count": null,
   "id": "7aa80f0f",
   "metadata": {
    "collapsed": false,
    "jupyter": {
     "outputs_hidden": false
    }
   },
   "outputs": [],
   "source": [
    "tp = np.random.randn(4,4)\n",
    "tp"
   ]
  },
  {
   "cell_type": "code",
   "execution_count": null,
   "id": "4086eb4d",
   "metadata": {
    "collapsed": false,
    "jupyter": {
     "outputs_hidden": false
    }
   },
   "outputs": [],
   "source": [
    "tp.sort(1) #check the rows are sorted\n",
    "tp"
   ]
  },
  {
   "cell_type": "code",
   "execution_count": null,
   "id": "92d0fcbb",
   "metadata": {
    "collapsed": false,
    "jupyter": {
     "outputs_hidden": false
    }
   },
   "outputs": [],
   "source": [
    "personals = np.array(['Manu', 'Jeevan', 'Prakash', 'Manu', 'Prakash', 'Jeevan', 'Prakash'])\n",
    "np.unique(personals)# returns the unique elements in the array"
   ]
  },
  {
   "cell_type": "code",
   "execution_count": null,
   "id": "bbf31ac7",
   "metadata": {
    "collapsed": false,
    "jupyter": {
     "outputs_hidden": false
    }
   },
   "outputs": [],
   "source": [
    "set(personals) # set is an alternative to unique function"
   ]
  },
  {
   "cell_type": "markdown",
   "id": "a755defe",
   "metadata": {},
   "source": [
    "<b> Other Functions are :<br> </b>\n",
    "intersect1d(x, y)-> Compute the sorted, common elements in x and y <br>\n",
    "union1d(x,y) -> compute the sorted union of elements <br>\n",
    "setdiff1d(x,y) -> set difference, elements in x that are not in y <br>\n",
    "setxor1d(x, y) -> Set symmetric differences; elements that are in either of the arrays, but not both <br>"
   ]
  },
  {
   "cell_type": "markdown",
   "id": "49090f21",
   "metadata": {},
   "source": [
    "#Linear Algebra"
   ]
  },
  {
   "cell_type": "code",
   "execution_count": null,
   "id": "018d5d96",
   "metadata": {
    "collapsed": false,
    "jupyter": {
     "outputs_hidden": false
    }
   },
   "outputs": [],
   "source": [
    "cp = np.array([[1,2,3],[4,5,6]])\n",
    "dp = np.array([[7,8],[9,10],[11,12]])\n",
    "print(\"CP array :{}\".format(cp))\n",
    "print(\"DP array :{}\".format(dp))"
   ]
  },
  {
   "cell_type": "code",
   "execution_count": null,
   "id": "8809e3d7",
   "metadata": {
    "collapsed": false,
    "jupyter": {
     "outputs_hidden": false
    }
   },
   "outputs": [],
   "source": [
    "# element wise multiplication\n",
    "cp.dot(dp) # this is equivalent to np.dot(x,y)"
   ]
  },
  {
   "cell_type": "code",
   "execution_count": null,
   "id": "6bbc52ec",
   "metadata": {
    "collapsed": false,
    "jupyter": {
     "outputs_hidden": false
    }
   },
   "outputs": [],
   "source": [
    "np.dot(cp, np.ones(3)) "
   ]
  },
  {
   "cell_type": "code",
   "execution_count": null,
   "id": "d34fb6c9",
   "metadata": {
    "collapsed": false,
    "jupyter": {
     "outputs_hidden": false
    }
   },
   "outputs": [],
   "source": [
    "# numpy.linalg has standard matrix operations like determinants and inverse.\n",
    "from numpy.linalg import inv, qr\n",
    "cp = np.array([[1,2,3],[4,5,6]])\n",
    "new_mat = cp.T.dot(cp) # multiply cp inverse and cp, this is element wise multiplication\n",
    "new_mat"
   ]
  },
  {
   "cell_type": "code",
   "execution_count": null,
   "id": "33cc7536",
   "metadata": {
    "collapsed": false,
    "jupyter": {
     "outputs_hidden": false
    }
   },
   "outputs": [],
   "source": [
    "sp = np.random.randn(5,5)\n",
    "inv(sp)\n",
    "rt = inv(sp)\n",
    "rt"
   ]
  },
  {
   "cell_type": "code",
   "execution_count": null,
   "id": "64634092",
   "metadata": {
    "collapsed": false,
    "jupyter": {
     "outputs_hidden": false
    }
   },
   "outputs": [],
   "source": [
    "# to calculate the product of a matrix and its inverse\n",
    "sp.dot(rt)"
   ]
  },
  {
   "cell_type": "code",
   "execution_count": null,
   "id": "72495645",
   "metadata": {
    "collapsed": false,
    "jupyter": {
     "outputs_hidden": false
    }
   },
   "outputs": [],
   "source": [
    "q,r = qr(sp)\n",
    "print(q)\n",
    "r"
   ]
  },
  {
   "cell_type": "markdown",
   "id": "89f7a0c4",
   "metadata": {},
   "source": [
    "<b>Other Matrix Functions</b> <br>\n",
    "<li>diag : Return the diagonal (or off-diagonal) elements of a square matrix as a 1D array, or convert a 1D array into a square<br>\n",
    "matrix with zeros on the off-diagonal\n",
    "<li> trace: Compute the sum of the diagonal elements\n",
    "<li> det: Compute the matrix determinant\n",
    "<li> eig: Compute the eigenvalues and eigenvectors of a square matrix\n",
    "<li> pinv: Compute the pseudo-inverse of a square matrix\n",
    "<li> svd: Compute the singular value decomposition (SVD)\n",
    "<li> solve: Solve the linear system Ax = b for x, where A is a square matrix\n",
    "<li> lstsq: Compute the least-squares solution to y = Xb"
   ]
  }
 ],
 "metadata": {
  "hide_input": false,
  "kernelspec": {
   "display_name": "Python 3 (ipykernel)",
   "language": "python",
   "name": "python3"
  },
  "language_info": {
   "codemirror_mode": {
    "name": "ipython",
    "version": 3
   },
   "file_extension": ".py",
   "mimetype": "text/x-python",
   "name": "python",
   "nbconvert_exporter": "python",
   "pygments_lexer": "ipython3",
   "version": "3.11.5"
  },
  "nbTranslate": {
   "displayLangs": [
    "*"
   ],
   "hotkey": "alt-t",
   "langInMainMenu": true,
   "sourceLang": "en",
   "targetLang": "fr",
   "useGoogleTranslate": true
  },
  "toc": {
   "base_numbering": 1,
   "nav_menu": {},
   "number_sections": true,
   "sideBar": true,
   "skip_h1_title": false,
   "title_cell": "Table of Contents",
   "title_sidebar": "Contents",
   "toc_cell": false,
   "toc_position": {},
   "toc_section_display": true,
   "toc_window_display": false
  }
 },
 "nbformat": 4,
 "nbformat_minor": 5
}
