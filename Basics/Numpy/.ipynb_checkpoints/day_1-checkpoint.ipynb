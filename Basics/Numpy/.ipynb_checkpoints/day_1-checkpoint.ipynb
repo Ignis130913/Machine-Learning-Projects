{
 "cells": [
  {
   "cell_type": "markdown",
   "id": "ca1920a4-384f-49d1-abd8-95d9ae80b07e",
   "metadata": {},
   "source": [
    "Importing"
   ]
  },
  {
   "cell_type": "code",
   "execution_count": 1,
   "id": "8b4f9fa7-0281-4b68-a43a-a1021b04134d",
   "metadata": {},
   "outputs": [],
   "source": [
    "import numpy as np\n",
    "import random"
   ]
  },
  {
   "cell_type": "markdown",
   "id": "22814dc4-c07e-4397-8c5c-65bb25c04ce2",
   "metadata": {},
   "source": [
    "Numpy"
   ]
  },
  {
   "cell_type": "code",
   "execution_count": 2,
   "id": "554b1778-3285-4de9-aade-05d426e2f58d",
   "metadata": {},
   "outputs": [
    {
     "name": "stdout",
     "output_type": "stream",
     "text": [
      "[ 0  1  2  3  4  5  6  7  8  9 10 11 12 13 14]\n",
      "[[ 0  1  2  3  4]\n",
      " [ 5  6  7  8  9]\n",
      " [10 11 12 13 14]]\n"
     ]
    }
   ],
   "source": [
    "a=np.arange(15)\n",
    "print(a)\n",
    "print(a.reshape(3,5))"
   ]
  },
  {
   "cell_type": "code",
   "execution_count": 3,
   "id": "346d8aef-78be-4e01-aa42-5eace2b1cbfb",
   "metadata": {},
   "outputs": [
    {
     "data": {
      "text/plain": [
       "(15,)"
      ]
     },
     "execution_count": 3,
     "metadata": {},
     "output_type": "execute_result"
    }
   ],
   "source": [
    "a.shape"
   ]
  },
  {
   "cell_type": "code",
   "execution_count": 4,
   "id": "ee4606d6-6bd4-48d8-bf71-5f094876a7ca",
   "metadata": {},
   "outputs": [],
   "source": [
    "a=a.reshape(3,5)"
   ]
  },
  {
   "cell_type": "code",
   "execution_count": 5,
   "id": "98ed8f34-7d50-4a11-9025-f86d57938e8c",
   "metadata": {},
   "outputs": [
    {
     "data": {
      "text/plain": [
       "'int32'"
      ]
     },
     "execution_count": 5,
     "metadata": {},
     "output_type": "execute_result"
    }
   ],
   "source": [
    "a.dtype.name"
   ]
  },
  {
   "cell_type": "code",
   "execution_count": 6,
   "id": "2026f9df-533c-4696-87f5-d0e9ac466444",
   "metadata": {},
   "outputs": [
    {
     "data": {
      "text/plain": [
       "2"
      ]
     },
     "execution_count": 6,
     "metadata": {},
     "output_type": "execute_result"
    }
   ],
   "source": [
    "a.ndim"
   ]
  },
  {
   "cell_type": "code",
   "execution_count": 7,
   "id": "c9769f4c-7540-485d-b779-ca665bd203ae",
   "metadata": {},
   "outputs": [
    {
     "data": {
      "text/plain": [
       "array([[ 0,  1,  2,  3,  4],\n",
       "       [ 5,  6,  7,  8,  9],\n",
       "       [10, 11, 12, 13, 14]])"
      ]
     },
     "execution_count": 7,
     "metadata": {},
     "output_type": "execute_result"
    }
   ],
   "source": [
    "a"
   ]
  },
  {
   "cell_type": "code",
   "execution_count": 8,
   "id": "57e447a5-2f5f-4f10-ad27-ba4f08c60e2e",
   "metadata": {},
   "outputs": [],
   "source": [
    "a=np.ones(2)"
   ]
  },
  {
   "cell_type": "code",
   "execution_count": 9,
   "id": "d013cd79-7aad-400c-9a52-e0e448a6fa8a",
   "metadata": {},
   "outputs": [
    {
     "data": {
      "text/plain": [
       "array([1., 1.])"
      ]
     },
     "execution_count": 9,
     "metadata": {},
     "output_type": "execute_result"
    }
   ],
   "source": [
    "a"
   ]
  },
  {
   "cell_type": "code",
   "execution_count": 10,
   "id": "5283e28e-c516-472a-b1b1-6d14215dbaa0",
   "metadata": {},
   "outputs": [],
   "source": [
    "a=np.eye(4)"
   ]
  },
  {
   "cell_type": "code",
   "execution_count": 11,
   "id": "91328d4b-817c-4bcb-bfc8-944d705a5adb",
   "metadata": {},
   "outputs": [
    {
     "data": {
      "text/plain": [
       "array([[1., 0., 0., 0.],\n",
       "       [0., 1., 0., 0.],\n",
       "       [0., 0., 1., 0.],\n",
       "       [0., 0., 0., 1.]])"
      ]
     },
     "execution_count": 11,
     "metadata": {},
     "output_type": "execute_result"
    }
   ],
   "source": [
    "a"
   ]
  },
  {
   "cell_type": "code",
   "execution_count": 12,
   "id": "3e69444b-dfe6-4c30-a1aa-8f2be933d0a6",
   "metadata": {},
   "outputs": [],
   "source": [
    "a=np.empty(5)"
   ]
  },
  {
   "cell_type": "code",
   "execution_count": 13,
   "id": "763c1991-94f6-4716-bcd4-57767db7652d",
   "metadata": {},
   "outputs": [
    {
     "data": {
      "text/plain": [
       "array([2.12199579e-314, 1.09070584e-311, 6.10665138e-321, 6.95250701e-310,\n",
       "       1.69117157e-306])"
      ]
     },
     "execution_count": 13,
     "metadata": {},
     "output_type": "execute_result"
    }
   ],
   "source": [
    "a"
   ]
  },
  {
   "cell_type": "code",
   "execution_count": 14,
   "id": "04f40da1-4a1c-4225-a917-829219fba294",
   "metadata": {},
   "outputs": [],
   "source": [
    "a=np.arange(24)"
   ]
  },
  {
   "cell_type": "code",
   "execution_count": 15,
   "id": "c0c0f9f0-b72f-47db-a181-f4ad7193bbd3",
   "metadata": {},
   "outputs": [],
   "source": [
    "a=a.reshape(3,2,4)"
   ]
  },
  {
   "cell_type": "code",
   "execution_count": 16,
   "id": "14f3fba8-a959-41c1-8853-80f797a41cff",
   "metadata": {},
   "outputs": [
    {
     "data": {
      "text/plain": [
       "array([[[ 0,  1,  2,  3],\n",
       "        [ 4,  5,  6,  7]],\n",
       "\n",
       "       [[ 8,  9, 10, 11],\n",
       "        [12, 13, 14, 15]],\n",
       "\n",
       "       [[16, 17, 18, 19],\n",
       "        [20, 21, 22, 23]]])"
      ]
     },
     "execution_count": 16,
     "metadata": {},
     "output_type": "execute_result"
    }
   ],
   "source": [
    "a"
   ]
  },
  {
   "cell_type": "code",
   "execution_count": 17,
   "id": "126e1ecb-3d50-4750-8ae4-a45c88939404",
   "metadata": {
    "scrolled": true
   },
   "outputs": [],
   "source": [
    "b,c=np.random.random((2,4)),np.random.random((2,4))"
   ]
  },
  {
   "cell_type": "code",
   "execution_count": 18,
   "id": "c075dc88-7c3e-471a-98c7-8a3f91733fd3",
   "metadata": {},
   "outputs": [
    {
     "name": "stdout",
     "output_type": "stream",
     "text": [
      "[[0.92597984 0.58024679 0.93432484 0.5536442 ]\n",
      " [0.65494832 0.2695305  0.88916626 0.30265391]]\n",
      "\n",
      "[[0.07223799 0.05133837 0.720833   0.41662965]\n",
      " [0.52436397 0.56222098 0.63188006 0.40380559]]\n",
      "\n",
      "\n",
      "\n",
      "[[0.99821783 0.63158516 1.65515785 0.97027384]\n",
      " [1.17931229 0.83175148 1.52104632 0.70645951]]\n"
     ]
    }
   ],
   "source": [
    "print(b);print();print(c)\n",
    "print(\"\\n\\n\")\n",
    "print(b+c)"
   ]
  },
  {
   "cell_type": "code",
   "execution_count": 19,
   "id": "6afa5fb6-af96-46e6-bca2-ab870665e945",
   "metadata": {},
   "outputs": [
    {
     "name": "stdout",
     "output_type": "stream",
     "text": [
      "[[ 0.85374185  0.52890842  0.21349184  0.13701455]\n",
      " [ 0.13058434 -0.29269048  0.2572862  -0.10115168]]\n",
      "[[0.06689092 0.02978892 0.67349218 0.23066459]\n",
      " [0.3434313  0.1515357  0.56184643 0.12221334]]\n",
      "[[12.81846088 11.30240078  1.29617379  1.32886414]\n",
      " [ 1.24903378  0.47940314  1.40717569  0.74950402]]\n"
     ]
    }
   ],
   "source": [
    "print(b-c)\n",
    "print(b*c)\n",
    "print(b/c)"
   ]
  },
  {
   "cell_type": "code",
   "execution_count": 20,
   "id": "d56b8b5b-b011-4ae0-9385-ecd994d97b48",
   "metadata": {},
   "outputs": [
    {
     "data": {
      "text/plain": [
       "0.1780073219"
      ]
     },
     "execution_count": 20,
     "metadata": {},
     "output_type": "execute_result"
    }
   ],
   "source": [
    "0.53243*0.33433"
   ]
  },
  {
   "cell_type": "code",
   "execution_count": null,
   "id": "1fe19086-5290-46ce-b478-e6b628fe2ae2",
   "metadata": {},
   "outputs": [],
   "source": []
  }
 ],
 "metadata": {
  "kernelspec": {
   "display_name": "Python 3 (ipykernel)",
   "language": "python",
   "name": "python3"
  },
  "language_info": {
   "codemirror_mode": {
    "name": "ipython",
    "version": 3
   },
   "file_extension": ".py",
   "mimetype": "text/x-python",
   "name": "python",
   "nbconvert_exporter": "python",
   "pygments_lexer": "ipython3",
   "version": "3.11.5"
  }
 },
 "nbformat": 4,
 "nbformat_minor": 5
}
