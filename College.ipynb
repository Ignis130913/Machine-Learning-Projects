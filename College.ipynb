{
  "nbformat": 4,
  "nbformat_minor": 0,
  "metadata": {
    "colab": {
      "provenance": []
    },
    "kernelspec": {
      "name": "python3",
      "display_name": "Python 3"
    },
    "language_info": {
      "name": "python"
    }
  },
  "cells": [
    {
      "cell_type": "code",
      "execution_count": null,
      "metadata": {
        "id": "aYxYTd8dqqTY"
      },
      "outputs": [],
      "source": [
        "import numpy as np\n",
        "import pandas as pd"
      ]
    },
    {
      "cell_type": "code",
      "source": [
        "data=pd.read_csv('/content/data[1].csv')"
      ],
      "metadata": {
        "id": "lukohGEKy7-K"
      },
      "execution_count": null,
      "outputs": []
    },
    {
      "cell_type": "code",
      "source": [
        "data.head(2)"
      ],
      "metadata": {
        "colab": {
          "base_uri": "https://localhost:8080/",
          "height": 179
        },
        "id": "ZuLz9QKc3Q03",
        "outputId": "5484f64f-127d-4470-d1ef-b8e3bdb5d9d7"
      },
      "execution_count": null,
      "outputs": [
        {
          "output_type": "execute_result",
          "data": {
            "text/plain": [
              "     ID  ACCESS_ALL_DOWNLOADS  ACCESS_CACHE_FILESYSTEM  \\\n",
              "0  2000                   0.0                      0.0   \n",
              "1  2001                   0.0                      0.0   \n",
              "\n",
              "   ACCESS_CHECKIN_PROPERTIES  ACCESS_COARSE_LOCATION  ACCESS_COARSE_UPDATES  \\\n",
              "0                        0.0                     0.0                    0.0   \n",
              "1                        0.0                     0.0                    0.0   \n",
              "\n",
              "   ACCESS_FINE_LOCATION  ACCESS_LOCATION_EXTRA_COMMANDS  ACCESS_MOCK_LOCATION  \\\n",
              "0                   0.0                             0.0                   0.0   \n",
              "1                   0.0                             0.0                   0.0   \n",
              "\n",
              "   ACCESS_MTK_MMHW  ...  Landroid/telephony/TelephonyManager;->getLine1Number  \\\n",
              "0              0.0  ...                                                1.0      \n",
              "1              0.0  ...                                                0.0      \n",
              "\n",
              "   Landroid/telephony/TelephonyManager;->getNetworkOperator  \\\n",
              "0                                                1.0          \n",
              "1                                                0.0          \n",
              "\n",
              "   Landroid/telephony/TelephonyManager;->getNetworkOperatorName  \\\n",
              "0                                                1.0              \n",
              "1                                                0.0              \n",
              "\n",
              "   Landroid/telephony/TelephonyManager;->getNetworkCountryIso  \\\n",
              "0                                                0.0            \n",
              "1                                                1.0            \n",
              "\n",
              "   Landroid/telephony/TelephonyManager;->getSimOperator  \\\n",
              "0                                                0.0      \n",
              "1                                                0.0      \n",
              "\n",
              "   Landroid/telephony/TelephonyManager;->getSimOperatorName  \\\n",
              "0                                                0.0          \n",
              "1                                                0.0          \n",
              "\n",
              "   Landroid/telephony/TelephonyManager;->getSimCountryIso  \\\n",
              "0                                                0.0        \n",
              "1                                                1.0        \n",
              "\n",
              "   Landroid/telephony/TelephonyManager;->getSimSerialNumber  \\\n",
              "0                                                0.0          \n",
              "1                                                0.0          \n",
              "\n",
              "   Lorg/apache/http/impl/client/DefaultHttpClient;->execute  Label  \n",
              "0                                                1.0           1.0  \n",
              "1                                                0.0           1.0  \n",
              "\n",
              "[2 rows x 243 columns]"
            ],
            "text/html": [
              "\n",
              "  <div id=\"df-4866bc71-9e2a-4bec-89f9-0110ae90d20a\" class=\"colab-df-container\">\n",
              "    <div>\n",
              "<style scoped>\n",
              "    .dataframe tbody tr th:only-of-type {\n",
              "        vertical-align: middle;\n",
              "    }\n",
              "\n",
              "    .dataframe tbody tr th {\n",
              "        vertical-align: top;\n",
              "    }\n",
              "\n",
              "    .dataframe thead th {\n",
              "        text-align: right;\n",
              "    }\n",
              "</style>\n",
              "<table border=\"1\" class=\"dataframe\">\n",
              "  <thead>\n",
              "    <tr style=\"text-align: right;\">\n",
              "      <th></th>\n",
              "      <th>ID</th>\n",
              "      <th>ACCESS_ALL_DOWNLOADS</th>\n",
              "      <th>ACCESS_CACHE_FILESYSTEM</th>\n",
              "      <th>ACCESS_CHECKIN_PROPERTIES</th>\n",
              "      <th>ACCESS_COARSE_LOCATION</th>\n",
              "      <th>ACCESS_COARSE_UPDATES</th>\n",
              "      <th>ACCESS_FINE_LOCATION</th>\n",
              "      <th>ACCESS_LOCATION_EXTRA_COMMANDS</th>\n",
              "      <th>ACCESS_MOCK_LOCATION</th>\n",
              "      <th>ACCESS_MTK_MMHW</th>\n",
              "      <th>...</th>\n",
              "      <th>Landroid/telephony/TelephonyManager;-&gt;getLine1Number</th>\n",
              "      <th>Landroid/telephony/TelephonyManager;-&gt;getNetworkOperator</th>\n",
              "      <th>Landroid/telephony/TelephonyManager;-&gt;getNetworkOperatorName</th>\n",
              "      <th>Landroid/telephony/TelephonyManager;-&gt;getNetworkCountryIso</th>\n",
              "      <th>Landroid/telephony/TelephonyManager;-&gt;getSimOperator</th>\n",
              "      <th>Landroid/telephony/TelephonyManager;-&gt;getSimOperatorName</th>\n",
              "      <th>Landroid/telephony/TelephonyManager;-&gt;getSimCountryIso</th>\n",
              "      <th>Landroid/telephony/TelephonyManager;-&gt;getSimSerialNumber</th>\n",
              "      <th>Lorg/apache/http/impl/client/DefaultHttpClient;-&gt;execute</th>\n",
              "      <th>Label</th>\n",
              "    </tr>\n",
              "  </thead>\n",
              "  <tbody>\n",
              "    <tr>\n",
              "      <th>0</th>\n",
              "      <td>2000</td>\n",
              "      <td>0.0</td>\n",
              "      <td>0.0</td>\n",
              "      <td>0.0</td>\n",
              "      <td>0.0</td>\n",
              "      <td>0.0</td>\n",
              "      <td>0.0</td>\n",
              "      <td>0.0</td>\n",
              "      <td>0.0</td>\n",
              "      <td>0.0</td>\n",
              "      <td>...</td>\n",
              "      <td>1.0</td>\n",
              "      <td>1.0</td>\n",
              "      <td>1.0</td>\n",
              "      <td>0.0</td>\n",
              "      <td>0.0</td>\n",
              "      <td>0.0</td>\n",
              "      <td>0.0</td>\n",
              "      <td>0.0</td>\n",
              "      <td>1.0</td>\n",
              "      <td>1.0</td>\n",
              "    </tr>\n",
              "    <tr>\n",
              "      <th>1</th>\n",
              "      <td>2001</td>\n",
              "      <td>0.0</td>\n",
              "      <td>0.0</td>\n",
              "      <td>0.0</td>\n",
              "      <td>0.0</td>\n",
              "      <td>0.0</td>\n",
              "      <td>0.0</td>\n",
              "      <td>0.0</td>\n",
              "      <td>0.0</td>\n",
              "      <td>0.0</td>\n",
              "      <td>...</td>\n",
              "      <td>0.0</td>\n",
              "      <td>0.0</td>\n",
              "      <td>0.0</td>\n",
              "      <td>1.0</td>\n",
              "      <td>0.0</td>\n",
              "      <td>0.0</td>\n",
              "      <td>1.0</td>\n",
              "      <td>0.0</td>\n",
              "      <td>0.0</td>\n",
              "      <td>1.0</td>\n",
              "    </tr>\n",
              "  </tbody>\n",
              "</table>\n",
              "<p>2 rows × 243 columns</p>\n",
              "</div>\n",
              "    <div class=\"colab-df-buttons\">\n",
              "\n",
              "  <div class=\"colab-df-container\">\n",
              "    <button class=\"colab-df-convert\" onclick=\"convertToInteractive('df-4866bc71-9e2a-4bec-89f9-0110ae90d20a')\"\n",
              "            title=\"Convert this dataframe to an interactive table.\"\n",
              "            style=\"display:none;\">\n",
              "\n",
              "  <svg xmlns=\"http://www.w3.org/2000/svg\" height=\"24px\" viewBox=\"0 -960 960 960\">\n",
              "    <path d=\"M120-120v-720h720v720H120Zm60-500h600v-160H180v160Zm220 220h160v-160H400v160Zm0 220h160v-160H400v160ZM180-400h160v-160H180v160Zm440 0h160v-160H620v160ZM180-180h160v-160H180v160Zm440 0h160v-160H620v160Z\"/>\n",
              "  </svg>\n",
              "    </button>\n",
              "\n",
              "  <style>\n",
              "    .colab-df-container {\n",
              "      display:flex;\n",
              "      gap: 12px;\n",
              "    }\n",
              "\n",
              "    .colab-df-convert {\n",
              "      background-color: #E8F0FE;\n",
              "      border: none;\n",
              "      border-radius: 50%;\n",
              "      cursor: pointer;\n",
              "      display: none;\n",
              "      fill: #1967D2;\n",
              "      height: 32px;\n",
              "      padding: 0 0 0 0;\n",
              "      width: 32px;\n",
              "    }\n",
              "\n",
              "    .colab-df-convert:hover {\n",
              "      background-color: #E2EBFA;\n",
              "      box-shadow: 0px 1px 2px rgba(60, 64, 67, 0.3), 0px 1px 3px 1px rgba(60, 64, 67, 0.15);\n",
              "      fill: #174EA6;\n",
              "    }\n",
              "\n",
              "    .colab-df-buttons div {\n",
              "      margin-bottom: 4px;\n",
              "    }\n",
              "\n",
              "    [theme=dark] .colab-df-convert {\n",
              "      background-color: #3B4455;\n",
              "      fill: #D2E3FC;\n",
              "    }\n",
              "\n",
              "    [theme=dark] .colab-df-convert:hover {\n",
              "      background-color: #434B5C;\n",
              "      box-shadow: 0px 1px 3px 1px rgba(0, 0, 0, 0.15);\n",
              "      filter: drop-shadow(0px 1px 2px rgba(0, 0, 0, 0.3));\n",
              "      fill: #FFFFFF;\n",
              "    }\n",
              "  </style>\n",
              "\n",
              "    <script>\n",
              "      const buttonEl =\n",
              "        document.querySelector('#df-4866bc71-9e2a-4bec-89f9-0110ae90d20a button.colab-df-convert');\n",
              "      buttonEl.style.display =\n",
              "        google.colab.kernel.accessAllowed ? 'block' : 'none';\n",
              "\n",
              "      async function convertToInteractive(key) {\n",
              "        const element = document.querySelector('#df-4866bc71-9e2a-4bec-89f9-0110ae90d20a');\n",
              "        const dataTable =\n",
              "          await google.colab.kernel.invokeFunction('convertToInteractive',\n",
              "                                                    [key], {});\n",
              "        if (!dataTable) return;\n",
              "\n",
              "        const docLinkHtml = 'Like what you see? Visit the ' +\n",
              "          '<a target=\"_blank\" href=https://colab.research.google.com/notebooks/data_table.ipynb>data table notebook</a>'\n",
              "          + ' to learn more about interactive tables.';\n",
              "        element.innerHTML = '';\n",
              "        dataTable['output_type'] = 'display_data';\n",
              "        await google.colab.output.renderOutput(dataTable, element);\n",
              "        const docLink = document.createElement('div');\n",
              "        docLink.innerHTML = docLinkHtml;\n",
              "        element.appendChild(docLink);\n",
              "      }\n",
              "    </script>\n",
              "  </div>\n",
              "\n",
              "\n",
              "<div id=\"df-c0797a92-4d20-4393-a259-e20a8a9ad0b9\">\n",
              "  <button class=\"colab-df-quickchart\" onclick=\"quickchart('df-c0797a92-4d20-4393-a259-e20a8a9ad0b9')\"\n",
              "            title=\"Suggest charts.\"\n",
              "            style=\"display:none;\">\n",
              "\n",
              "<svg xmlns=\"http://www.w3.org/2000/svg\" height=\"24px\"viewBox=\"0 0 24 24\"\n",
              "     width=\"24px\">\n",
              "    <g>\n",
              "        <path d=\"M19 3H5c-1.1 0-2 .9-2 2v14c0 1.1.9 2 2 2h14c1.1 0 2-.9 2-2V5c0-1.1-.9-2-2-2zM9 17H7v-7h2v7zm4 0h-2V7h2v10zm4 0h-2v-4h2v4z\"/>\n",
              "    </g>\n",
              "</svg>\n",
              "  </button>\n",
              "\n",
              "<style>\n",
              "  .colab-df-quickchart {\n",
              "      --bg-color: #E8F0FE;\n",
              "      --fill-color: #1967D2;\n",
              "      --hover-bg-color: #E2EBFA;\n",
              "      --hover-fill-color: #174EA6;\n",
              "      --disabled-fill-color: #AAA;\n",
              "      --disabled-bg-color: #DDD;\n",
              "  }\n",
              "\n",
              "  [theme=dark] .colab-df-quickchart {\n",
              "      --bg-color: #3B4455;\n",
              "      --fill-color: #D2E3FC;\n",
              "      --hover-bg-color: #434B5C;\n",
              "      --hover-fill-color: #FFFFFF;\n",
              "      --disabled-bg-color: #3B4455;\n",
              "      --disabled-fill-color: #666;\n",
              "  }\n",
              "\n",
              "  .colab-df-quickchart {\n",
              "    background-color: var(--bg-color);\n",
              "    border: none;\n",
              "    border-radius: 50%;\n",
              "    cursor: pointer;\n",
              "    display: none;\n",
              "    fill: var(--fill-color);\n",
              "    height: 32px;\n",
              "    padding: 0;\n",
              "    width: 32px;\n",
              "  }\n",
              "\n",
              "  .colab-df-quickchart:hover {\n",
              "    background-color: var(--hover-bg-color);\n",
              "    box-shadow: 0 1px 2px rgba(60, 64, 67, 0.3), 0 1px 3px 1px rgba(60, 64, 67, 0.15);\n",
              "    fill: var(--button-hover-fill-color);\n",
              "  }\n",
              "\n",
              "  .colab-df-quickchart-complete:disabled,\n",
              "  .colab-df-quickchart-complete:disabled:hover {\n",
              "    background-color: var(--disabled-bg-color);\n",
              "    fill: var(--disabled-fill-color);\n",
              "    box-shadow: none;\n",
              "  }\n",
              "\n",
              "  .colab-df-spinner {\n",
              "    border: 2px solid var(--fill-color);\n",
              "    border-color: transparent;\n",
              "    border-bottom-color: var(--fill-color);\n",
              "    animation:\n",
              "      spin 1s steps(1) infinite;\n",
              "  }\n",
              "\n",
              "  @keyframes spin {\n",
              "    0% {\n",
              "      border-color: transparent;\n",
              "      border-bottom-color: var(--fill-color);\n",
              "      border-left-color: var(--fill-color);\n",
              "    }\n",
              "    20% {\n",
              "      border-color: transparent;\n",
              "      border-left-color: var(--fill-color);\n",
              "      border-top-color: var(--fill-color);\n",
              "    }\n",
              "    30% {\n",
              "      border-color: transparent;\n",
              "      border-left-color: var(--fill-color);\n",
              "      border-top-color: var(--fill-color);\n",
              "      border-right-color: var(--fill-color);\n",
              "    }\n",
              "    40% {\n",
              "      border-color: transparent;\n",
              "      border-right-color: var(--fill-color);\n",
              "      border-top-color: var(--fill-color);\n",
              "    }\n",
              "    60% {\n",
              "      border-color: transparent;\n",
              "      border-right-color: var(--fill-color);\n",
              "    }\n",
              "    80% {\n",
              "      border-color: transparent;\n",
              "      border-right-color: var(--fill-color);\n",
              "      border-bottom-color: var(--fill-color);\n",
              "    }\n",
              "    90% {\n",
              "      border-color: transparent;\n",
              "      border-bottom-color: var(--fill-color);\n",
              "    }\n",
              "  }\n",
              "</style>\n",
              "\n",
              "  <script>\n",
              "    async function quickchart(key) {\n",
              "      const quickchartButtonEl =\n",
              "        document.querySelector('#' + key + ' button');\n",
              "      quickchartButtonEl.disabled = true;  // To prevent multiple clicks.\n",
              "      quickchartButtonEl.classList.add('colab-df-spinner');\n",
              "      try {\n",
              "        const charts = await google.colab.kernel.invokeFunction(\n",
              "            'suggestCharts', [key], {});\n",
              "      } catch (error) {\n",
              "        console.error('Error during call to suggestCharts:', error);\n",
              "      }\n",
              "      quickchartButtonEl.classList.remove('colab-df-spinner');\n",
              "      quickchartButtonEl.classList.add('colab-df-quickchart-complete');\n",
              "    }\n",
              "    (() => {\n",
              "      let quickchartButtonEl =\n",
              "        document.querySelector('#df-c0797a92-4d20-4393-a259-e20a8a9ad0b9 button');\n",
              "      quickchartButtonEl.style.display =\n",
              "        google.colab.kernel.accessAllowed ? 'block' : 'none';\n",
              "    })();\n",
              "  </script>\n",
              "</div>\n",
              "    </div>\n",
              "  </div>\n"
            ]
          },
          "metadata": {},
          "execution_count": 3
        }
      ]
    },
    {
      "cell_type": "code",
      "source": [
        "cols = data.columns\n",
        "pd.set_option('display.max_columns', None)\n",
        "print(cols)"
      ],
      "metadata": {
        "colab": {
          "base_uri": "https://localhost:8080/"
        },
        "id": "MJSL7H3czQ2G",
        "outputId": "1de8d531-06ed-47ed-c849-1d3dcdc784b5"
      },
      "execution_count": null,
      "outputs": [
        {
          "output_type": "stream",
          "name": "stdout",
          "text": [
            "Index(['ID', 'ACCESS_ALL_DOWNLOADS', 'ACCESS_CACHE_FILESYSTEM',\n",
            "       'ACCESS_CHECKIN_PROPERTIES', 'ACCESS_COARSE_LOCATION',\n",
            "       'ACCESS_COARSE_UPDATES', 'ACCESS_FINE_LOCATION',\n",
            "       'ACCESS_LOCATION_EXTRA_COMMANDS', 'ACCESS_MOCK_LOCATION',\n",
            "       'ACCESS_MTK_MMHW',\n",
            "       ...\n",
            "       'Landroid/telephony/TelephonyManager;->getLine1Number',\n",
            "       'Landroid/telephony/TelephonyManager;->getNetworkOperator',\n",
            "       'Landroid/telephony/TelephonyManager;->getNetworkOperatorName',\n",
            "       'Landroid/telephony/TelephonyManager;->getNetworkCountryIso',\n",
            "       'Landroid/telephony/TelephonyManager;->getSimOperator',\n",
            "       'Landroid/telephony/TelephonyManager;->getSimOperatorName',\n",
            "       'Landroid/telephony/TelephonyManager;->getSimCountryIso',\n",
            "       'Landroid/telephony/TelephonyManager;->getSimSerialNumber',\n",
            "       'Lorg/apache/http/impl/client/DefaultHttpClient;->execute', 'Label'],\n",
            "      dtype='object', length=243)\n"
          ]
        }
      ]
    },
    {
      "cell_type": "code",
      "source": [
        "data.shape"
      ],
      "metadata": {
        "colab": {
          "base_uri": "https://localhost:8080/"
        },
        "id": "yV8bN7qozkGJ",
        "outputId": "6f6133b0-8c6e-4361-89a3-c960fc4c1253"
      },
      "execution_count": null,
      "outputs": [
        {
          "output_type": "execute_result",
          "data": {
            "text/plain": [
              "(4465, 243)"
            ]
          },
          "metadata": {},
          "execution_count": 5
        }
      ]
    },
    {
      "cell_type": "code",
      "source": [
        "def replace_null_with_mean(data):\n",
        "    return data.dropna()\n",
        "data=replace_null_with_mean(data)"
      ],
      "metadata": {
        "id": "ve5s1yMH3lYn"
      },
      "execution_count": null,
      "outputs": []
    },
    {
      "cell_type": "code",
      "source": [
        "missing=data.isnull().sum()/data.shape[0]*100\n",
        "pd.set_option('display.max_rows', None)\n",
        "print(missing)"
      ],
      "metadata": {
        "colab": {
          "base_uri": "https://localhost:8080/"
        },
        "id": "bCNppka60iPL",
        "outputId": "65558c6f-f63c-4422-b63d-7a14771581b6"
      },
      "execution_count": null,
      "outputs": [
        {
          "output_type": "stream",
          "name": "stdout",
          "text": [
            "ID                                                                   0.0\n",
            "ACCESS_ALL_DOWNLOADS                                                 0.0\n",
            "ACCESS_CACHE_FILESYSTEM                                              0.0\n",
            "ACCESS_CHECKIN_PROPERTIES                                            0.0\n",
            "ACCESS_COARSE_LOCATION                                               0.0\n",
            "ACCESS_COARSE_UPDATES                                                0.0\n",
            "ACCESS_FINE_LOCATION                                                 0.0\n",
            "ACCESS_LOCATION_EXTRA_COMMANDS                                       0.0\n",
            "ACCESS_MOCK_LOCATION                                                 0.0\n",
            "ACCESS_MTK_MMHW                                                      0.0\n",
            "ACCESS_NETWORK_STATE                                                 0.0\n",
            "ACCESS_PROVIDER                                                      0.0\n",
            "ACCESS_SERVICE                                                       0.0\n",
            "ACCESS_SHARED_DATA                                                   0.0\n",
            "ACCESS_SUPERUSER                                                     0.0\n",
            "ACCESS_SURFACE_FLINGER                                               0.0\n",
            "ACCESS_WIFI_STATE                                                    0.0\n",
            "activityCalled                                                       0.0\n",
            "ACTIVITY_RECOGNITION                                                 0.0\n",
            "ACCOUNT_MANAGER                                                      0.0\n",
            "ADD_VOICEMAIL                                                        0.0\n",
            "ANT                                                                  0.0\n",
            "ANT_ADMIN                                                            0.0\n",
            "AUTHENTICATE_ACCOUNTS                                                0.0\n",
            "AUTORUN_MANAGER_LICENSE_MANAGER                                      0.0\n",
            "AUTORUN_MANAGER_LICENSE_SERVICE(.autorun)                            0.0\n",
            "BATTERY_STATS                                                        0.0\n",
            "BILLING                                                              0.0\n",
            "BIND_ACCESSIBILITY_SERVICE                                           0.0\n",
            "BIND_APPWIDGET                                                       0.0\n",
            "BIND_CARRIER_MESSAGING_SERVICE                                       0.0\n",
            "BIND_DEVICE_ADMIN                                                    0.0\n",
            "BIND_DREAM_SERVICE                                                   0.0\n",
            "BIND_GET_INSTALL_REFERRER_SERVICE                                    0.0\n",
            "BIND_INPUT_METHOD                                                    0.0\n",
            "BIND_NFC_SERVICE                                                     0.0\n",
            "BIND_0TIFICATION_LISTENER_SERVICE                                    0.0\n",
            "BIND_PRINT_SERVICE                                                   0.0\n",
            "BIND_REMOTEVIEWS                                                     0.0\n",
            "BIND_TEXT_SERVICE                                                    0.0\n",
            "BIND_TV_INPUT                                                        0.0\n",
            "BIND_VOICE_INTERACTION                                               0.0\n",
            "BIND_VPN_SERVICE                                                     0.0\n",
            "BIND_WALLPAPER                                                       0.0\n",
            "BLUETOOTH                                                            0.0\n",
            "BLUETOOTH_ADMIN                                                      0.0\n",
            "BLUETOOTH_PRIVILEGED                                                 0.0\n",
            "BODY_SENSORS                                                         0.0\n",
            "BRICK                                                                0.0\n",
            "BROADCAST_PACKAGE_REMOVED                                            0.0\n",
            "BROADCAST_SMS                                                        0.0\n",
            "BROADCAST_STICKY                                                     0.0\n",
            "BROADCAST_WAP_PUSH                                                   0.0\n",
            "C2D_MESSAGE                                                          0.0\n",
            "CALL_PHONE                                                           0.0\n",
            "CALL_PRIVILEGED                                                      0.0\n",
            "CAMERA                                                               0.0\n",
            "CAPTURE_AUDIO_OUTPUT                                                 0.0\n",
            "CAPTURE_SECURE_VIDEO_OUTPUT                                          0.0\n",
            "CAPTURE_VIDEO_OUTPUT                                                 0.0\n",
            "CHANGE_COMPONENT_ENABLED_STATE                                       0.0\n",
            "CHANGE_CONFIGURATION                                                 0.0\n",
            "CHANGE_DISPLAY_MODE                                                  0.0\n",
            "CHANGE_NETWORK_STATE                                                 0.0\n",
            "CHANGE_WIFI_MULTICAST_STATE                                          0.0\n",
            "CHANGE_WIFI_STATE                                                    0.0\n",
            "CHECK_LICENSE                                                        0.0\n",
            "CLEAR_APP_CACHE                                                      0.0\n",
            "CLEAR_APP_USER_DATA                                                  0.0\n",
            "CONTROL_LOCATION_UPDATES                                             0.0\n",
            "DATABASE_INTERFACE_SERVICE                                           0.0\n",
            "DELETE_CACHE_FILES                                                   0.0\n",
            "DELETE_PACKAGES                                                      0.0\n",
            "DEVICE_POWER                                                         0.0\n",
            "DIAG0STIC                                                            0.0\n",
            "DISABLE_KEYGUARD                                                     0.0\n",
            "DOWNLOAD_SERVICE                                                     0.0\n",
            "DOWNLOAD_WITHOUT_0TIFICATION                                         0.0\n",
            "DUMP                                                                 0.0\n",
            "EXPAND_STATUS_BAR                                                    0.0\n",
            "EXTENSION_PERMISSION                                                 0.0\n",
            "FACTORY_TEST                                                         0.0\n",
            "FLASHLIGHT                                                           0.0\n",
            "FORCE_BACK                                                           0.0\n",
            "FULLSCREEN.FULL                                                      0.0\n",
            "GET_ACCOUNTS                                                         0.0\n",
            "GET_PACKAGE_SIZE                                                     0.0\n",
            "GET_TASKS                                                            0.0\n",
            "GET_TOP_ACTIVITY_INFO                                                0.0\n",
            "GLOBAL_SEARCH                                                        0.0\n",
            "GOOGLE_AUTH                                                          0.0\n",
            "GOOGLE_PHOTOS                                                        0.0\n",
            "HARDWARE_TEST                                                        0.0\n",
            "INJECT_EVENTS                                                        0.0\n",
            "INSTALL_LOCATION_PROVIDER                                            0.0\n",
            "INSTALL_PACKAGES                                                     0.0\n",
            "INSTALL_SHORTCUT                                                     0.0\n",
            "INTERACT_ACROSS_USERS                                                0.0\n",
            "INTERNAL_SYSTEM_WINDOW                                               0.0\n",
            "INTERNET                                                             0.0\n",
            "JPUSH_MESSAGE                                                        0.0\n",
            "KILL_BACKGROUND_PROCESSES                                            0.0\n",
            "LOCATION_HARDWARE                                                    0.0\n",
            "MANAGE_ACCOUNTS                                                      0.0\n",
            "MANAGE_APP_TOKENS                                                    0.0\n",
            "MANAGE_DOCUMENTS                                                     0.0\n",
            "MAPS_RECEIVE                                                         0.0\n",
            "MASTER_CLEAR                                                         0.0\n",
            "MEDIA_BUTTON                                                         0.0\n",
            "MEDIA_CONTENT_CONTROL                                                0.0\n",
            "MESSAGE                                                              0.0\n",
            "MODIFY_AUDIO_SETTINGS                                                0.0\n",
            "MODIFY_PHONE_STATE                                                   0.0\n",
            "MOUNT_FORMAT_FILESYSTEMS                                             0.0\n",
            "MOUNT_UNMOUNT_FILESYSTEMS                                            0.0\n",
            "NFC                                                                  0.0\n",
            "PERSISTENT_ACTIVITY                                                  0.0\n",
            "PERMISSION                                                           0.0\n",
            "PERMISSION_RUN_TASKS                                                 0.0\n",
            "PLUGIN                                                               0.0\n",
            "PROCESS_OUTGOING_CALLS                                               0.0\n",
            "READ                                                                 0.0\n",
            "READ_ATTACHMENT                                                      0.0\n",
            "READ_AVESTTINGS                                                      0.0\n",
            "READ_CALENDAR                                                        0.0\n",
            "READ_CALL_LOG                                                        0.0\n",
            "READ_CONTACTS                                                        0.0\n",
            "READ_CONTENT_PROVIDER                                                0.0\n",
            "READ_DATA                                                            0.0\n",
            "READ_DATABASES                                                       0.0\n",
            "READ_EXTERNAL_STORAGE                                                0.0\n",
            "READ_FRAME_BUFFER                                                    0.0\n",
            "READ_GMAIL                                                           0.0\n",
            "READ_GSERVICES                                                       0.0\n",
            "READ_HISTORY_BOOKMARKS                                               0.0\n",
            "READ_INPUT_STATE                                                     0.0\n",
            "READ_LOGS                                                            0.0\n",
            "READ_MESSAGES                                                        0.0\n",
            "READ_OWNER_DATA                                                      0.0\n",
            "READ_PHONE_STATE                                                     0.0\n",
            "READ_PROFILE                                                         0.0\n",
            "READ_SETTINGS                                                        0.0\n",
            "READ_SMS                                                             0.0\n",
            "READ_SOCIAL_STREAM                                                   0.0\n",
            "READ_SYNC_SETTINGS                                                   0.0\n",
            "READ_SYNC_STATS                                                      0.0\n",
            "READ_USER_DICTIONARY                                                 0.0\n",
            "READ_VOICEMAIL                                                       0.0\n",
            "REBOOT                                                               0.0\n",
            "RECEIVE                                                              0.0\n",
            "RECEIVE_BOOT_COMPLETED                                               0.0\n",
            "RECEIVE_MMS                                                          0.0\n",
            "RECEIVE_SIGNED_DATA_RESULT                                           0.0\n",
            "RECEIVE_SMS                                                          0.0\n",
            "RECEIVE_USER_PRESENT                                                 0.0\n",
            "RECEIVE_WAP_PUSH                                                     0.0\n",
            "RECORD_AUDIO                                                         0.0\n",
            "REORDER_TASKS                                                        0.0\n",
            "RESPOND                                                              0.0\n",
            "RESTART_PACKAGES                                                     0.0\n",
            "REQUEST                                                              0.0\n",
            "SDCARD_WRITE                                                         0.0\n",
            "SEND                                                                 0.0\n",
            "SEND_RESPOND_VIA_MESSAGE                                             0.0\n",
            "SEND_SMS                                                             0.0\n",
            "SET_ACTIVITY_WATCHER                                                 0.0\n",
            "SET_ALARM                                                            0.0\n",
            "SET_ALWAYS_FINISH                                                    0.0\n",
            "SET_ANIMATION_SCALE                                                  0.0\n",
            "SET_DEBUG_APP                                                        0.0\n",
            "SET_ORIENTATION                                                      0.0\n",
            "SET_POINTER_SPEED                                                    0.0\n",
            "SET_PREFERRED_APPLICATIONS                                           0.0\n",
            "SET_PROCESS_LIMIT                                                    0.0\n",
            "SET_TIME                                                             0.0\n",
            "SET_TIME_ZONE                                                        0.0\n",
            "SET_WALLPAPER                                                        0.0\n",
            "SET_WALLPAPER_HINTS                                                  0.0\n",
            "SIGNAL_PERSISTENT_PROCESSES                                          0.0\n",
            "STATUS_BAR                                                           0.0\n",
            "STORAGE                                                              0.0\n",
            "SUBSCRIBED_FEEDS_READ                                                0.0\n",
            "SUBSCRIBED_FEEDS_WRITE                                               0.0\n",
            "SYSTEM_ALERT_WINDOW                                                  0.0\n",
            "TRANSMIT_IR                                                          0.0\n",
            "UNINSTALL_SHORTCUT                                                   0.0\n",
            "UPDATE_DEVICE_STATS                                                  0.0\n",
            "USES_POLICY_FORCE_LOCK                                               0.0\n",
            "USE_CREDENTIALS                                                      0.0\n",
            "USE_FINGERPRINT                                                      0.0\n",
            "USE_SIP                                                              0.0\n",
            "VIBRATE                                                              0.0\n",
            "WAKE_LOCK                                                            0.0\n",
            "WRITE                                                                0.0\n",
            "WRITE_APN_SETTINGS                                                   0.0\n",
            "WRITE_AVSETTING                                                      0.0\n",
            "WRITE_CALENDAR                                                       0.0\n",
            "WRITE_CALL_LOG                                                       0.0\n",
            "WRITE_CONTACTS                                                       0.0\n",
            "WRITE_DATA                                                           0.0\n",
            "WRITE_DATABASES                                                      0.0\n",
            "WRITE_EXTERNAL_STORAGE                                               0.0\n",
            "WRITE_GSERVICES                                                      0.0\n",
            "WRITE_HISTORY_BOOKMARKS                                              0.0\n",
            "WRITE_INTERNAL_STORAGE                                               0.0\n",
            "WRITE_MEDIA_STORAGE                                                  0.0\n",
            "WRITE_OWNER_DATA                                                     0.0\n",
            "WRITE_PROFILE                                                        0.0\n",
            "WRITE_SECURE_SETTINGS                                                0.0\n",
            "WRITE_SETTINGS                                                       0.0\n",
            "WRITE_SMS                                                            0.0\n",
            "WRITE_SOCIAL_STREAM                                                  0.0\n",
            "WRITE_SYNC_SETTINGS                                                  0.0\n",
            "WRITE_USER_DICTIONARY                                                0.0\n",
            "WRITE_VOICEMAIL                                                      0.0\n",
            "Ljava/lang/reflect/Method;->invoke                                   0.0\n",
            "Ljavax/crypto/Cipher;->doFinal                                       0.0\n",
            "Ljava/lang/Runtime;->exec                                            0.0\n",
            "Ljava/lang/System;->load                                             0.0\n",
            "Ldalvik/system/DexClassLoader;->loadClass                            0.0\n",
            "Ljava/lang/System;->loadLibrary                                      0.0\n",
            "Ljava/net/URL;->openConnection                                       0.0\n",
            "Landroid/hardware/Camera;->open                                      0.0\n",
            "Landroid/hardware/Camera;->takePicture                               0.0\n",
            "Landroid/telephony/SmsManager;->sendMultipartTextMessage             0.0\n",
            "Landroid/telephony/SmsManager;->sendTextMessage                      0.0\n",
            "Landroid/media/AudioRecord;->startRecording                          0.0\n",
            "Landroid/telephony/TelephonyManager;->getCellLocation                0.0\n",
            "Lcom/google/android/gms/location/LocationClient;->getLastLocation    0.0\n",
            "Landroid/location/LocationManager;->getLastK0wnLocation              0.0\n",
            "Landroid/telephony/TelephonyManager;->getDeviceId                    0.0\n",
            "Landroid/content/pm/PackageManager;->getInstalledApplications        0.0\n",
            "Landroid/content/pm/PackageManager;->getInstalledPackages            0.0\n",
            "Landroid/telephony/TelephonyManager;->getLine1Number                 0.0\n",
            "Landroid/telephony/TelephonyManager;->getNetworkOperator             0.0\n",
            "Landroid/telephony/TelephonyManager;->getNetworkOperatorName         0.0\n",
            "Landroid/telephony/TelephonyManager;->getNetworkCountryIso           0.0\n",
            "Landroid/telephony/TelephonyManager;->getSimOperator                 0.0\n",
            "Landroid/telephony/TelephonyManager;->getSimOperatorName             0.0\n",
            "Landroid/telephony/TelephonyManager;->getSimCountryIso               0.0\n",
            "Landroid/telephony/TelephonyManager;->getSimSerialNumber             0.0\n",
            "Lorg/apache/http/impl/client/DefaultHttpClient;->execute             0.0\n",
            "Label                                                                0.0\n",
            "dtype: float64\n"
          ]
        }
      ]
    },
    {
      "cell_type": "code",
      "source": [
        "data.dtypes"
      ],
      "metadata": {
        "colab": {
          "base_uri": "https://localhost:8080/"
        },
        "id": "VUvrJMP80zmJ",
        "outputId": "8be6473e-b872-4912-e82d-deee6abbce13"
      },
      "execution_count": null,
      "outputs": [
        {
          "output_type": "execute_result",
          "data": {
            "text/plain": [
              "ID                                                                     int64\n",
              "ACCESS_ALL_DOWNLOADS                                                 float64\n",
              "ACCESS_CACHE_FILESYSTEM                                              float64\n",
              "ACCESS_CHECKIN_PROPERTIES                                            float64\n",
              "ACCESS_COARSE_LOCATION                                               float64\n",
              "ACCESS_COARSE_UPDATES                                                float64\n",
              "ACCESS_FINE_LOCATION                                                 float64\n",
              "ACCESS_LOCATION_EXTRA_COMMANDS                                       float64\n",
              "ACCESS_MOCK_LOCATION                                                 float64\n",
              "ACCESS_MTK_MMHW                                                      float64\n",
              "ACCESS_NETWORK_STATE                                                 float64\n",
              "ACCESS_PROVIDER                                                      float64\n",
              "ACCESS_SERVICE                                                       float64\n",
              "ACCESS_SHARED_DATA                                                   float64\n",
              "ACCESS_SUPERUSER                                                     float64\n",
              "ACCESS_SURFACE_FLINGER                                               float64\n",
              "ACCESS_WIFI_STATE                                                    float64\n",
              "activityCalled                                                       float64\n",
              "ACTIVITY_RECOGNITION                                                 float64\n",
              "ACCOUNT_MANAGER                                                      float64\n",
              "ADD_VOICEMAIL                                                        float64\n",
              "ANT                                                                  float64\n",
              "ANT_ADMIN                                                            float64\n",
              "AUTHENTICATE_ACCOUNTS                                                float64\n",
              "AUTORUN_MANAGER_LICENSE_MANAGER                                      float64\n",
              "AUTORUN_MANAGER_LICENSE_SERVICE(.autorun)                            float64\n",
              "BATTERY_STATS                                                        float64\n",
              "BILLING                                                              float64\n",
              "BIND_ACCESSIBILITY_SERVICE                                           float64\n",
              "BIND_APPWIDGET                                                       float64\n",
              "BIND_CARRIER_MESSAGING_SERVICE                                       float64\n",
              "BIND_DEVICE_ADMIN                                                    float64\n",
              "BIND_DREAM_SERVICE                                                   float64\n",
              "BIND_GET_INSTALL_REFERRER_SERVICE                                    float64\n",
              "BIND_INPUT_METHOD                                                    float64\n",
              "BIND_NFC_SERVICE                                                     float64\n",
              "BIND_0TIFICATION_LISTENER_SERVICE                                    float64\n",
              "BIND_PRINT_SERVICE                                                   float64\n",
              "BIND_REMOTEVIEWS                                                     float64\n",
              "BIND_TEXT_SERVICE                                                    float64\n",
              "BIND_TV_INPUT                                                        float64\n",
              "BIND_VOICE_INTERACTION                                               float64\n",
              "BIND_VPN_SERVICE                                                     float64\n",
              "BIND_WALLPAPER                                                       float64\n",
              "BLUETOOTH                                                            float64\n",
              "BLUETOOTH_ADMIN                                                      float64\n",
              "BLUETOOTH_PRIVILEGED                                                 float64\n",
              "BODY_SENSORS                                                         float64\n",
              "BRICK                                                                float64\n",
              "BROADCAST_PACKAGE_REMOVED                                            float64\n",
              "BROADCAST_SMS                                                        float64\n",
              "BROADCAST_STICKY                                                     float64\n",
              "BROADCAST_WAP_PUSH                                                   float64\n",
              "C2D_MESSAGE                                                          float64\n",
              "CALL_PHONE                                                           float64\n",
              "CALL_PRIVILEGED                                                      float64\n",
              "CAMERA                                                               float64\n",
              "CAPTURE_AUDIO_OUTPUT                                                 float64\n",
              "CAPTURE_SECURE_VIDEO_OUTPUT                                          float64\n",
              "CAPTURE_VIDEO_OUTPUT                                                 float64\n",
              "CHANGE_COMPONENT_ENABLED_STATE                                       float64\n",
              "CHANGE_CONFIGURATION                                                 float64\n",
              "CHANGE_DISPLAY_MODE                                                  float64\n",
              "CHANGE_NETWORK_STATE                                                 float64\n",
              "CHANGE_WIFI_MULTICAST_STATE                                          float64\n",
              "CHANGE_WIFI_STATE                                                    float64\n",
              "CHECK_LICENSE                                                        float64\n",
              "CLEAR_APP_CACHE                                                      float64\n",
              "CLEAR_APP_USER_DATA                                                  float64\n",
              "CONTROL_LOCATION_UPDATES                                             float64\n",
              "DATABASE_INTERFACE_SERVICE                                           float64\n",
              "DELETE_CACHE_FILES                                                   float64\n",
              "DELETE_PACKAGES                                                      float64\n",
              "DEVICE_POWER                                                         float64\n",
              "DIAG0STIC                                                            float64\n",
              "DISABLE_KEYGUARD                                                     float64\n",
              "DOWNLOAD_SERVICE                                                     float64\n",
              "DOWNLOAD_WITHOUT_0TIFICATION                                         float64\n",
              "DUMP                                                                 float64\n",
              "EXPAND_STATUS_BAR                                                    float64\n",
              "EXTENSION_PERMISSION                                                 float64\n",
              "FACTORY_TEST                                                         float64\n",
              "FLASHLIGHT                                                           float64\n",
              "FORCE_BACK                                                           float64\n",
              "FULLSCREEN.FULL                                                      float64\n",
              "GET_ACCOUNTS                                                         float64\n",
              "GET_PACKAGE_SIZE                                                     float64\n",
              "GET_TASKS                                                            float64\n",
              "GET_TOP_ACTIVITY_INFO                                                float64\n",
              "GLOBAL_SEARCH                                                        float64\n",
              "GOOGLE_AUTH                                                          float64\n",
              "GOOGLE_PHOTOS                                                        float64\n",
              "HARDWARE_TEST                                                        float64\n",
              "INJECT_EVENTS                                                        float64\n",
              "INSTALL_LOCATION_PROVIDER                                            float64\n",
              "INSTALL_PACKAGES                                                     float64\n",
              "INSTALL_SHORTCUT                                                     float64\n",
              "INTERACT_ACROSS_USERS                                                float64\n",
              "INTERNAL_SYSTEM_WINDOW                                               float64\n",
              "INTERNET                                                             float64\n",
              "JPUSH_MESSAGE                                                        float64\n",
              "KILL_BACKGROUND_PROCESSES                                            float64\n",
              "LOCATION_HARDWARE                                                    float64\n",
              "MANAGE_ACCOUNTS                                                      float64\n",
              "MANAGE_APP_TOKENS                                                    float64\n",
              "MANAGE_DOCUMENTS                                                     float64\n",
              "MAPS_RECEIVE                                                         float64\n",
              "MASTER_CLEAR                                                         float64\n",
              "MEDIA_BUTTON                                                         float64\n",
              "MEDIA_CONTENT_CONTROL                                                float64\n",
              "MESSAGE                                                              float64\n",
              "MODIFY_AUDIO_SETTINGS                                                float64\n",
              "MODIFY_PHONE_STATE                                                   float64\n",
              "MOUNT_FORMAT_FILESYSTEMS                                             float64\n",
              "MOUNT_UNMOUNT_FILESYSTEMS                                            float64\n",
              "NFC                                                                  float64\n",
              "PERSISTENT_ACTIVITY                                                  float64\n",
              "PERMISSION                                                           float64\n",
              "PERMISSION_RUN_TASKS                                                 float64\n",
              "PLUGIN                                                               float64\n",
              "PROCESS_OUTGOING_CALLS                                               float64\n",
              "READ                                                                 float64\n",
              "READ_ATTACHMENT                                                      float64\n",
              "READ_AVESTTINGS                                                      float64\n",
              "READ_CALENDAR                                                        float64\n",
              "READ_CALL_LOG                                                        float64\n",
              "READ_CONTACTS                                                        float64\n",
              "READ_CONTENT_PROVIDER                                                float64\n",
              "READ_DATA                                                            float64\n",
              "READ_DATABASES                                                       float64\n",
              "READ_EXTERNAL_STORAGE                                                float64\n",
              "READ_FRAME_BUFFER                                                    float64\n",
              "READ_GMAIL                                                           float64\n",
              "READ_GSERVICES                                                       float64\n",
              "READ_HISTORY_BOOKMARKS                                               float64\n",
              "READ_INPUT_STATE                                                     float64\n",
              "READ_LOGS                                                            float64\n",
              "READ_MESSAGES                                                        float64\n",
              "READ_OWNER_DATA                                                      float64\n",
              "READ_PHONE_STATE                                                     float64\n",
              "READ_PROFILE                                                         float64\n",
              "READ_SETTINGS                                                        float64\n",
              "READ_SMS                                                             float64\n",
              "READ_SOCIAL_STREAM                                                   float64\n",
              "READ_SYNC_SETTINGS                                                   float64\n",
              "READ_SYNC_STATS                                                      float64\n",
              "READ_USER_DICTIONARY                                                 float64\n",
              "READ_VOICEMAIL                                                       float64\n",
              "REBOOT                                                               float64\n",
              "RECEIVE                                                              float64\n",
              "RECEIVE_BOOT_COMPLETED                                               float64\n",
              "RECEIVE_MMS                                                          float64\n",
              "RECEIVE_SIGNED_DATA_RESULT                                           float64\n",
              "RECEIVE_SMS                                                          float64\n",
              "RECEIVE_USER_PRESENT                                                 float64\n",
              "RECEIVE_WAP_PUSH                                                     float64\n",
              "RECORD_AUDIO                                                         float64\n",
              "REORDER_TASKS                                                        float64\n",
              "RESPOND                                                              float64\n",
              "RESTART_PACKAGES                                                     float64\n",
              "REQUEST                                                              float64\n",
              "SDCARD_WRITE                                                         float64\n",
              "SEND                                                                 float64\n",
              "SEND_RESPOND_VIA_MESSAGE                                             float64\n",
              "SEND_SMS                                                             float64\n",
              "SET_ACTIVITY_WATCHER                                                 float64\n",
              "SET_ALARM                                                            float64\n",
              "SET_ALWAYS_FINISH                                                    float64\n",
              "SET_ANIMATION_SCALE                                                  float64\n",
              "SET_DEBUG_APP                                                        float64\n",
              "SET_ORIENTATION                                                      float64\n",
              "SET_POINTER_SPEED                                                    float64\n",
              "SET_PREFERRED_APPLICATIONS                                           float64\n",
              "SET_PROCESS_LIMIT                                                    float64\n",
              "SET_TIME                                                             float64\n",
              "SET_TIME_ZONE                                                        float64\n",
              "SET_WALLPAPER                                                        float64\n",
              "SET_WALLPAPER_HINTS                                                  float64\n",
              "SIGNAL_PERSISTENT_PROCESSES                                          float64\n",
              "STATUS_BAR                                                           float64\n",
              "STORAGE                                                              float64\n",
              "SUBSCRIBED_FEEDS_READ                                                float64\n",
              "SUBSCRIBED_FEEDS_WRITE                                               float64\n",
              "SYSTEM_ALERT_WINDOW                                                  float64\n",
              "TRANSMIT_IR                                                          float64\n",
              "UNINSTALL_SHORTCUT                                                   float64\n",
              "UPDATE_DEVICE_STATS                                                  float64\n",
              "USES_POLICY_FORCE_LOCK                                               float64\n",
              "USE_CREDENTIALS                                                      float64\n",
              "USE_FINGERPRINT                                                      float64\n",
              "USE_SIP                                                              float64\n",
              "VIBRATE                                                              float64\n",
              "WAKE_LOCK                                                            float64\n",
              "WRITE                                                                float64\n",
              "WRITE_APN_SETTINGS                                                   float64\n",
              "WRITE_AVSETTING                                                      float64\n",
              "WRITE_CALENDAR                                                       float64\n",
              "WRITE_CALL_LOG                                                       float64\n",
              "WRITE_CONTACTS                                                       float64\n",
              "WRITE_DATA                                                           float64\n",
              "WRITE_DATABASES                                                      float64\n",
              "WRITE_EXTERNAL_STORAGE                                               float64\n",
              "WRITE_GSERVICES                                                      float64\n",
              "WRITE_HISTORY_BOOKMARKS                                              float64\n",
              "WRITE_INTERNAL_STORAGE                                               float64\n",
              "WRITE_MEDIA_STORAGE                                                  float64\n",
              "WRITE_OWNER_DATA                                                     float64\n",
              "WRITE_PROFILE                                                        float64\n",
              "WRITE_SECURE_SETTINGS                                                float64\n",
              "WRITE_SETTINGS                                                       float64\n",
              "WRITE_SMS                                                            float64\n",
              "WRITE_SOCIAL_STREAM                                                  float64\n",
              "WRITE_SYNC_SETTINGS                                                  float64\n",
              "WRITE_USER_DICTIONARY                                                float64\n",
              "WRITE_VOICEMAIL                                                      float64\n",
              "Ljava/lang/reflect/Method;->invoke                                   float64\n",
              "Ljavax/crypto/Cipher;->doFinal                                       float64\n",
              "Ljava/lang/Runtime;->exec                                            float64\n",
              "Ljava/lang/System;->load                                             float64\n",
              "Ldalvik/system/DexClassLoader;->loadClass                            float64\n",
              "Ljava/lang/System;->loadLibrary                                      float64\n",
              "Ljava/net/URL;->openConnection                                       float64\n",
              "Landroid/hardware/Camera;->open                                      float64\n",
              "Landroid/hardware/Camera;->takePicture                               float64\n",
              "Landroid/telephony/SmsManager;->sendMultipartTextMessage             float64\n",
              "Landroid/telephony/SmsManager;->sendTextMessage                      float64\n",
              "Landroid/media/AudioRecord;->startRecording                          float64\n",
              "Landroid/telephony/TelephonyManager;->getCellLocation                float64\n",
              "Lcom/google/android/gms/location/LocationClient;->getLastLocation    float64\n",
              "Landroid/location/LocationManager;->getLastK0wnLocation              float64\n",
              "Landroid/telephony/TelephonyManager;->getDeviceId                    float64\n",
              "Landroid/content/pm/PackageManager;->getInstalledApplications        float64\n",
              "Landroid/content/pm/PackageManager;->getInstalledPackages            float64\n",
              "Landroid/telephony/TelephonyManager;->getLine1Number                 float64\n",
              "Landroid/telephony/TelephonyManager;->getNetworkOperator             float64\n",
              "Landroid/telephony/TelephonyManager;->getNetworkOperatorName         float64\n",
              "Landroid/telephony/TelephonyManager;->getNetworkCountryIso           float64\n",
              "Landroid/telephony/TelephonyManager;->getSimOperator                 float64\n",
              "Landroid/telephony/TelephonyManager;->getSimOperatorName             float64\n",
              "Landroid/telephony/TelephonyManager;->getSimCountryIso               float64\n",
              "Landroid/telephony/TelephonyManager;->getSimSerialNumber             float64\n",
              "Lorg/apache/http/impl/client/DefaultHttpClient;->execute             float64\n",
              "Label                                                                float64\n",
              "dtype: object"
            ]
          },
          "metadata": {},
          "execution_count": 8
        }
      ]
    },
    {
      "cell_type": "code",
      "source": [
        "data['Label'].value_counts()"
      ],
      "metadata": {
        "colab": {
          "base_uri": "https://localhost:8080/"
        },
        "id": "5kIm6z495Rbm",
        "outputId": "71f31367-a2b4-42ae-bca9-c660b7103cc6"
      },
      "execution_count": null,
      "outputs": [
        {
          "output_type": "execute_result",
          "data": {
            "text/plain": [
              "1.0    3565\n",
              "0.0     899\n",
              "Name: Label, dtype: int64"
            ]
          },
          "metadata": {},
          "execution_count": 9
        }
      ]
    },
    {
      "cell_type": "code",
      "source": [
        "x=data.drop(columns=['ID','Label'])\n",
        "y=data['Label']"
      ],
      "metadata": {
        "id": "WHFw42h0P5VF"
      },
      "execution_count": null,
      "outputs": []
    },
    {
      "cell_type": "code",
      "source": [
        "x.shape"
      ],
      "metadata": {
        "colab": {
          "base_uri": "https://localhost:8080/"
        },
        "id": "-41jQbdfRPi2",
        "outputId": "c415a6bf-1f8b-4096-a072-736eb7d435a2"
      },
      "execution_count": null,
      "outputs": [
        {
          "output_type": "execute_result",
          "data": {
            "text/plain": [
              "(4464, 241)"
            ]
          },
          "metadata": {},
          "execution_count": 21
        }
      ]
    },
    {
      "cell_type": "code",
      "source": [
        "y.shape"
      ],
      "metadata": {
        "colab": {
          "base_uri": "https://localhost:8080/"
        },
        "id": "vrqZMRfTRRmv",
        "outputId": "a06d31cb-2223-4cfa-aed3-79f847bb04dd"
      },
      "execution_count": null,
      "outputs": [
        {
          "output_type": "execute_result",
          "data": {
            "text/plain": [
              "(4464,)"
            ]
          },
          "metadata": {},
          "execution_count": 22
        }
      ]
    },
    {
      "cell_type": "code",
      "source": [
        "from sklearn.datasets import make_classification\n",
        "from imblearn.over_sampling import SMOTE\n",
        "\n",
        "oversample = SMOTE()\n",
        "x, y = oversample.fit_resample(x, y)"
      ],
      "metadata": {
        "id": "Z5kuTE1iPwMW"
      },
      "execution_count": null,
      "outputs": []
    },
    {
      "cell_type": "code",
      "source": [
        "x.shape"
      ],
      "metadata": {
        "colab": {
          "base_uri": "https://localhost:8080/"
        },
        "id": "zIwe78W-Q5Kq",
        "outputId": "fc1d1f84-0a08-4f87-8668-1839074dcd7b"
      },
      "execution_count": null,
      "outputs": [
        {
          "output_type": "execute_result",
          "data": {
            "text/plain": [
              "(7130, 241)"
            ]
          },
          "metadata": {},
          "execution_count": 24
        }
      ]
    },
    {
      "cell_type": "code",
      "source": [
        "y.value_counts()"
      ],
      "metadata": {
        "colab": {
          "base_uri": "https://localhost:8080/"
        },
        "id": "QmJmBmJcBHeF",
        "outputId": "dd1c6b13-5711-40d9-d3df-479c62954d47"
      },
      "execution_count": null,
      "outputs": [
        {
          "output_type": "execute_result",
          "data": {
            "text/plain": [
              "1.0    3565\n",
              "0.0    3565\n",
              "Name: Label, dtype: int64"
            ]
          },
          "metadata": {},
          "execution_count": 25
        }
      ]
    },
    {
      "cell_type": "code",
      "source": [
        "import seaborn as sns\n",
        "import matplotlib.pyplot as plt"
      ],
      "metadata": {
        "id": "74w5cPoB3t5J"
      },
      "execution_count": null,
      "outputs": []
    },
    {
      "cell_type": "code",
      "source": [
        "from sklearn.model_selection import train_test_split\n",
        "from sklearn.linear_model import LogisticRegression\n",
        "from sklearn.neighbors import KNeighborsClassifier\n",
        "from sklearn.tree import DecisionTreeClassifier\n",
        "from sklearn.ensemble import RandomForestClassifier\n",
        "from sklearn.svm import SVC\n",
        "from sklearn.metrics import accuracy_score, classification_report, confusion_matrix\n",
        "import xgboost as xgb"
      ],
      "metadata": {
        "id": "dO_qhV6I4riz"
      },
      "execution_count": null,
      "outputs": []
    },
    {
      "cell_type": "code",
      "source": [
        "def create_and_validate_classification_models(X, y):\n",
        "    models = {\n",
        "        'Logistic Regression': LogisticRegression(),\n",
        "        'K-Nearest Neighbors': KNeighborsClassifier(),\n",
        "        'Decision Tree': DecisionTreeClassifier(),\n",
        "        'Random Forest': RandomForestClassifier(),\n",
        "        'Support Vector Machine': SVC(),\n",
        "        'Xg Boost':xgb.XGBClassifier()\n",
        "    }\n",
        "    X_train, X_test, y_train, y_test = train_test_split(X, y, test_size=0.2, random_state=42)\n",
        "    results = {}\n",
        "    for model_name, model in models.items():\n",
        "        model.fit(X_train, y_train)\n",
        "        y_pred = model.predict(X_test)\n",
        "        accuracy = accuracy_score(y_test, y_pred)\n",
        "        class_report = classification_report(y_test, y_pred)\n",
        "        conf_matrix = confusion_matrix(y_test, y_pred)\n",
        "        results[model_name] = {\n",
        "            'model': model,\n",
        "            'accuracy': accuracy,\n",
        "            'classification_report': class_report,\n",
        "            'confusion_matrix': conf_matrix\n",
        "        }\n",
        "        print(f\"Model: {model_name}\")\n",
        "        print(f\"Accuracy: {accuracy:.7f}\")\n",
        "        print(\"Classification Report:\")\n",
        "        print(class_report)\n",
        "        print(\"Confusion Matrix:\")\n",
        "        print(conf_matrix)\n",
        "        print(\"----------------------------\")\n",
        "    return results"
      ],
      "metadata": {
        "id": "OthVYvQa4pUK"
      },
      "execution_count": null,
      "outputs": []
    },
    {
      "cell_type": "code",
      "source": [
        "print(\"Normal Data\")\n",
        "print()\n",
        "create_and_validate_classification_models(x,y)"
      ],
      "metadata": {
        "colab": {
          "base_uri": "https://localhost:8080/"
        },
        "id": "eZ5wwTTf9sUv",
        "outputId": "e6ca04ea-02e7-4587-9543-9276a2bf6f5d"
      },
      "execution_count": null,
      "outputs": [
        {
          "output_type": "stream",
          "name": "stdout",
          "text": [
            "Normal Data\n",
            "\n",
            "Model: Logistic Regression\n",
            "Accuracy: 0.9908836\n",
            "Classification Report:\n",
            "              precision    recall  f1-score   support\n",
            "\n",
            "         0.0       0.99      0.99      0.99       694\n",
            "         1.0       0.99      0.99      0.99       732\n",
            "\n",
            "    accuracy                           0.99      1426\n",
            "   macro avg       0.99      0.99      0.99      1426\n",
            "weighted avg       0.99      0.99      0.99      1426\n",
            "\n",
            "Confusion Matrix:\n",
            "[[690   4]\n",
            " [  9 723]]\n",
            "----------------------------\n",
            "Model: K-Nearest Neighbors\n",
            "Accuracy: 0.9950912\n",
            "Classification Report:\n",
            "              precision    recall  f1-score   support\n",
            "\n",
            "         0.0       0.99      1.00      0.99       694\n",
            "         1.0       1.00      0.99      1.00       732\n",
            "\n",
            "    accuracy                           1.00      1426\n",
            "   macro avg       1.00      1.00      1.00      1426\n",
            "weighted avg       1.00      1.00      1.00      1426\n",
            "\n",
            "Confusion Matrix:\n",
            "[[692   2]\n",
            " [  5 727]]\n",
            "----------------------------\n",
            "Model: Decision Tree\n",
            "Accuracy: 0.9936886\n",
            "Classification Report:\n",
            "              precision    recall  f1-score   support\n",
            "\n",
            "         0.0       0.99      0.99      0.99       694\n",
            "         1.0       0.99      0.99      0.99       732\n",
            "\n",
            "    accuracy                           0.99      1426\n",
            "   macro avg       0.99      0.99      0.99      1426\n",
            "weighted avg       0.99      0.99      0.99      1426\n",
            "\n",
            "Confusion Matrix:\n",
            "[[689   5]\n",
            " [  4 728]]\n",
            "----------------------------\n",
            "Model: Random Forest\n",
            "Accuracy: 0.9971950\n",
            "Classification Report:\n",
            "              precision    recall  f1-score   support\n",
            "\n",
            "         0.0       0.99      1.00      1.00       694\n",
            "         1.0       1.00      0.99      1.00       732\n",
            "\n",
            "    accuracy                           1.00      1426\n",
            "   macro avg       1.00      1.00      1.00      1426\n",
            "weighted avg       1.00      1.00      1.00      1426\n",
            "\n",
            "Confusion Matrix:\n",
            "[[694   0]\n",
            " [  4 728]]\n",
            "----------------------------\n",
            "Model: Support Vector Machine\n",
            "Accuracy: 0.9943899\n",
            "Classification Report:\n",
            "              precision    recall  f1-score   support\n",
            "\n",
            "         0.0       0.99      1.00      0.99       694\n",
            "         1.0       1.00      0.99      0.99       732\n",
            "\n",
            "    accuracy                           0.99      1426\n",
            "   macro avg       0.99      0.99      0.99      1426\n",
            "weighted avg       0.99      0.99      0.99      1426\n",
            "\n",
            "Confusion Matrix:\n",
            "[[694   0]\n",
            " [  8 724]]\n",
            "----------------------------\n",
            "Model: Xg Boost\n",
            "Accuracy: 0.9943899\n",
            "Classification Report:\n",
            "              precision    recall  f1-score   support\n",
            "\n",
            "         0.0       0.99      0.99      0.99       694\n",
            "         1.0       0.99      0.99      0.99       732\n",
            "\n",
            "    accuracy                           0.99      1426\n",
            "   macro avg       0.99      0.99      0.99      1426\n",
            "weighted avg       0.99      0.99      0.99      1426\n",
            "\n",
            "Confusion Matrix:\n",
            "[[690   4]\n",
            " [  4 728]]\n",
            "----------------------------\n"
          ]
        },
        {
          "output_type": "execute_result",
          "data": {
            "text/plain": [
              "{'Logistic Regression': {'model': LogisticRegression(),\n",
              "  'accuracy': 0.9908835904628331,\n",
              "  'classification_report': '              precision    recall  f1-score   support\\n\\n         0.0       0.99      0.99      0.99       694\\n         1.0       0.99      0.99      0.99       732\\n\\n    accuracy                           0.99      1426\\n   macro avg       0.99      0.99      0.99      1426\\nweighted avg       0.99      0.99      0.99      1426\\n',\n",
              "  'confusion_matrix': array([[690,   4],\n",
              "         [  9, 723]])},\n",
              " 'K-Nearest Neighbors': {'model': KNeighborsClassifier(),\n",
              "  'accuracy': 0.9950911640953717,\n",
              "  'classification_report': '              precision    recall  f1-score   support\\n\\n         0.0       0.99      1.00      0.99       694\\n         1.0       1.00      0.99      1.00       732\\n\\n    accuracy                           1.00      1426\\n   macro avg       1.00      1.00      1.00      1426\\nweighted avg       1.00      1.00      1.00      1426\\n',\n",
              "  'confusion_matrix': array([[692,   2],\n",
              "         [  5, 727]])},\n",
              " 'Decision Tree': {'model': DecisionTreeClassifier(),\n",
              "  'accuracy': 0.9936886395511921,\n",
              "  'classification_report': '              precision    recall  f1-score   support\\n\\n         0.0       0.99      0.99      0.99       694\\n         1.0       0.99      0.99      0.99       732\\n\\n    accuracy                           0.99      1426\\n   macro avg       0.99      0.99      0.99      1426\\nweighted avg       0.99      0.99      0.99      1426\\n',\n",
              "  'confusion_matrix': array([[689,   5],\n",
              "         [  4, 728]])},\n",
              " 'Random Forest': {'model': RandomForestClassifier(),\n",
              "  'accuracy': 0.9971949509116409,\n",
              "  'classification_report': '              precision    recall  f1-score   support\\n\\n         0.0       0.99      1.00      1.00       694\\n         1.0       1.00      0.99      1.00       732\\n\\n    accuracy                           1.00      1426\\n   macro avg       1.00      1.00      1.00      1426\\nweighted avg       1.00      1.00      1.00      1426\\n',\n",
              "  'confusion_matrix': array([[694,   0],\n",
              "         [  4, 728]])},\n",
              " 'Support Vector Machine': {'model': SVC(),\n",
              "  'accuracy': 0.9943899018232819,\n",
              "  'classification_report': '              precision    recall  f1-score   support\\n\\n         0.0       0.99      1.00      0.99       694\\n         1.0       1.00      0.99      0.99       732\\n\\n    accuracy                           0.99      1426\\n   macro avg       0.99      0.99      0.99      1426\\nweighted avg       0.99      0.99      0.99      1426\\n',\n",
              "  'confusion_matrix': array([[694,   0],\n",
              "         [  8, 724]])},\n",
              " 'Xg Boost': {'model': XGBClassifier(base_score=None, booster=None, callbacks=None,\n",
              "                colsample_bylevel=None, colsample_bynode=None,\n",
              "                colsample_bytree=None, device=None, early_stopping_rounds=None,\n",
              "                enable_categorical=False, eval_metric=None, feature_types=None,\n",
              "                gamma=None, grow_policy=None, importance_type=None,\n",
              "                interaction_constraints=None, learning_rate=None, max_bin=None,\n",
              "                max_cat_threshold=None, max_cat_to_onehot=None,\n",
              "                max_delta_step=None, max_depth=None, max_leaves=None,\n",
              "                min_child_weight=None, missing=nan, monotone_constraints=None,\n",
              "                multi_strategy=None, n_estimators=None, n_jobs=None,\n",
              "                num_parallel_tree=None, random_state=None, ...),\n",
              "  'accuracy': 0.9943899018232819,\n",
              "  'classification_report': '              precision    recall  f1-score   support\\n\\n         0.0       0.99      0.99      0.99       694\\n         1.0       0.99      0.99      0.99       732\\n\\n    accuracy                           0.99      1426\\n   macro avg       0.99      0.99      0.99      1426\\nweighted avg       0.99      0.99      0.99      1426\\n',\n",
              "  'confusion_matrix': array([[690,   4],\n",
              "         [  4, 728]])}}"
            ]
          },
          "metadata": {},
          "execution_count": 26
        }
      ]
    },
    {
      "cell_type": "code",
      "source": [
        "x_train,x_test,y_train,y_test=train_test_split(x,y,test_size=0.2, random_state=42)"
      ],
      "metadata": {
        "id": "uie4YSkmBjRl"
      },
      "execution_count": null,
      "outputs": []
    },
    {
      "cell_type": "code",
      "source": [
        "forest=RandomForestClassifier()\n",
        "forest.fit(x_train,y_train)"
      ],
      "metadata": {
        "colab": {
          "base_uri": "https://localhost:8080/",
          "height": 74
        },
        "id": "Vjp01brmBatY",
        "outputId": "994a811b-63f3-4bad-8c62-e796cb8e93a1"
      },
      "execution_count": null,
      "outputs": [
        {
          "output_type": "execute_result",
          "data": {
            "text/plain": [
              "RandomForestClassifier()"
            ],
            "text/html": [
              "<style>#sk-container-id-1 {color: black;background-color: white;}#sk-container-id-1 pre{padding: 0;}#sk-container-id-1 div.sk-toggleable {background-color: white;}#sk-container-id-1 label.sk-toggleable__label {cursor: pointer;display: block;width: 100%;margin-bottom: 0;padding: 0.3em;box-sizing: border-box;text-align: center;}#sk-container-id-1 label.sk-toggleable__label-arrow:before {content: \"▸\";float: left;margin-right: 0.25em;color: #696969;}#sk-container-id-1 label.sk-toggleable__label-arrow:hover:before {color: black;}#sk-container-id-1 div.sk-estimator:hover label.sk-toggleable__label-arrow:before {color: black;}#sk-container-id-1 div.sk-toggleable__content {max-height: 0;max-width: 0;overflow: hidden;text-align: left;background-color: #f0f8ff;}#sk-container-id-1 div.sk-toggleable__content pre {margin: 0.2em;color: black;border-radius: 0.25em;background-color: #f0f8ff;}#sk-container-id-1 input.sk-toggleable__control:checked~div.sk-toggleable__content {max-height: 200px;max-width: 100%;overflow: auto;}#sk-container-id-1 input.sk-toggleable__control:checked~label.sk-toggleable__label-arrow:before {content: \"▾\";}#sk-container-id-1 div.sk-estimator input.sk-toggleable__control:checked~label.sk-toggleable__label {background-color: #d4ebff;}#sk-container-id-1 div.sk-label input.sk-toggleable__control:checked~label.sk-toggleable__label {background-color: #d4ebff;}#sk-container-id-1 input.sk-hidden--visually {border: 0;clip: rect(1px 1px 1px 1px);clip: rect(1px, 1px, 1px, 1px);height: 1px;margin: -1px;overflow: hidden;padding: 0;position: absolute;width: 1px;}#sk-container-id-1 div.sk-estimator {font-family: monospace;background-color: #f0f8ff;border: 1px dotted black;border-radius: 0.25em;box-sizing: border-box;margin-bottom: 0.5em;}#sk-container-id-1 div.sk-estimator:hover {background-color: #d4ebff;}#sk-container-id-1 div.sk-parallel-item::after {content: \"\";width: 100%;border-bottom: 1px solid gray;flex-grow: 1;}#sk-container-id-1 div.sk-label:hover label.sk-toggleable__label {background-color: #d4ebff;}#sk-container-id-1 div.sk-serial::before {content: \"\";position: absolute;border-left: 1px solid gray;box-sizing: border-box;top: 0;bottom: 0;left: 50%;z-index: 0;}#sk-container-id-1 div.sk-serial {display: flex;flex-direction: column;align-items: center;background-color: white;padding-right: 0.2em;padding-left: 0.2em;position: relative;}#sk-container-id-1 div.sk-item {position: relative;z-index: 1;}#sk-container-id-1 div.sk-parallel {display: flex;align-items: stretch;justify-content: center;background-color: white;position: relative;}#sk-container-id-1 div.sk-item::before, #sk-container-id-1 div.sk-parallel-item::before {content: \"\";position: absolute;border-left: 1px solid gray;box-sizing: border-box;top: 0;bottom: 0;left: 50%;z-index: -1;}#sk-container-id-1 div.sk-parallel-item {display: flex;flex-direction: column;z-index: 1;position: relative;background-color: white;}#sk-container-id-1 div.sk-parallel-item:first-child::after {align-self: flex-end;width: 50%;}#sk-container-id-1 div.sk-parallel-item:last-child::after {align-self: flex-start;width: 50%;}#sk-container-id-1 div.sk-parallel-item:only-child::after {width: 0;}#sk-container-id-1 div.sk-dashed-wrapped {border: 1px dashed gray;margin: 0 0.4em 0.5em 0.4em;box-sizing: border-box;padding-bottom: 0.4em;background-color: white;}#sk-container-id-1 div.sk-label label {font-family: monospace;font-weight: bold;display: inline-block;line-height: 1.2em;}#sk-container-id-1 div.sk-label-container {text-align: center;}#sk-container-id-1 div.sk-container {/* jupyter's `normalize.less` sets `[hidden] { display: none; }` but bootstrap.min.css set `[hidden] { display: none !important; }` so we also need the `!important` here to be able to override the default hidden behavior on the sphinx rendered scikit-learn.org. See: https://github.com/scikit-learn/scikit-learn/issues/21755 */display: inline-block !important;position: relative;}#sk-container-id-1 div.sk-text-repr-fallback {display: none;}</style><div id=\"sk-container-id-1\" class=\"sk-top-container\"><div class=\"sk-text-repr-fallback\"><pre>RandomForestClassifier()</pre><b>In a Jupyter environment, please rerun this cell to show the HTML representation or trust the notebook. <br />On GitHub, the HTML representation is unable to render, please try loading this page with nbviewer.org.</b></div><div class=\"sk-container\" hidden><div class=\"sk-item\"><div class=\"sk-estimator sk-toggleable\"><input class=\"sk-toggleable__control sk-hidden--visually\" id=\"sk-estimator-id-1\" type=\"checkbox\" checked><label for=\"sk-estimator-id-1\" class=\"sk-toggleable__label sk-toggleable__label-arrow\">RandomForestClassifier</label><div class=\"sk-toggleable__content\"><pre>RandomForestClassifier()</pre></div></div></div></div></div>"
            ]
          },
          "metadata": {},
          "execution_count": 28
        }
      ]
    },
    {
      "cell_type": "markdown",
      "source": [
        "Training test"
      ],
      "metadata": {
        "id": "O_osQd44CLQ8"
      }
    },
    {
      "cell_type": "code",
      "source": [
        "train_predict=forest.predict(x_train)\n",
        "print(accuracy_score(y_train,train_predict))"
      ],
      "metadata": {
        "colab": {
          "base_uri": "https://localhost:8080/"
        },
        "id": "NrzPCZEZCONp",
        "outputId": "71c8e71f-0a4f-4c38-aa2d-813ea5dd08b8"
      },
      "execution_count": null,
      "outputs": [
        {
          "output_type": "stream",
          "name": "stdout",
          "text": [
            "0.9970196353436185\n"
          ]
        }
      ]
    },
    {
      "cell_type": "markdown",
      "source": [
        "Testing"
      ],
      "metadata": {
        "id": "0L_HYXP6Ces0"
      }
    },
    {
      "cell_type": "code",
      "source": [
        "test_predict=forest.predict(x_test)\n",
        "print(accuracy_score(y_test,test_predict))"
      ],
      "metadata": {
        "colab": {
          "base_uri": "https://localhost:8080/"
        },
        "id": "T3wDNuHXCgAN",
        "outputId": "f78289a5-2bc1-4883-eb05-4a36afd11356"
      },
      "execution_count": null,
      "outputs": [
        {
          "output_type": "stream",
          "name": "stdout",
          "text": [
            "0.9971949509116409\n"
          ]
        }
      ]
    },
    {
      "cell_type": "code",
      "source": [
        "print(test_predict)"
      ],
      "metadata": {
        "colab": {
          "base_uri": "https://localhost:8080/"
        },
        "id": "dFGbGH0ICr-H",
        "outputId": "7089d102-498c-4672-f0e8-402f69003f55"
      },
      "execution_count": null,
      "outputs": [
        {
          "output_type": "stream",
          "name": "stdout",
          "text": [
            "[0. 1. 1. ... 0. 1. 0.]\n"
          ]
        }
      ]
    },
    {
      "cell_type": "code",
      "source": [
        "from sklearn.metrics import precision_score, recall_score, f1_score, confusion_matrix"
      ],
      "metadata": {
        "id": "53DDCg7K62LH"
      },
      "execution_count": null,
      "outputs": []
    },
    {
      "cell_type": "code",
      "source": [
        "def evaluate_classification_model(model, X, y, test_size):\n",
        "    X_train,X_test,y_train,y_test=train_test_split(X,y,test_size=test_size,random_state=42)\n",
        "    model.fit(X_train,y_train)\n",
        "    y_pred=model.predict(X_test)\n",
        "    accuracy=accuracy_score(y_test, y_pred)\n",
        "    precision=precision_score(y_test, y_pred, average='weighted')\n",
        "    recall=recall_score(y_test, y_pred, average='weighted')\n",
        "    f1=f1_score(y_test, y_pred, average='weighted')\n",
        "    conf_matrix=confusion_matrix(y_test, y_pred)\n",
        "\n",
        "    print(\"Metrics for the Classification Model:\")\n",
        "    print(f\"Accuracy: {accuracy:.6f}\")\n",
        "    print(f\"Precision: {precision:.2f}\")\n",
        "    print(f\"Recall: {recall:.2f}\")\n",
        "    print(f\"F1-score: {f1:.2f}\")\n",
        "    print(\"Confusion Matrix:\")\n",
        "    print(conf_matrix)"
      ],
      "metadata": {
        "id": "3ujTvrHx59_M"
      },
      "execution_count": null,
      "outputs": []
    },
    {
      "cell_type": "code",
      "source": [
        "logistic=LogisticRegression()\n",
        "knn=KNeighborsClassifier()\n",
        "decision=DecisionTreeClassifier()"
      ],
      "metadata": {
        "id": "i1Y64ICfHAtK"
      },
      "execution_count": null,
      "outputs": []
    },
    {
      "cell_type": "code",
      "source": [
        "evaluate_classification_model(forest,x,y,0.2)"
      ],
      "metadata": {
        "colab": {
          "base_uri": "https://localhost:8080/"
        },
        "id": "VdrgKjVzCyBt",
        "outputId": "57a1d4b7-0fbd-409c-9da7-b059ede15483"
      },
      "execution_count": null,
      "outputs": [
        {
          "output_type": "stream",
          "name": "stdout",
          "text": [
            "Metrics for the Classification Model:\n",
            "Accuracy: 0.997195\n",
            "Precision: 1.00\n",
            "Recall: 1.00\n",
            "F1-score: 1.00\n",
            "Confusion Matrix:\n",
            "[[694   0]\n",
            " [  4 728]]\n"
          ]
        }
      ]
    },
    {
      "cell_type": "code",
      "source": [
        "logistic.fit(x_train,y_train)"
      ],
      "metadata": {
        "colab": {
          "base_uri": "https://localhost:8080/",
          "height": 74
        },
        "id": "-XSW1KnJIAWm",
        "outputId": "106f6d55-dcd2-4f2b-d32c-76ca0ee25b0f"
      },
      "execution_count": null,
      "outputs": [
        {
          "output_type": "execute_result",
          "data": {
            "text/plain": [
              "LogisticRegression()"
            ],
            "text/html": [
              "<style>#sk-container-id-2 {color: black;background-color: white;}#sk-container-id-2 pre{padding: 0;}#sk-container-id-2 div.sk-toggleable {background-color: white;}#sk-container-id-2 label.sk-toggleable__label {cursor: pointer;display: block;width: 100%;margin-bottom: 0;padding: 0.3em;box-sizing: border-box;text-align: center;}#sk-container-id-2 label.sk-toggleable__label-arrow:before {content: \"▸\";float: left;margin-right: 0.25em;color: #696969;}#sk-container-id-2 label.sk-toggleable__label-arrow:hover:before {color: black;}#sk-container-id-2 div.sk-estimator:hover label.sk-toggleable__label-arrow:before {color: black;}#sk-container-id-2 div.sk-toggleable__content {max-height: 0;max-width: 0;overflow: hidden;text-align: left;background-color: #f0f8ff;}#sk-container-id-2 div.sk-toggleable__content pre {margin: 0.2em;color: black;border-radius: 0.25em;background-color: #f0f8ff;}#sk-container-id-2 input.sk-toggleable__control:checked~div.sk-toggleable__content {max-height: 200px;max-width: 100%;overflow: auto;}#sk-container-id-2 input.sk-toggleable__control:checked~label.sk-toggleable__label-arrow:before {content: \"▾\";}#sk-container-id-2 div.sk-estimator input.sk-toggleable__control:checked~label.sk-toggleable__label {background-color: #d4ebff;}#sk-container-id-2 div.sk-label input.sk-toggleable__control:checked~label.sk-toggleable__label {background-color: #d4ebff;}#sk-container-id-2 input.sk-hidden--visually {border: 0;clip: rect(1px 1px 1px 1px);clip: rect(1px, 1px, 1px, 1px);height: 1px;margin: -1px;overflow: hidden;padding: 0;position: absolute;width: 1px;}#sk-container-id-2 div.sk-estimator {font-family: monospace;background-color: #f0f8ff;border: 1px dotted black;border-radius: 0.25em;box-sizing: border-box;margin-bottom: 0.5em;}#sk-container-id-2 div.sk-estimator:hover {background-color: #d4ebff;}#sk-container-id-2 div.sk-parallel-item::after {content: \"\";width: 100%;border-bottom: 1px solid gray;flex-grow: 1;}#sk-container-id-2 div.sk-label:hover label.sk-toggleable__label {background-color: #d4ebff;}#sk-container-id-2 div.sk-serial::before {content: \"\";position: absolute;border-left: 1px solid gray;box-sizing: border-box;top: 0;bottom: 0;left: 50%;z-index: 0;}#sk-container-id-2 div.sk-serial {display: flex;flex-direction: column;align-items: center;background-color: white;padding-right: 0.2em;padding-left: 0.2em;position: relative;}#sk-container-id-2 div.sk-item {position: relative;z-index: 1;}#sk-container-id-2 div.sk-parallel {display: flex;align-items: stretch;justify-content: center;background-color: white;position: relative;}#sk-container-id-2 div.sk-item::before, #sk-container-id-2 div.sk-parallel-item::before {content: \"\";position: absolute;border-left: 1px solid gray;box-sizing: border-box;top: 0;bottom: 0;left: 50%;z-index: -1;}#sk-container-id-2 div.sk-parallel-item {display: flex;flex-direction: column;z-index: 1;position: relative;background-color: white;}#sk-container-id-2 div.sk-parallel-item:first-child::after {align-self: flex-end;width: 50%;}#sk-container-id-2 div.sk-parallel-item:last-child::after {align-self: flex-start;width: 50%;}#sk-container-id-2 div.sk-parallel-item:only-child::after {width: 0;}#sk-container-id-2 div.sk-dashed-wrapped {border: 1px dashed gray;margin: 0 0.4em 0.5em 0.4em;box-sizing: border-box;padding-bottom: 0.4em;background-color: white;}#sk-container-id-2 div.sk-label label {font-family: monospace;font-weight: bold;display: inline-block;line-height: 1.2em;}#sk-container-id-2 div.sk-label-container {text-align: center;}#sk-container-id-2 div.sk-container {/* jupyter's `normalize.less` sets `[hidden] { display: none; }` but bootstrap.min.css set `[hidden] { display: none !important; }` so we also need the `!important` here to be able to override the default hidden behavior on the sphinx rendered scikit-learn.org. See: https://github.com/scikit-learn/scikit-learn/issues/21755 */display: inline-block !important;position: relative;}#sk-container-id-2 div.sk-text-repr-fallback {display: none;}</style><div id=\"sk-container-id-2\" class=\"sk-top-container\"><div class=\"sk-text-repr-fallback\"><pre>LogisticRegression()</pre><b>In a Jupyter environment, please rerun this cell to show the HTML representation or trust the notebook. <br />On GitHub, the HTML representation is unable to render, please try loading this page with nbviewer.org.</b></div><div class=\"sk-container\" hidden><div class=\"sk-item\"><div class=\"sk-estimator sk-toggleable\"><input class=\"sk-toggleable__control sk-hidden--visually\" id=\"sk-estimator-id-2\" type=\"checkbox\" checked><label for=\"sk-estimator-id-2\" class=\"sk-toggleable__label sk-toggleable__label-arrow\">LogisticRegression</label><div class=\"sk-toggleable__content\"><pre>LogisticRegression()</pre></div></div></div></div></div>"
            ]
          },
          "metadata": {},
          "execution_count": 42
        }
      ]
    },
    {
      "cell_type": "code",
      "source": [
        "test_logis_predict=logistic.predict(x_test)\n",
        "print(accuracy_score(y_test,test_logis_predict))"
      ],
      "metadata": {
        "colab": {
          "base_uri": "https://localhost:8080/"
        },
        "id": "3aQKuds6IcoW",
        "outputId": "83df9bd5-7892-469b-b617-6e46f2b6f6d1"
      },
      "execution_count": null,
      "outputs": [
        {
          "output_type": "stream",
          "name": "stdout",
          "text": [
            "0.9922861150070126\n"
          ]
        }
      ]
    },
    {
      "cell_type": "code",
      "source": [
        "xg=xgb.XGBClassifier()"
      ],
      "metadata": {
        "id": "qXKQwdxcLYB3"
      },
      "execution_count": null,
      "outputs": []
    },
    {
      "cell_type": "code",
      "source": [
        "xg.fit(x_train,y_train)\n",
        "test_xg_predict=xg.predict(x_test)\n",
        "print(accuracy_score(y_test,test_xg_predict))"
      ],
      "metadata": {
        "colab": {
          "base_uri": "https://localhost:8080/"
        },
        "id": "x9xzZYErLcsX",
        "outputId": "121f9d32-fd1b-4531-fe8d-10da45da8187"
      },
      "execution_count": null,
      "outputs": [
        {
          "output_type": "stream",
          "name": "stdout",
          "text": [
            "0.9922861150070126\n"
          ]
        }
      ]
    },
    {
      "cell_type": "code",
      "source": [
        "test=pd.read_csv('/content/test[1].csv')"
      ],
      "metadata": {
        "id": "7U5gcz0YDDyW"
      },
      "execution_count": null,
      "outputs": []
    },
    {
      "cell_type": "code",
      "source": [
        "test.columns"
      ],
      "metadata": {
        "colab": {
          "base_uri": "https://localhost:8080/"
        },
        "id": "4TIopnZTDUUL",
        "outputId": "68260ff2-78a8-4f65-bffb-c11f21b71d57"
      },
      "execution_count": null,
      "outputs": [
        {
          "output_type": "execute_result",
          "data": {
            "text/plain": [
              "Index(['ID', 'ACCESS_ALL_DOWNLOADS', 'ACCESS_CACHE_FILESYSTEM',\n",
              "       'ACCESS_CHECKIN_PROPERTIES', 'ACCESS_COARSE_LOCATION',\n",
              "       'ACCESS_COARSE_UPDATES', 'ACCESS_FINE_LOCATION',\n",
              "       'ACCESS_LOCATION_EXTRA_COMMANDS', 'ACCESS_MOCK_LOCATION',\n",
              "       'ACCESS_MTK_MMHW',\n",
              "       ...\n",
              "       'Landroid/content/pm/PackageManager;->getInstalledPackages',\n",
              "       'Landroid/telephony/TelephonyManager;->getLine1Number',\n",
              "       'Landroid/telephony/TelephonyManager;->getNetworkOperator',\n",
              "       'Landroid/telephony/TelephonyManager;->getNetworkOperatorName',\n",
              "       'Landroid/telephony/TelephonyManager;->getNetworkCountryIso',\n",
              "       'Landroid/telephony/TelephonyManager;->getSimOperator',\n",
              "       'Landroid/telephony/TelephonyManager;->getSimOperatorName',\n",
              "       'Landroid/telephony/TelephonyManager;->getSimCountryIso',\n",
              "       'Landroid/telephony/TelephonyManager;->getSimSerialNumber',\n",
              "       'Lorg/apache/http/impl/client/DefaultHttpClient;->execute'],\n",
              "      dtype='object', length=242)"
            ]
          },
          "metadata": {},
          "execution_count": 38
        }
      ]
    },
    {
      "cell_type": "code",
      "source": [
        "test.shape"
      ],
      "metadata": {
        "colab": {
          "base_uri": "https://localhost:8080/"
        },
        "id": "0ipmCX5YDVed",
        "outputId": "40c385c5-83b4-45b1-810e-dd7561979891"
      },
      "execution_count": null,
      "outputs": [
        {
          "output_type": "execute_result",
          "data": {
            "text/plain": [
              "(2964, 242)"
            ]
          },
          "metadata": {},
          "execution_count": 39
        }
      ]
    },
    {
      "cell_type": "code",
      "source": [
        "id=test['ID']\n",
        "test=test.drop(columns=['ID'])"
      ],
      "metadata": {
        "id": "63Qg7OqDD0D1"
      },
      "execution_count": null,
      "outputs": []
    },
    {
      "cell_type": "code",
      "source": [
        "test.isnull().sum()"
      ],
      "metadata": {
        "colab": {
          "base_uri": "https://localhost:8080/"
        },
        "id": "Lew6fiWOEOLf",
        "outputId": "108101d6-bc8f-4a2b-e6c5-3b160027db6f"
      },
      "execution_count": null,
      "outputs": [
        {
          "output_type": "execute_result",
          "data": {
            "text/plain": [
              "ACCESS_ALL_DOWNLOADS                                                 1\n",
              "ACCESS_CACHE_FILESYSTEM                                              1\n",
              "ACCESS_CHECKIN_PROPERTIES                                            1\n",
              "ACCESS_COARSE_LOCATION                                               1\n",
              "ACCESS_COARSE_UPDATES                                                1\n",
              "ACCESS_FINE_LOCATION                                                 1\n",
              "ACCESS_LOCATION_EXTRA_COMMANDS                                       1\n",
              "ACCESS_MOCK_LOCATION                                                 1\n",
              "ACCESS_MTK_MMHW                                                      1\n",
              "ACCESS_NETWORK_STATE                                                 1\n",
              "ACCESS_PROVIDER                                                      1\n",
              "ACCESS_SERVICE                                                       1\n",
              "ACCESS_SHARED_DATA                                                   1\n",
              "ACCESS_SUPERUSER                                                     1\n",
              "ACCESS_SURFACE_FLINGER                                               1\n",
              "ACCESS_WIFI_STATE                                                    1\n",
              "activityCalled                                                       1\n",
              "ACTIVITY_RECOGNITION                                                 1\n",
              "ACCOUNT_MANAGER                                                      1\n",
              "ADD_VOICEMAIL                                                        1\n",
              "ANT                                                                  1\n",
              "ANT_ADMIN                                                            1\n",
              "AUTHENTICATE_ACCOUNTS                                                1\n",
              "AUTORUN_MANAGER_LICENSE_MANAGER                                      1\n",
              "AUTORUN_MANAGER_LICENSE_SERVICE(.autorun)                            1\n",
              "BATTERY_STATS                                                        1\n",
              "BILLING                                                              1\n",
              "BIND_ACCESSIBILITY_SERVICE                                           1\n",
              "BIND_APPWIDGET                                                       1\n",
              "BIND_CARRIER_MESSAGING_SERVICE                                       1\n",
              "BIND_DEVICE_ADMIN                                                    1\n",
              "BIND_DREAM_SERVICE                                                   1\n",
              "BIND_GET_INSTALL_REFERRER_SERVICE                                    1\n",
              "BIND_INPUT_METHOD                                                    1\n",
              "BIND_NFC_SERVICE                                                     1\n",
              "BIND_0TIFICATION_LISTENER_SERVICE                                    1\n",
              "BIND_PRINT_SERVICE                                                   1\n",
              "BIND_REMOTEVIEWS                                                     1\n",
              "BIND_TEXT_SERVICE                                                    1\n",
              "BIND_TV_INPUT                                                        1\n",
              "BIND_VOICE_INTERACTION                                               1\n",
              "BIND_VPN_SERVICE                                                     1\n",
              "BIND_WALLPAPER                                                       1\n",
              "BLUETOOTH                                                            1\n",
              "BLUETOOTH_ADMIN                                                      1\n",
              "BLUETOOTH_PRIVILEGED                                                 1\n",
              "BODY_SENSORS                                                         1\n",
              "BRICK                                                                1\n",
              "BROADCAST_PACKAGE_REMOVED                                            1\n",
              "BROADCAST_SMS                                                        1\n",
              "BROADCAST_STICKY                                                     1\n",
              "BROADCAST_WAP_PUSH                                                   1\n",
              "C2D_MESSAGE                                                          1\n",
              "CALL_PHONE                                                           1\n",
              "CALL_PRIVILEGED                                                      1\n",
              "CAMERA                                                               1\n",
              "CAPTURE_AUDIO_OUTPUT                                                 1\n",
              "CAPTURE_SECURE_VIDEO_OUTPUT                                          1\n",
              "CAPTURE_VIDEO_OUTPUT                                                 1\n",
              "CHANGE_COMPONENT_ENABLED_STATE                                       1\n",
              "CHANGE_CONFIGURATION                                                 1\n",
              "CHANGE_DISPLAY_MODE                                                  1\n",
              "CHANGE_NETWORK_STATE                                                 1\n",
              "CHANGE_WIFI_MULTICAST_STATE                                          1\n",
              "CHANGE_WIFI_STATE                                                    1\n",
              "CHECK_LICENSE                                                        1\n",
              "CLEAR_APP_CACHE                                                      1\n",
              "CLEAR_APP_USER_DATA                                                  1\n",
              "CONTROL_LOCATION_UPDATES                                             1\n",
              "DATABASE_INTERFACE_SERVICE                                           1\n",
              "DELETE_CACHE_FILES                                                   1\n",
              "DELETE_PACKAGES                                                      1\n",
              "DEVICE_POWER                                                         1\n",
              "DIAG0STIC                                                            1\n",
              "DISABLE_KEYGUARD                                                     1\n",
              "DOWNLOAD_SERVICE                                                     1\n",
              "DOWNLOAD_WITHOUT_0TIFICATION                                         1\n",
              "DUMP                                                                 1\n",
              "EXPAND_STATUS_BAR                                                    1\n",
              "EXTENSION_PERMISSION                                                 1\n",
              "FACTORY_TEST                                                         1\n",
              "FLASHLIGHT                                                           1\n",
              "FORCE_BACK                                                           1\n",
              "FULLSCREEN.FULL                                                      1\n",
              "GET_ACCOUNTS                                                         1\n",
              "GET_PACKAGE_SIZE                                                     1\n",
              "GET_TASKS                                                            1\n",
              "GET_TOP_ACTIVITY_INFO                                                1\n",
              "GLOBAL_SEARCH                                                        1\n",
              "GOOGLE_AUTH                                                          1\n",
              "GOOGLE_PHOTOS                                                        1\n",
              "HARDWARE_TEST                                                        1\n",
              "INJECT_EVENTS                                                        1\n",
              "INSTALL_LOCATION_PROVIDER                                            1\n",
              "INSTALL_PACKAGES                                                     1\n",
              "INSTALL_SHORTCUT                                                     1\n",
              "INTERACT_ACROSS_USERS                                                1\n",
              "INTERNAL_SYSTEM_WINDOW                                               1\n",
              "INTERNET                                                             1\n",
              "JPUSH_MESSAGE                                                        1\n",
              "KILL_BACKGROUND_PROCESSES                                            1\n",
              "LOCATION_HARDWARE                                                    1\n",
              "MANAGE_ACCOUNTS                                                      1\n",
              "MANAGE_APP_TOKENS                                                    1\n",
              "MANAGE_DOCUMENTS                                                     1\n",
              "MAPS_RECEIVE                                                         1\n",
              "MASTER_CLEAR                                                         1\n",
              "MEDIA_BUTTON                                                         1\n",
              "MEDIA_CONTENT_CONTROL                                                1\n",
              "MESSAGE                                                              1\n",
              "MODIFY_AUDIO_SETTINGS                                                1\n",
              "MODIFY_PHONE_STATE                                                   1\n",
              "MOUNT_FORMAT_FILESYSTEMS                                             1\n",
              "MOUNT_UNMOUNT_FILESYSTEMS                                            1\n",
              "NFC                                                                  1\n",
              "PERSISTENT_ACTIVITY                                                  1\n",
              "PERMISSION                                                           1\n",
              "PERMISSION_RUN_TASKS                                                 1\n",
              "PLUGIN                                                               1\n",
              "PROCESS_OUTGOING_CALLS                                               1\n",
              "READ                                                                 1\n",
              "READ_ATTACHMENT                                                      1\n",
              "READ_AVESTTINGS                                                      1\n",
              "READ_CALENDAR                                                        1\n",
              "READ_CALL_LOG                                                        1\n",
              "READ_CONTACTS                                                        1\n",
              "READ_CONTENT_PROVIDER                                                1\n",
              "READ_DATA                                                            1\n",
              "READ_DATABASES                                                       1\n",
              "READ_EXTERNAL_STORAGE                                                1\n",
              "READ_FRAME_BUFFER                                                    1\n",
              "READ_GMAIL                                                           1\n",
              "READ_GSERVICES                                                       1\n",
              "READ_HISTORY_BOOKMARKS                                               1\n",
              "READ_INPUT_STATE                                                     1\n",
              "READ_LOGS                                                            1\n",
              "READ_MESSAGES                                                        1\n",
              "READ_OWNER_DATA                                                      1\n",
              "READ_PHONE_STATE                                                     1\n",
              "READ_PROFILE                                                         1\n",
              "READ_SETTINGS                                                        1\n",
              "READ_SMS                                                             1\n",
              "READ_SOCIAL_STREAM                                                   1\n",
              "READ_SYNC_SETTINGS                                                   1\n",
              "READ_SYNC_STATS                                                      1\n",
              "READ_USER_DICTIONARY                                                 1\n",
              "READ_VOICEMAIL                                                       1\n",
              "REBOOT                                                               1\n",
              "RECEIVE                                                              1\n",
              "RECEIVE_BOOT_COMPLETED                                               1\n",
              "RECEIVE_MMS                                                          1\n",
              "RECEIVE_SIGNED_DATA_RESULT                                           1\n",
              "RECEIVE_SMS                                                          1\n",
              "RECEIVE_USER_PRESENT                                                 1\n",
              "RECEIVE_WAP_PUSH                                                     1\n",
              "RECORD_AUDIO                                                         1\n",
              "REORDER_TASKS                                                        1\n",
              "RESPOND                                                              1\n",
              "RESTART_PACKAGES                                                     1\n",
              "REQUEST                                                              1\n",
              "SDCARD_WRITE                                                         1\n",
              "SEND                                                                 1\n",
              "SEND_RESPOND_VIA_MESSAGE                                             1\n",
              "SEND_SMS                                                             1\n",
              "SET_ACTIVITY_WATCHER                                                 1\n",
              "SET_ALARM                                                            1\n",
              "SET_ALWAYS_FINISH                                                    1\n",
              "SET_ANIMATION_SCALE                                                  1\n",
              "SET_DEBUG_APP                                                        1\n",
              "SET_ORIENTATION                                                      1\n",
              "SET_POINTER_SPEED                                                    1\n",
              "SET_PREFERRED_APPLICATIONS                                           1\n",
              "SET_PROCESS_LIMIT                                                    1\n",
              "SET_TIME                                                             1\n",
              "SET_TIME_ZONE                                                        1\n",
              "SET_WALLPAPER                                                        1\n",
              "SET_WALLPAPER_HINTS                                                  1\n",
              "SIGNAL_PERSISTENT_PROCESSES                                          1\n",
              "STATUS_BAR                                                           1\n",
              "STORAGE                                                              1\n",
              "SUBSCRIBED_FEEDS_READ                                                1\n",
              "SUBSCRIBED_FEEDS_WRITE                                               1\n",
              "SYSTEM_ALERT_WINDOW                                                  1\n",
              "TRANSMIT_IR                                                          1\n",
              "UNINSTALL_SHORTCUT                                                   1\n",
              "UPDATE_DEVICE_STATS                                                  1\n",
              "USES_POLICY_FORCE_LOCK                                               1\n",
              "USE_CREDENTIALS                                                      1\n",
              "USE_FINGERPRINT                                                      1\n",
              "USE_SIP                                                              1\n",
              "VIBRATE                                                              1\n",
              "WAKE_LOCK                                                            1\n",
              "WRITE                                                                1\n",
              "WRITE_APN_SETTINGS                                                   1\n",
              "WRITE_AVSETTING                                                      1\n",
              "WRITE_CALENDAR                                                       1\n",
              "WRITE_CALL_LOG                                                       1\n",
              "WRITE_CONTACTS                                                       1\n",
              "WRITE_DATA                                                           1\n",
              "WRITE_DATABASES                                                      1\n",
              "WRITE_EXTERNAL_STORAGE                                               1\n",
              "WRITE_GSERVICES                                                      1\n",
              "WRITE_HISTORY_BOOKMARKS                                              1\n",
              "WRITE_INTERNAL_STORAGE                                               1\n",
              "WRITE_MEDIA_STORAGE                                                  1\n",
              "WRITE_OWNER_DATA                                                     1\n",
              "WRITE_PROFILE                                                        1\n",
              "WRITE_SECURE_SETTINGS                                                1\n",
              "WRITE_SETTINGS                                                       1\n",
              "WRITE_SMS                                                            1\n",
              "WRITE_SOCIAL_STREAM                                                  1\n",
              "WRITE_SYNC_SETTINGS                                                  1\n",
              "WRITE_USER_DICTIONARY                                                1\n",
              "WRITE_VOICEMAIL                                                      1\n",
              "Ljava/lang/reflect/Method;->invoke                                   1\n",
              "Ljavax/crypto/Cipher;->doFinal                                       1\n",
              "Ljava/lang/Runtime;->exec                                            1\n",
              "Ljava/lang/System;->load                                             1\n",
              "Ldalvik/system/DexClassLoader;->loadClass                            1\n",
              "Ljava/lang/System;->loadLibrary                                      1\n",
              "Ljava/net/URL;->openConnection                                       1\n",
              "Landroid/hardware/Camera;->open                                      1\n",
              "Landroid/hardware/Camera;->takePicture                               1\n",
              "Landroid/telephony/SmsManager;->sendMultipartTextMessage             1\n",
              "Landroid/telephony/SmsManager;->sendTextMessage                      1\n",
              "Landroid/media/AudioRecord;->startRecording                          1\n",
              "Landroid/telephony/TelephonyManager;->getCellLocation                1\n",
              "Lcom/google/android/gms/location/LocationClient;->getLastLocation    1\n",
              "Landroid/location/LocationManager;->getLastK0wnLocation              1\n",
              "Landroid/telephony/TelephonyManager;->getDeviceId                    1\n",
              "Landroid/content/pm/PackageManager;->getInstalledApplications        1\n",
              "Landroid/content/pm/PackageManager;->getInstalledPackages            1\n",
              "Landroid/telephony/TelephonyManager;->getLine1Number                 1\n",
              "Landroid/telephony/TelephonyManager;->getNetworkOperator             1\n",
              "Landroid/telephony/TelephonyManager;->getNetworkOperatorName         1\n",
              "Landroid/telephony/TelephonyManager;->getNetworkCountryIso           1\n",
              "Landroid/telephony/TelephonyManager;->getSimOperator                 1\n",
              "Landroid/telephony/TelephonyManager;->getSimOperatorName             1\n",
              "Landroid/telephony/TelephonyManager;->getSimCountryIso               1\n",
              "Landroid/telephony/TelephonyManager;->getSimSerialNumber             1\n",
              "Lorg/apache/http/impl/client/DefaultHttpClient;->execute             1\n",
              "dtype: int64"
            ]
          },
          "metadata": {},
          "execution_count": 41
        }
      ]
    },
    {
      "cell_type": "code",
      "source": [
        "def replace_null_with(df):\n",
        "    for column in df.columns:\n",
        "        if df[column].dtype in ['int64', 'float64']:\n",
        "            column_mean = df[column].mean()\n",
        "            df[column].fillna(column_mean, inplace=True)\n",
        "    return df"
      ],
      "metadata": {
        "id": "g68N7NT0Kerd"
      },
      "execution_count": null,
      "outputs": []
    },
    {
      "cell_type": "code",
      "source": [
        "test=replace_null_with(test)"
      ],
      "metadata": {
        "id": "0PKxReeDEbBF"
      },
      "execution_count": null,
      "outputs": []
    },
    {
      "cell_type": "code",
      "source": [
        "actual_prediction=forest.predict(test)"
      ],
      "metadata": {
        "id": "nUCo3f3IDX4n"
      },
      "execution_count": null,
      "outputs": []
    },
    {
      "cell_type": "code",
      "source": [
        "actual_prediction.shape"
      ],
      "metadata": {
        "colab": {
          "base_uri": "https://localhost:8080/"
        },
        "id": "lgRT1q5eDyMM",
        "outputId": "448b2769-24e3-4f45-eb99-42594cfd9567"
      },
      "execution_count": null,
      "outputs": [
        {
          "output_type": "execute_result",
          "data": {
            "text/plain": [
              "(2964,)"
            ]
          },
          "metadata": {},
          "execution_count": 45
        }
      ]
    },
    {
      "cell_type": "code",
      "source": [
        "final_data= pd.DataFrame({'ID': id, 'Label': actual_prediction})"
      ],
      "metadata": {
        "id": "-o6n2e0qEk09"
      },
      "execution_count": null,
      "outputs": []
    },
    {
      "cell_type": "code",
      "source": [
        "final_data.head(2)"
      ],
      "metadata": {
        "colab": {
          "base_uri": "https://localhost:8080/",
          "height": 112
        },
        "id": "chsWn6lhKxw_",
        "outputId": "41331353-d246-4d09-fbcf-25d72ec956ec"
      },
      "execution_count": null,
      "outputs": [
        {
          "output_type": "execute_result",
          "data": {
            "text/plain": [
              "     ID  Label\n",
              "0  3501    1.0\n",
              "1  3502    1.0"
            ],
            "text/html": [
              "\n",
              "  <div id=\"df-658216da-e6b0-4357-811b-aaf58bc2ca02\" class=\"colab-df-container\">\n",
              "    <div>\n",
              "<style scoped>\n",
              "    .dataframe tbody tr th:only-of-type {\n",
              "        vertical-align: middle;\n",
              "    }\n",
              "\n",
              "    .dataframe tbody tr th {\n",
              "        vertical-align: top;\n",
              "    }\n",
              "\n",
              "    .dataframe thead th {\n",
              "        text-align: right;\n",
              "    }\n",
              "</style>\n",
              "<table border=\"1\" class=\"dataframe\">\n",
              "  <thead>\n",
              "    <tr style=\"text-align: right;\">\n",
              "      <th></th>\n",
              "      <th>ID</th>\n",
              "      <th>Label</th>\n",
              "    </tr>\n",
              "  </thead>\n",
              "  <tbody>\n",
              "    <tr>\n",
              "      <th>0</th>\n",
              "      <td>3501</td>\n",
              "      <td>1.0</td>\n",
              "    </tr>\n",
              "    <tr>\n",
              "      <th>1</th>\n",
              "      <td>3502</td>\n",
              "      <td>1.0</td>\n",
              "    </tr>\n",
              "  </tbody>\n",
              "</table>\n",
              "</div>\n",
              "    <div class=\"colab-df-buttons\">\n",
              "\n",
              "  <div class=\"colab-df-container\">\n",
              "    <button class=\"colab-df-convert\" onclick=\"convertToInteractive('df-658216da-e6b0-4357-811b-aaf58bc2ca02')\"\n",
              "            title=\"Convert this dataframe to an interactive table.\"\n",
              "            style=\"display:none;\">\n",
              "\n",
              "  <svg xmlns=\"http://www.w3.org/2000/svg\" height=\"24px\" viewBox=\"0 -960 960 960\">\n",
              "    <path d=\"M120-120v-720h720v720H120Zm60-500h600v-160H180v160Zm220 220h160v-160H400v160Zm0 220h160v-160H400v160ZM180-400h160v-160H180v160Zm440 0h160v-160H620v160ZM180-180h160v-160H180v160Zm440 0h160v-160H620v160Z\"/>\n",
              "  </svg>\n",
              "    </button>\n",
              "\n",
              "  <style>\n",
              "    .colab-df-container {\n",
              "      display:flex;\n",
              "      gap: 12px;\n",
              "    }\n",
              "\n",
              "    .colab-df-convert {\n",
              "      background-color: #E8F0FE;\n",
              "      border: none;\n",
              "      border-radius: 50%;\n",
              "      cursor: pointer;\n",
              "      display: none;\n",
              "      fill: #1967D2;\n",
              "      height: 32px;\n",
              "      padding: 0 0 0 0;\n",
              "      width: 32px;\n",
              "    }\n",
              "\n",
              "    .colab-df-convert:hover {\n",
              "      background-color: #E2EBFA;\n",
              "      box-shadow: 0px 1px 2px rgba(60, 64, 67, 0.3), 0px 1px 3px 1px rgba(60, 64, 67, 0.15);\n",
              "      fill: #174EA6;\n",
              "    }\n",
              "\n",
              "    .colab-df-buttons div {\n",
              "      margin-bottom: 4px;\n",
              "    }\n",
              "\n",
              "    [theme=dark] .colab-df-convert {\n",
              "      background-color: #3B4455;\n",
              "      fill: #D2E3FC;\n",
              "    }\n",
              "\n",
              "    [theme=dark] .colab-df-convert:hover {\n",
              "      background-color: #434B5C;\n",
              "      box-shadow: 0px 1px 3px 1px rgba(0, 0, 0, 0.15);\n",
              "      filter: drop-shadow(0px 1px 2px rgba(0, 0, 0, 0.3));\n",
              "      fill: #FFFFFF;\n",
              "    }\n",
              "  </style>\n",
              "\n",
              "    <script>\n",
              "      const buttonEl =\n",
              "        document.querySelector('#df-658216da-e6b0-4357-811b-aaf58bc2ca02 button.colab-df-convert');\n",
              "      buttonEl.style.display =\n",
              "        google.colab.kernel.accessAllowed ? 'block' : 'none';\n",
              "\n",
              "      async function convertToInteractive(key) {\n",
              "        const element = document.querySelector('#df-658216da-e6b0-4357-811b-aaf58bc2ca02');\n",
              "        const dataTable =\n",
              "          await google.colab.kernel.invokeFunction('convertToInteractive',\n",
              "                                                    [key], {});\n",
              "        if (!dataTable) return;\n",
              "\n",
              "        const docLinkHtml = 'Like what you see? Visit the ' +\n",
              "          '<a target=\"_blank\" href=https://colab.research.google.com/notebooks/data_table.ipynb>data table notebook</a>'\n",
              "          + ' to learn more about interactive tables.';\n",
              "        element.innerHTML = '';\n",
              "        dataTable['output_type'] = 'display_data';\n",
              "        await google.colab.output.renderOutput(dataTable, element);\n",
              "        const docLink = document.createElement('div');\n",
              "        docLink.innerHTML = docLinkHtml;\n",
              "        element.appendChild(docLink);\n",
              "      }\n",
              "    </script>\n",
              "  </div>\n",
              "\n",
              "\n",
              "<div id=\"df-1a42f5c9-0628-4495-bfa8-253a0baca4b3\">\n",
              "  <button class=\"colab-df-quickchart\" onclick=\"quickchart('df-1a42f5c9-0628-4495-bfa8-253a0baca4b3')\"\n",
              "            title=\"Suggest charts.\"\n",
              "            style=\"display:none;\">\n",
              "\n",
              "<svg xmlns=\"http://www.w3.org/2000/svg\" height=\"24px\"viewBox=\"0 0 24 24\"\n",
              "     width=\"24px\">\n",
              "    <g>\n",
              "        <path d=\"M19 3H5c-1.1 0-2 .9-2 2v14c0 1.1.9 2 2 2h14c1.1 0 2-.9 2-2V5c0-1.1-.9-2-2-2zM9 17H7v-7h2v7zm4 0h-2V7h2v10zm4 0h-2v-4h2v4z\"/>\n",
              "    </g>\n",
              "</svg>\n",
              "  </button>\n",
              "\n",
              "<style>\n",
              "  .colab-df-quickchart {\n",
              "      --bg-color: #E8F0FE;\n",
              "      --fill-color: #1967D2;\n",
              "      --hover-bg-color: #E2EBFA;\n",
              "      --hover-fill-color: #174EA6;\n",
              "      --disabled-fill-color: #AAA;\n",
              "      --disabled-bg-color: #DDD;\n",
              "  }\n",
              "\n",
              "  [theme=dark] .colab-df-quickchart {\n",
              "      --bg-color: #3B4455;\n",
              "      --fill-color: #D2E3FC;\n",
              "      --hover-bg-color: #434B5C;\n",
              "      --hover-fill-color: #FFFFFF;\n",
              "      --disabled-bg-color: #3B4455;\n",
              "      --disabled-fill-color: #666;\n",
              "  }\n",
              "\n",
              "  .colab-df-quickchart {\n",
              "    background-color: var(--bg-color);\n",
              "    border: none;\n",
              "    border-radius: 50%;\n",
              "    cursor: pointer;\n",
              "    display: none;\n",
              "    fill: var(--fill-color);\n",
              "    height: 32px;\n",
              "    padding: 0;\n",
              "    width: 32px;\n",
              "  }\n",
              "\n",
              "  .colab-df-quickchart:hover {\n",
              "    background-color: var(--hover-bg-color);\n",
              "    box-shadow: 0 1px 2px rgba(60, 64, 67, 0.3), 0 1px 3px 1px rgba(60, 64, 67, 0.15);\n",
              "    fill: var(--button-hover-fill-color);\n",
              "  }\n",
              "\n",
              "  .colab-df-quickchart-complete:disabled,\n",
              "  .colab-df-quickchart-complete:disabled:hover {\n",
              "    background-color: var(--disabled-bg-color);\n",
              "    fill: var(--disabled-fill-color);\n",
              "    box-shadow: none;\n",
              "  }\n",
              "\n",
              "  .colab-df-spinner {\n",
              "    border: 2px solid var(--fill-color);\n",
              "    border-color: transparent;\n",
              "    border-bottom-color: var(--fill-color);\n",
              "    animation:\n",
              "      spin 1s steps(1) infinite;\n",
              "  }\n",
              "\n",
              "  @keyframes spin {\n",
              "    0% {\n",
              "      border-color: transparent;\n",
              "      border-bottom-color: var(--fill-color);\n",
              "      border-left-color: var(--fill-color);\n",
              "    }\n",
              "    20% {\n",
              "      border-color: transparent;\n",
              "      border-left-color: var(--fill-color);\n",
              "      border-top-color: var(--fill-color);\n",
              "    }\n",
              "    30% {\n",
              "      border-color: transparent;\n",
              "      border-left-color: var(--fill-color);\n",
              "      border-top-color: var(--fill-color);\n",
              "      border-right-color: var(--fill-color);\n",
              "    }\n",
              "    40% {\n",
              "      border-color: transparent;\n",
              "      border-right-color: var(--fill-color);\n",
              "      border-top-color: var(--fill-color);\n",
              "    }\n",
              "    60% {\n",
              "      border-color: transparent;\n",
              "      border-right-color: var(--fill-color);\n",
              "    }\n",
              "    80% {\n",
              "      border-color: transparent;\n",
              "      border-right-color: var(--fill-color);\n",
              "      border-bottom-color: var(--fill-color);\n",
              "    }\n",
              "    90% {\n",
              "      border-color: transparent;\n",
              "      border-bottom-color: var(--fill-color);\n",
              "    }\n",
              "  }\n",
              "</style>\n",
              "\n",
              "  <script>\n",
              "    async function quickchart(key) {\n",
              "      const quickchartButtonEl =\n",
              "        document.querySelector('#' + key + ' button');\n",
              "      quickchartButtonEl.disabled = true;  // To prevent multiple clicks.\n",
              "      quickchartButtonEl.classList.add('colab-df-spinner');\n",
              "      try {\n",
              "        const charts = await google.colab.kernel.invokeFunction(\n",
              "            'suggestCharts', [key], {});\n",
              "      } catch (error) {\n",
              "        console.error('Error during call to suggestCharts:', error);\n",
              "      }\n",
              "      quickchartButtonEl.classList.remove('colab-df-spinner');\n",
              "      quickchartButtonEl.classList.add('colab-df-quickchart-complete');\n",
              "    }\n",
              "    (() => {\n",
              "      let quickchartButtonEl =\n",
              "        document.querySelector('#df-1a42f5c9-0628-4495-bfa8-253a0baca4b3 button');\n",
              "      quickchartButtonEl.style.display =\n",
              "        google.colab.kernel.accessAllowed ? 'block' : 'none';\n",
              "    })();\n",
              "  </script>\n",
              "</div>\n",
              "    </div>\n",
              "  </div>\n"
            ]
          },
          "metadata": {},
          "execution_count": 47
        }
      ]
    },
    {
      "cell_type": "code",
      "source": [
        "final_data.columns"
      ],
      "metadata": {
        "colab": {
          "base_uri": "https://localhost:8080/"
        },
        "id": "b52UZL_FFRRe",
        "outputId": "56abd33e-16f3-4037-80fc-968f2dda2681"
      },
      "execution_count": null,
      "outputs": [
        {
          "output_type": "execute_result",
          "data": {
            "text/plain": [
              "Index(['ID', 'Label'], dtype='object')"
            ]
          },
          "metadata": {},
          "execution_count": 48
        }
      ]
    },
    {
      "cell_type": "code",
      "source": [
        "final_data.shape"
      ],
      "metadata": {
        "colab": {
          "base_uri": "https://localhost:8080/"
        },
        "id": "oPH4pJ5faJ-o",
        "outputId": "589da9ed-eb5c-4ac7-ec49-c2c73bf8690d"
      },
      "execution_count": null,
      "outputs": [
        {
          "output_type": "execute_result",
          "data": {
            "text/plain": [
              "(2964, 2)"
            ]
          },
          "metadata": {},
          "execution_count": 49
        }
      ]
    },
    {
      "cell_type": "code",
      "source": [
        "final_data.to_csv('submission.csv', index=False)"
      ],
      "metadata": {
        "id": "wL-F8XuHFcew"
      },
      "execution_count": null,
      "outputs": []
    }
  ]
}