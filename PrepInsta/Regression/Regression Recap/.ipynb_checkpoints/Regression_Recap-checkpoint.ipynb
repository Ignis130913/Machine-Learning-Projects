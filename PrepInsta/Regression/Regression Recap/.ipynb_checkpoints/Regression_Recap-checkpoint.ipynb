{
 "cells": [
  {
   "cell_type": "code",
   "execution_count": 1,
   "id": "471ef844",
   "metadata": {
    "tags": []
   },
   "outputs": [],
   "source": [
    "import numpy as np\n",
    "import pandas as pd"
   ]
  },
  {
   "cell_type": "code",
   "execution_count": 2,
   "id": "68942fff",
   "metadata": {
    "tags": []
   },
   "outputs": [],
   "source": [
    "data=pd.read_csv('data.csv')"
   ]
  },
  {
   "cell_type": "code",
   "execution_count": 3,
   "id": "e57e29aa",
   "metadata": {
    "tags": []
   },
   "outputs": [
    {
     "data": {
      "text/html": [
       "<div>\n",
       "<style scoped>\n",
       "    .dataframe tbody tr th:only-of-type {\n",
       "        vertical-align: middle;\n",
       "    }\n",
       "\n",
       "    .dataframe tbody tr th {\n",
       "        vertical-align: top;\n",
       "    }\n",
       "\n",
       "    .dataframe thead th {\n",
       "        text-align: right;\n",
       "    }\n",
       "</style>\n",
       "<table border=\"1\" class=\"dataframe\">\n",
       "  <thead>\n",
       "    <tr style=\"text-align: right;\">\n",
       "      <th></th>\n",
       "      <th>Ambient Temperature</th>\n",
       "      <th>Exhaust Vacuum</th>\n",
       "      <th>Ambient Pressure</th>\n",
       "      <th>Relative Humidity</th>\n",
       "      <th>electrical energy output</th>\n",
       "    </tr>\n",
       "  </thead>\n",
       "  <tbody>\n",
       "    <tr>\n",
       "      <th>0</th>\n",
       "      <td>14.96</td>\n",
       "      <td>41.76</td>\n",
       "      <td>1024.07</td>\n",
       "      <td>73.17</td>\n",
       "      <td>463.26</td>\n",
       "    </tr>\n",
       "    <tr>\n",
       "      <th>1</th>\n",
       "      <td>25.18</td>\n",
       "      <td>62.96</td>\n",
       "      <td>1020.04</td>\n",
       "      <td>59.08</td>\n",
       "      <td>444.37</td>\n",
       "    </tr>\n",
       "    <tr>\n",
       "      <th>2</th>\n",
       "      <td>5.11</td>\n",
       "      <td>39.40</td>\n",
       "      <td>1012.16</td>\n",
       "      <td>92.14</td>\n",
       "      <td>488.56</td>\n",
       "    </tr>\n",
       "    <tr>\n",
       "      <th>3</th>\n",
       "      <td>20.86</td>\n",
       "      <td>57.32</td>\n",
       "      <td>1010.24</td>\n",
       "      <td>76.64</td>\n",
       "      <td>446.48</td>\n",
       "    </tr>\n",
       "    <tr>\n",
       "      <th>4</th>\n",
       "      <td>10.82</td>\n",
       "      <td>37.50</td>\n",
       "      <td>1009.23</td>\n",
       "      <td>96.62</td>\n",
       "      <td>473.90</td>\n",
       "    </tr>\n",
       "  </tbody>\n",
       "</table>\n",
       "</div>"
      ],
      "text/plain": [
       "   Ambient Temperature  Exhaust Vacuum  Ambient Pressure  Relative Humidity  \\\n",
       "0                14.96           41.76           1024.07              73.17   \n",
       "1                25.18           62.96           1020.04              59.08   \n",
       "2                 5.11           39.40           1012.16              92.14   \n",
       "3                20.86           57.32           1010.24              76.64   \n",
       "4                10.82           37.50           1009.23              96.62   \n",
       "\n",
       "   electrical energy output  \n",
       "0                    463.26  \n",
       "1                    444.37  \n",
       "2                    488.56  \n",
       "3                    446.48  \n",
       "4                    473.90  "
      ]
     },
     "execution_count": 3,
     "metadata": {},
     "output_type": "execute_result"
    }
   ],
   "source": [
    "data.head()"
   ]
  },
  {
   "cell_type": "code",
   "execution_count": 4,
   "id": "bfc3f95c",
   "metadata": {
    "tags": []
   },
   "outputs": [
    {
     "data": {
      "text/plain": [
       "(9568, 5)"
      ]
     },
     "execution_count": 4,
     "metadata": {},
     "output_type": "execute_result"
    }
   ],
   "source": [
    "data.shape"
   ]
  },
  {
   "cell_type": "code",
   "execution_count": 5,
   "id": "bc9a0efb",
   "metadata": {
    "tags": []
   },
   "outputs": [
    {
     "data": {
      "text/plain": [
       "Ambient Temperature         0\n",
       "Exhaust Vacuum              0\n",
       "Ambient Pressure            0\n",
       "Relative Humidity           0\n",
       "electrical energy output    0\n",
       "dtype: int64"
      ]
     },
     "execution_count": 5,
     "metadata": {},
     "output_type": "execute_result"
    }
   ],
   "source": [
    "data.isnull().sum()"
   ]
  },
  {
   "cell_type": "code",
   "execution_count": 6,
   "id": "9e442ee5",
   "metadata": {
    "tags": []
   },
   "outputs": [
    {
     "data": {
      "text/html": [
       "<div>\n",
       "<style scoped>\n",
       "    .dataframe tbody tr th:only-of-type {\n",
       "        vertical-align: middle;\n",
       "    }\n",
       "\n",
       "    .dataframe tbody tr th {\n",
       "        vertical-align: top;\n",
       "    }\n",
       "\n",
       "    .dataframe thead th {\n",
       "        text-align: right;\n",
       "    }\n",
       "</style>\n",
       "<table border=\"1\" class=\"dataframe\">\n",
       "  <thead>\n",
       "    <tr style=\"text-align: right;\">\n",
       "      <th></th>\n",
       "      <th>Ambient Temperature</th>\n",
       "      <th>Exhaust Vacuum</th>\n",
       "      <th>Ambient Pressure</th>\n",
       "      <th>Relative Humidity</th>\n",
       "      <th>electrical energy output</th>\n",
       "    </tr>\n",
       "  </thead>\n",
       "  <tbody>\n",
       "    <tr>\n",
       "      <th>count</th>\n",
       "      <td>9568.000000</td>\n",
       "      <td>9568.000000</td>\n",
       "      <td>9568.000000</td>\n",
       "      <td>9568.000000</td>\n",
       "      <td>9568.000000</td>\n",
       "    </tr>\n",
       "    <tr>\n",
       "      <th>mean</th>\n",
       "      <td>19.651231</td>\n",
       "      <td>54.305804</td>\n",
       "      <td>1013.259078</td>\n",
       "      <td>73.308978</td>\n",
       "      <td>454.365009</td>\n",
       "    </tr>\n",
       "    <tr>\n",
       "      <th>std</th>\n",
       "      <td>7.452473</td>\n",
       "      <td>12.707893</td>\n",
       "      <td>5.938784</td>\n",
       "      <td>14.600269</td>\n",
       "      <td>17.066995</td>\n",
       "    </tr>\n",
       "    <tr>\n",
       "      <th>min</th>\n",
       "      <td>1.810000</td>\n",
       "      <td>25.360000</td>\n",
       "      <td>992.890000</td>\n",
       "      <td>25.560000</td>\n",
       "      <td>420.260000</td>\n",
       "    </tr>\n",
       "    <tr>\n",
       "      <th>25%</th>\n",
       "      <td>13.510000</td>\n",
       "      <td>41.740000</td>\n",
       "      <td>1009.100000</td>\n",
       "      <td>63.327500</td>\n",
       "      <td>439.750000</td>\n",
       "    </tr>\n",
       "    <tr>\n",
       "      <th>50%</th>\n",
       "      <td>20.345000</td>\n",
       "      <td>52.080000</td>\n",
       "      <td>1012.940000</td>\n",
       "      <td>74.975000</td>\n",
       "      <td>451.550000</td>\n",
       "    </tr>\n",
       "    <tr>\n",
       "      <th>75%</th>\n",
       "      <td>25.720000</td>\n",
       "      <td>66.540000</td>\n",
       "      <td>1017.260000</td>\n",
       "      <td>84.830000</td>\n",
       "      <td>468.430000</td>\n",
       "    </tr>\n",
       "    <tr>\n",
       "      <th>max</th>\n",
       "      <td>37.110000</td>\n",
       "      <td>81.560000</td>\n",
       "      <td>1033.300000</td>\n",
       "      <td>100.160000</td>\n",
       "      <td>495.760000</td>\n",
       "    </tr>\n",
       "  </tbody>\n",
       "</table>\n",
       "</div>"
      ],
      "text/plain": [
       "       Ambient Temperature  Exhaust Vacuum  Ambient Pressure  \\\n",
       "count          9568.000000     9568.000000       9568.000000   \n",
       "mean             19.651231       54.305804       1013.259078   \n",
       "std               7.452473       12.707893          5.938784   \n",
       "min               1.810000       25.360000        992.890000   \n",
       "25%              13.510000       41.740000       1009.100000   \n",
       "50%              20.345000       52.080000       1012.940000   \n",
       "75%              25.720000       66.540000       1017.260000   \n",
       "max              37.110000       81.560000       1033.300000   \n",
       "\n",
       "       Relative Humidity  electrical energy output  \n",
       "count        9568.000000               9568.000000  \n",
       "mean           73.308978                454.365009  \n",
       "std            14.600269                 17.066995  \n",
       "min            25.560000                420.260000  \n",
       "25%            63.327500                439.750000  \n",
       "50%            74.975000                451.550000  \n",
       "75%            84.830000                468.430000  \n",
       "max           100.160000                495.760000  "
      ]
     },
     "execution_count": 6,
     "metadata": {},
     "output_type": "execute_result"
    }
   ],
   "source": [
    "data.describe()"
   ]
  },
  {
   "cell_type": "code",
   "execution_count": 7,
   "id": "74a9f404",
   "metadata": {
    "tags": []
   },
   "outputs": [],
   "source": [
    "data.rename(columns={'Ambient Temperature':'ambient_temperature','Exhaust Vacuum':'exhaust_vacuum','Relative Humidity':'relative_humidity','electrical energy output':'electrical_energy_output'},inplace=True)"
   ]
  },
  {
   "cell_type": "code",
   "execution_count": 8,
   "id": "77f066a1",
   "metadata": {
    "tags": []
   },
   "outputs": [
    {
     "data": {
      "text/html": [
       "<div>\n",
       "<style scoped>\n",
       "    .dataframe tbody tr th:only-of-type {\n",
       "        vertical-align: middle;\n",
       "    }\n",
       "\n",
       "    .dataframe tbody tr th {\n",
       "        vertical-align: top;\n",
       "    }\n",
       "\n",
       "    .dataframe thead th {\n",
       "        text-align: right;\n",
       "    }\n",
       "</style>\n",
       "<table border=\"1\" class=\"dataframe\">\n",
       "  <thead>\n",
       "    <tr style=\"text-align: right;\">\n",
       "      <th></th>\n",
       "      <th>ambient_temperature</th>\n",
       "      <th>exhaust_vacuum</th>\n",
       "      <th>Ambient Pressure</th>\n",
       "      <th>relative_humidity</th>\n",
       "      <th>electrical_energy_output</th>\n",
       "    </tr>\n",
       "  </thead>\n",
       "  <tbody>\n",
       "    <tr>\n",
       "      <th>ambient_temperature</th>\n",
       "      <td>1.000000</td>\n",
       "      <td>0.844107</td>\n",
       "      <td>-0.507549</td>\n",
       "      <td>-0.542535</td>\n",
       "      <td>-0.948128</td>\n",
       "    </tr>\n",
       "    <tr>\n",
       "      <th>exhaust_vacuum</th>\n",
       "      <td>0.844107</td>\n",
       "      <td>1.000000</td>\n",
       "      <td>-0.413502</td>\n",
       "      <td>-0.312187</td>\n",
       "      <td>-0.869780</td>\n",
       "    </tr>\n",
       "    <tr>\n",
       "      <th>Ambient Pressure</th>\n",
       "      <td>-0.507549</td>\n",
       "      <td>-0.413502</td>\n",
       "      <td>1.000000</td>\n",
       "      <td>0.099574</td>\n",
       "      <td>0.518429</td>\n",
       "    </tr>\n",
       "    <tr>\n",
       "      <th>relative_humidity</th>\n",
       "      <td>-0.542535</td>\n",
       "      <td>-0.312187</td>\n",
       "      <td>0.099574</td>\n",
       "      <td>1.000000</td>\n",
       "      <td>0.389794</td>\n",
       "    </tr>\n",
       "    <tr>\n",
       "      <th>electrical_energy_output</th>\n",
       "      <td>-0.948128</td>\n",
       "      <td>-0.869780</td>\n",
       "      <td>0.518429</td>\n",
       "      <td>0.389794</td>\n",
       "      <td>1.000000</td>\n",
       "    </tr>\n",
       "  </tbody>\n",
       "</table>\n",
       "</div>"
      ],
      "text/plain": [
       "                          ambient_temperature  exhaust_vacuum  \\\n",
       "ambient_temperature                  1.000000        0.844107   \n",
       "exhaust_vacuum                       0.844107        1.000000   \n",
       "Ambient Pressure                    -0.507549       -0.413502   \n",
       "relative_humidity                   -0.542535       -0.312187   \n",
       "electrical_energy_output            -0.948128       -0.869780   \n",
       "\n",
       "                          Ambient Pressure  relative_humidity  \\\n",
       "ambient_temperature              -0.507549          -0.542535   \n",
       "exhaust_vacuum                   -0.413502          -0.312187   \n",
       "Ambient Pressure                  1.000000           0.099574   \n",
       "relative_humidity                 0.099574           1.000000   \n",
       "electrical_energy_output          0.518429           0.389794   \n",
       "\n",
       "                          electrical_energy_output  \n",
       "ambient_temperature                      -0.948128  \n",
       "exhaust_vacuum                           -0.869780  \n",
       "Ambient Pressure                          0.518429  \n",
       "relative_humidity                         0.389794  \n",
       "electrical_energy_output                  1.000000  "
      ]
     },
     "execution_count": 8,
     "metadata": {},
     "output_type": "execute_result"
    }
   ],
   "source": [
    "data.corr()"
   ]
  },
  {
   "cell_type": "code",
   "execution_count": 10,
   "id": "3a427936-8b40-46fe-866d-dc70c437830e",
   "metadata": {
    "tags": []
   },
   "outputs": [
    {
     "name": "stdout",
     "output_type": "stream",
     "text": [
      "Collecting xgboost\n",
      "  Obtaining dependency information for xgboost from https://files.pythonhosted.org/packages/24/ec/ad387100fa3cc2b9b81af0829b5ecfe75ec5bb19dd7c19d4fea06fb81802/xgboost-2.0.3-py3-none-win_amd64.whl.metadata\n",
      "  Downloading xgboost-2.0.3-py3-none-win_amd64.whl.metadata (2.0 kB)\n",
      "Requirement already satisfied: numpy in c:\\users\\sreeram\\anaconda3\\lib\\site-packages (from xgboost) (1.24.3)\n",
      "Requirement already satisfied: scipy in c:\\users\\sreeram\\anaconda3\\lib\\site-packages (from xgboost) (1.11.1)\n",
      "Downloading xgboost-2.0.3-py3-none-win_amd64.whl (99.8 MB)\n",
      "   ---------------------------------------- 0.0/99.8 MB ? eta -:--:--\n",
      "   ---------------------------------------- 0.0/99.8 MB ? eta -:--:--\n",
      "   ---------------------------------------- 0.1/99.8 MB 1.1 MB/s eta 0:01:32\n",
      "   ---------------------------------------- 0.5/99.8 MB 5.6 MB/s eta 0:00:18\n",
      "    --------------------------------------- 2.2/99.8 MB 13.8 MB/s eta 0:00:08\n",
      "   - -------------------------------------- 3.7/99.8 MB 18.1 MB/s eta 0:00:06\n",
      "   -- ------------------------------------- 5.4/99.8 MB 23.1 MB/s eta 0:00:05\n",
      "   -- ------------------------------------- 6.8/99.8 MB 24.0 MB/s eta 0:00:04\n",
      "   --- ------------------------------------ 8.3/99.8 MB 25.3 MB/s eta 0:00:04\n",
      "   ---- ----------------------------------- 10.0/99.8 MB 27.8 MB/s eta 0:00:04\n",
      "   ---- ----------------------------------- 10.5/99.8 MB 29.8 MB/s eta 0:00:03\n",
      "   ---- ----------------------------------- 12.1/99.8 MB 31.2 MB/s eta 0:00:03\n",
      "   ----- ---------------------------------- 13.1/99.8 MB 31.2 MB/s eta 0:00:03\n",
      "   ------ --------------------------------- 15.1/99.8 MB 31.2 MB/s eta 0:00:03\n",
      "   ------ --------------------------------- 16.9/99.8 MB 29.7 MB/s eta 0:00:03\n",
      "   ------- -------------------------------- 18.7/99.8 MB 31.2 MB/s eta 0:00:03\n",
      "   ------- -------------------------------- 19.5/99.8 MB 28.4 MB/s eta 0:00:03\n",
      "   -------- ------------------------------- 20.7/99.8 MB 31.2 MB/s eta 0:00:03\n",
      "   -------- ------------------------------- 22.0/99.8 MB 29.8 MB/s eta 0:00:03\n",
      "   --------- ------------------------------ 23.5/99.8 MB 31.2 MB/s eta 0:00:03\n",
      "   ---------- ----------------------------- 25.3/99.8 MB 31.2 MB/s eta 0:00:03\n",
      "   ---------- ----------------------------- 27.4/99.8 MB 31.2 MB/s eta 0:00:03\n",
      "   ----------- ---------------------------- 29.3/99.8 MB 34.4 MB/s eta 0:00:03\n",
      "   ------------ --------------------------- 30.1/99.8 MB 32.7 MB/s eta 0:00:03\n",
      "   ------------ --------------------------- 31.3/99.8 MB 32.7 MB/s eta 0:00:03\n",
      "   ------------- -------------------------- 32.9/99.8 MB 34.4 MB/s eta 0:00:02\n",
      "   ------------- -------------------------- 34.3/99.8 MB 34.4 MB/s eta 0:00:02\n",
      "   -------------- ------------------------- 35.9/99.8 MB 36.4 MB/s eta 0:00:02\n",
      "   -------------- ------------------------- 37.0/99.8 MB 32.7 MB/s eta 0:00:02\n",
      "   --------------- ------------------------ 38.3/99.8 MB 32.7 MB/s eta 0:00:02\n",
      "   --------------- ------------------------ 39.7/99.8 MB 32.7 MB/s eta 0:00:02\n",
      "   ---------------- ----------------------- 41.2/99.8 MB 34.4 MB/s eta 0:00:02\n",
      "   ---------------- ----------------------- 42.3/99.8 MB 32.7 MB/s eta 0:00:02\n",
      "   ----------------- ---------------------- 44.2/99.8 MB 31.2 MB/s eta 0:00:02\n",
      "   ------------------ --------------------- 45.4/99.8 MB 31.2 MB/s eta 0:00:02\n",
      "   ------------------ --------------------- 47.2/99.8 MB 31.2 MB/s eta 0:00:02\n",
      "   ------------------- -------------------- 49.2/99.8 MB 32.7 MB/s eta 0:00:02\n",
      "   -------------------- ------------------- 51.0/99.8 MB 32.7 MB/s eta 0:00:02\n",
      "   --------------------- ------------------ 52.6/99.8 MB 36.3 MB/s eta 0:00:02\n",
      "   --------------------- ------------------ 54.4/99.8 MB 36.4 MB/s eta 0:00:02\n",
      "   ---------------------- ----------------- 56.2/99.8 MB 38.6 MB/s eta 0:00:02\n",
      "   ----------------------- ---------------- 58.1/99.8 MB 36.4 MB/s eta 0:00:02\n",
      "   ----------------------- ---------------- 59.8/99.8 MB 36.4 MB/s eta 0:00:02\n",
      "   ------------------------ --------------- 61.0/99.8 MB 34.4 MB/s eta 0:00:02\n",
      "   ------------------------ --------------- 62.2/99.8 MB 32.7 MB/s eta 0:00:02\n",
      "   ------------------------- -------------- 63.9/99.8 MB 32.7 MB/s eta 0:00:02\n",
      "   -------------------------- ------------- 65.6/99.8 MB 32.7 MB/s eta 0:00:02\n",
      "   -------------------------- ------------- 67.2/99.8 MB 32.8 MB/s eta 0:00:01\n",
      "   --------------------------- ------------ 69.0/99.8 MB 32.8 MB/s eta 0:00:01\n",
      "   ---------------------------- ----------- 70.5/99.8 MB 34.4 MB/s eta 0:00:01\n",
      "   ---------------------------- ----------- 72.3/99.8 MB 34.4 MB/s eta 0:00:01\n",
      "   ----------------------------- ---------- 74.2/99.8 MB 36.4 MB/s eta 0:00:01\n",
      "   ------------------------------ --------- 75.3/99.8 MB 34.4 MB/s eta 0:00:01\n",
      "   ------------------------------ --------- 76.5/99.8 MB 32.7 MB/s eta 0:00:01\n",
      "   ------------------------------- -------- 78.2/99.8 MB 34.4 MB/s eta 0:00:01\n",
      "   ------------------------------- -------- 79.6/99.8 MB 34.4 MB/s eta 0:00:01\n",
      "   -------------------------------- ------- 81.3/99.8 MB 32.8 MB/s eta 0:00:01\n",
      "   -------------------------------- ------- 81.9/99.8 MB 29.7 MB/s eta 0:00:01\n",
      "   --------------------------------- ------ 83.5/99.8 MB 29.7 MB/s eta 0:00:01\n",
      "   ---------------------------------- ----- 85.4/99.8 MB 29.7 MB/s eta 0:00:01\n",
      "   ---------------------------------- ----- 87.0/99.8 MB 32.7 MB/s eta 0:00:01\n",
      "   ----------------------------------- ---- 88.7/99.8 MB 31.2 MB/s eta 0:00:01\n",
      "   ----------------------------------- ---- 89.4/99.8 MB 29.7 MB/s eta 0:00:01\n",
      "   ------------------------------------ --- 90.6/99.8 MB 29.8 MB/s eta 0:00:01\n",
      "   ------------------------------------ --- 91.6/99.8 MB 27.3 MB/s eta 0:00:01\n",
      "   ------------------------------------- -- 93.4/99.8 MB 31.2 MB/s eta 0:00:01\n",
      "   -------------------------------------- - 95.2/99.8 MB 31.2 MB/s eta 0:00:01\n",
      "   -------------------------------------- - 97.2/99.8 MB 31.2 MB/s eta 0:00:01\n",
      "   ---------------------------------------  99.0/99.8 MB 32.7 MB/s eta 0:00:01\n",
      "   ---------------------------------------  99.7/99.8 MB 36.4 MB/s eta 0:00:01\n",
      "   ---------------------------------------  99.7/99.8 MB 36.4 MB/s eta 0:00:01\n",
      "   ---------------------------------------  99.7/99.8 MB 36.4 MB/s eta 0:00:01\n",
      "   ---------------------------------------  99.7/99.8 MB 36.4 MB/s eta 0:00:01\n",
      "   ---------------------------------------  99.7/99.8 MB 36.4 MB/s eta 0:00:01\n",
      "   ---------------------------------------- 99.8/99.8 MB 18.7 MB/s eta 0:00:00\n",
      "Installing collected packages: xgboost\n",
      "Successfully installed xgboost-2.0.3\n",
      "Note: you may need to restart the kernel to use updated packages.\n"
     ]
    }
   ],
   "source": [
    "pip install xgboost"
   ]
  },
  {
   "cell_type": "code",
   "execution_count": 11,
   "id": "ae2b798f-061c-4531-9b00-796abff110d9",
   "metadata": {
    "tags": []
   },
   "outputs": [],
   "source": [
    "import xgboost as xgb\n",
    "from xgboost import XGBRegressor"
   ]
  },
  {
   "cell_type": "code",
   "execution_count": 12,
   "id": "5d3682f0",
   "metadata": {
    "tags": []
   },
   "outputs": [],
   "source": [
    "from sklearn.linear_model import LinearRegression,Ridge\n",
    "from sklearn.svm import SVR\n",
    "from sklearn.ensemble import RandomForestRegressor"
   ]
  },
  {
   "cell_type": "code",
   "execution_count": 13,
   "id": "1504e285",
   "metadata": {
    "tags": []
   },
   "outputs": [],
   "source": [
    "models={\n",
    "    'Linear_Regression':LinearRegression(),\n",
    "    'Support_Vector_Regression':SVR(),\n",
    "    'Random_Forest_Regression':RandomForestRegressor(n_estimators=12,random_state=42),\n",
    "    'Ridge':Ridge(),\n",
    "    'XGB_Regressor':XGBRegressor()\n",
    "}"
   ]
  },
  {
   "cell_type": "code",
   "execution_count": 14,
   "id": "930fa54b",
   "metadata": {
    "tags": []
   },
   "outputs": [],
   "source": [
    "from sklearn.model_selection import train_test_split\n",
    "from sklearn.metrics import r2_score"
   ]
  },
  {
   "cell_type": "code",
   "execution_count": 15,
   "id": "4f1650df",
   "metadata": {
    "tags": []
   },
   "outputs": [],
   "source": [
    "import matplotlib.pyplot as plt"
   ]
  },
  {
   "cell_type": "code",
   "execution_count": 16,
   "id": "85a13aee",
   "metadata": {
    "tags": []
   },
   "outputs": [],
   "source": [
    "def show_plot(x,y):\n",
    "    plt.figure(figsize=(8, 6))\n",
    "    plt.scatter(x,y,color='red')\n",
    "    plt.gca().set_facecolor('#E5E5E5')\n",
    "    plt.grid(True,linestyle='--',alpha=0.6)\n",
    "    plt.show()"
   ]
  },
  {
   "cell_type": "code",
   "execution_count": 17,
   "id": "83c84e6c",
   "metadata": {
    "tags": []
   },
   "outputs": [],
   "source": [
    "def model_selection(x,y,t_size,r_state):\n",
    "    x_train,x_test,y_train,y_test=train_test_split(x,y,test_size=t_size,random_state=r_state)\n",
    "    for model_name,model in models.items():\n",
    "        regression=model\n",
    "        regression.fit(x_train,y_train)\n",
    "        train_pred=regression.predict(x_train)\n",
    "        print('Analyzing =>',model_name)\n",
    "        print('R2 Score of training dataset')\n",
    "        print(r2_score(y_train,train_pred))\n",
    "        print('Visualizing Predictions of training data')\n",
    "        #show_plot(x,y,y_train,train_pred)\n",
    "        test_pred=regression.predict(x_test)\n",
    "        print('R2 Score of test dataset')\n",
    "        print(r2_score(y_test,test_pred))\n",
    "        print('Visualizing Predictions of test data')\n",
    "        #show_plot(x,y,y_test,test_pred)\n",
    "        print()\n",
    "        print('------------------------------------------------------------')\n",
    "        print()"
   ]
  },
  {
   "cell_type": "code",
   "execution_count": 18,
   "id": "adea6098",
   "metadata": {
    "tags": []
   },
   "outputs": [],
   "source": [
    "from sklearn.preprocessing import StandardScaler"
   ]
  },
  {
   "cell_type": "code",
   "execution_count": 19,
   "id": "0a1c9a7c",
   "metadata": {
    "tags": []
   },
   "outputs": [],
   "source": [
    "scaler=StandardScaler()"
   ]
  },
  {
   "cell_type": "code",
   "execution_count": 20,
   "id": "a553c2bd",
   "metadata": {
    "tags": []
   },
   "outputs": [],
   "source": [
    "x=data.iloc[:,:-1]\n",
    "y=data.iloc[:,-1]"
   ]
  },
  {
   "cell_type": "code",
   "execution_count": 21,
   "id": "571a2b33",
   "metadata": {
    "tags": []
   },
   "outputs": [],
   "source": [
    "x_scaler=scaler.fit_transform(x)"
   ]
  },
  {
   "cell_type": "code",
   "execution_count": 22,
   "id": "00e49d1c",
   "metadata": {
    "tags": []
   },
   "outputs": [
    {
     "name": "stdout",
     "output_type": "stream",
     "text": [
      "Analyzing => Linear_Regression\n",
      "R2 Score of training dataset\n",
      "0.928331545565795\n",
      "Visualizing Predictions of training data\n",
      "R2 Score of test dataset\n",
      "0.9301046431962188\n",
      "Visualizing Predictions of test data\n",
      "\n",
      "------------------------------------------------------------\n",
      "\n",
      "Analyzing => Support_Vector_Regression\n",
      "R2 Score of training dataset\n",
      "0.9407824561073126\n",
      "Visualizing Predictions of training data\n",
      "R2 Score of test dataset\n",
      "0.942164272573348\n",
      "Visualizing Predictions of test data\n",
      "\n",
      "------------------------------------------------------------\n",
      "\n",
      "Analyzing => Random_Forest_Regression\n",
      "R2 Score of training dataset\n",
      "0.992797708897883\n",
      "Visualizing Predictions of training data\n",
      "R2 Score of test dataset\n",
      "0.9596912789204433\n",
      "Visualizing Predictions of test data\n",
      "\n",
      "------------------------------------------------------------\n",
      "\n",
      "Analyzing => Ridge\n",
      "R2 Score of training dataset\n",
      "0.9283314805158668\n",
      "Visualizing Predictions of training data\n",
      "R2 Score of test dataset\n",
      "0.930108492047272\n",
      "Visualizing Predictions of test data\n",
      "\n",
      "------------------------------------------------------------\n",
      "\n",
      "Analyzing => XGB_Regressor\n",
      "R2 Score of training dataset\n",
      "0.9882924228173167\n",
      "Visualizing Predictions of training data\n",
      "R2 Score of test dataset\n",
      "0.9686406948910005\n",
      "Visualizing Predictions of test data\n",
      "\n",
      "------------------------------------------------------------\n",
      "\n"
     ]
    }
   ],
   "source": [
    "model_selection(x_scaler,y,.2,42)"
   ]
  },
  {
   "cell_type": "code",
   "execution_count": 23,
   "id": "718619cb",
   "metadata": {
    "tags": []
   },
   "outputs": [
    {
     "name": "stdout",
     "output_type": "stream",
     "text": [
      "Analyzing => Linear_Regression\n",
      "R2 Score of training dataset\n",
      "0.928331545565795\n",
      "Visualizing Predictions of training data\n",
      "R2 Score of test dataset\n",
      "0.9301046431962188\n",
      "Visualizing Predictions of test data\n",
      "\n",
      "------------------------------------------------------------\n",
      "\n",
      "Analyzing => Support_Vector_Regression\n",
      "R2 Score of training dataset\n",
      "0.3842212521437096\n",
      "Visualizing Predictions of training data\n",
      "R2 Score of test dataset\n",
      "0.38951004564542047\n",
      "Visualizing Predictions of test data\n",
      "\n",
      "------------------------------------------------------------\n",
      "\n",
      "Analyzing => Random_Forest_Regression\n",
      "R2 Score of training dataset\n",
      "0.9927767311506587\n",
      "Visualizing Predictions of training data\n",
      "R2 Score of test dataset\n",
      "0.9598052433445434\n",
      "Visualizing Predictions of test data\n",
      "\n",
      "------------------------------------------------------------\n",
      "\n",
      "Analyzing => Ridge\n",
      "R2 Score of training dataset\n",
      "0.9283315455428218\n",
      "Visualizing Predictions of training data\n",
      "R2 Score of test dataset\n",
      "0.9301047172736033\n",
      "Visualizing Predictions of test data\n",
      "\n",
      "------------------------------------------------------------\n",
      "\n",
      "Analyzing => XGB_Regressor\n",
      "R2 Score of training dataset\n",
      "0.9882924228173167\n",
      "Visualizing Predictions of training data\n",
      "R2 Score of test dataset\n",
      "0.9686406948910005\n",
      "Visualizing Predictions of test data\n",
      "\n",
      "------------------------------------------------------------\n",
      "\n"
     ]
    }
   ],
   "source": [
    "model_selection(x,y,.2,42)"
   ]
  },
  {
   "cell_type": "code",
   "execution_count": 24,
   "id": "bfceb407",
   "metadata": {
    "tags": []
   },
   "outputs": [],
   "source": [
    "def make_prediction(model):\n",
    "    test_cases=[\n",
    "        [11.04,41.74,1022.6,77.51],\n",
    "        [14.96,41.76,1024.07,73.17],\n",
    "        [25.18,62.96,1020.04,59.08],\n",
    "        [5.11,39.4,1012.16,92.14]\n",
    "    ]\n",
    "    for test_case in test_cases: print(model.predict(np.array(test_case).reshape(1,4)))"
   ]
  },
  {
   "cell_type": "code",
   "execution_count": 25,
   "id": "7173271c",
   "metadata": {
    "tags": []
   },
   "outputs": [],
   "source": [
    "def model_creation(regression,x,y):\n",
    "    model=regression\n",
    "    model.fit(x,y)\n",
    "    make_prediction(model)"
   ]
  },
  {
   "cell_type": "code",
   "execution_count": 28,
   "id": "e7eb93d3",
   "metadata": {
    "tags": []
   },
   "outputs": [
    {
     "name": "stdout",
     "output_type": "stream",
     "text": [
      "[476.6695]\n",
      "[463.6315]\n",
      "[444.1005]\n",
      "[488.0845]\n"
     ]
    }
   ],
   "source": [
    "model_creation(RandomForestRegressor(n_estimators=20,random_state=42),x,y)"
   ]
  },
  {
   "cell_type": "code",
   "execution_count": 27,
   "id": "699cf3c8",
   "metadata": {
    "tags": []
   },
   "outputs": [],
   "source": [
    "import warnings\n",
    "warnings.filterwarnings('ignore')"
   ]
  },
  {
   "cell_type": "code",
   "execution_count": 29,
   "id": "a195f30c-64fe-479a-87be-e65f1e0235c8",
   "metadata": {
    "tags": []
   },
   "outputs": [
    {
     "name": "stdout",
     "output_type": "stream",
     "text": [
      "[476.88724]\n",
      "[463.63425]\n",
      "[444.67712]\n",
      "[487.82715]\n"
     ]
    }
   ],
   "source": [
    "model_creation(XGBRegressor(),x,y)"
   ]
  }
 ],
 "metadata": {
  "kernelspec": {
   "display_name": "Python 3 (ipykernel)",
   "language": "python",
   "name": "python3"
  },
  "language_info": {
   "codemirror_mode": {
    "name": "ipython",
    "version": 3
   },
   "file_extension": ".py",
   "mimetype": "text/x-python",
   "name": "python",
   "nbconvert_exporter": "python",
   "pygments_lexer": "ipython3",
   "version": "3.11.5"
  }
 },
 "nbformat": 4,
 "nbformat_minor": 5
}
